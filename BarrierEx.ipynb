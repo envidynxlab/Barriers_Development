{
 "cells": [
  {
   "cell_type": "code",
   "execution_count": 1,
   "metadata": {},
   "outputs": [
    {
     "data": {
      "text/plain": [
       "'0.16.2'"
      ]
     },
     "execution_count": 1,
     "metadata": {},
     "output_type": "execute_result"
    }
   ],
   "source": [
    "import os\n",
    "\n",
    "# Import packages needed to extract road network using a polygon\n",
    "import osmnx as ox\n",
    "import geopandas\n",
    "\n",
    "# Import packages to extract buildings using a polygon\n",
    "import matplotlib.pyplot as plt\n",
    "import osmnx as ox\n",
    "from IPython.display import Image\n",
    "%matplotlib inline\n",
    "ox.config(log_console=True, use_cache=True)\n",
    "ox.__version__"
   ]
  },
  {
   "cell_type": "code",
   "execution_count": 2,
   "metadata": {},
   "outputs": [],
   "source": [
    "# Read polygons\n",
    "FL1 = geopandas.read_file(\"C:\\\\Users\\\\Sofia\\\\Dropbox\\\\Barriers_US\\\\Polygons\\\\FL1_geo.shp\")"
   ]
  },
  {
   "cell_type": "code",
   "execution_count": 3,
   "metadata": {},
   "outputs": [],
   "source": [
    "# Extract just the geometry (shapely object) part\n",
    "FL1_geo = FL1['geometry'].iloc[0]"
   ]
  },
  {
   "cell_type": "code",
   "execution_count": 4,
   "metadata": {},
   "outputs": [
    {
     "data": {
      "text/plain": [
       "True"
      ]
     },
     "execution_count": 4,
     "metadata": {},
     "output_type": "execute_result"
    }
   ],
   "source": [
    "# Check if geometry is valid\n",
    "FL1_geo.is_valid"
   ]
  },
  {
   "cell_type": "code",
   "execution_count": null,
   "metadata": {},
   "outputs": [],
   "source": [
    "# If it is not, we clean it with a buffer\n",
    "# FL1_geo = FL1_geo.buffer(0)\n",
    "# FL1_geo.is_valid"
   ]
  },
  {
   "cell_type": "code",
   "execution_count": 5,
   "metadata": {},
   "outputs": [],
   "source": [
    "# Pull the roads with OSMnx and save it as shapefile\n",
    "FL1_net = ox.graph_from_polygon(FL1_geo)\n",
    "ox.save_graph_shapefile(FL1_net, filepath='C:\\\\Users\\\\Sofia\\\\Dropbox\\\\Barriers_US\\\\OSMnx\\\\Florida\\\\FL1_network')"
   ]
  },
  {
   "cell_type": "code",
   "execution_count": 6,
   "metadata": {},
   "outputs": [],
   "source": [
    "# Configure the inline image display\n",
    "img_folder = 'images'\n",
    "extension = 'png'\n",
    "size = 240\n",
    "\n",
    "# Specify that we're retrieving building footprint geometries\n",
    "tags = {'building': True}"
   ]
  },
  {
   "cell_type": "code",
   "execution_count": 7,
   "metadata": {},
   "outputs": [],
   "source": [
    "# Extract buildings using polygon and save footprints as shp\n",
    "FL1_ft = ox.geometries_from_polygon(FL1_geo, tags)\n",
    "FL1_ft_save = FL1_ft.applymap(lambda x: str(x) if isinstance(x, list) else x)\n",
    "FL1_ft_save.drop(labels='nodes', axis=1).to_file('C:\\\\Users\\\\Sofia\\\\Dropbox\\\\Barriers_US\\\\OSMnx\\\\Florida\\\\FL1_footprints.shp')"
   ]
  }
 ],
 "metadata": {
  "kernelspec": {
   "display_name": "Python 3",
   "language": "python",
   "name": "python3"
  },
  "language_info": {
   "codemirror_mode": {
    "name": "ipython",
    "version": 3
   },
   "file_extension": ".py",
   "mimetype": "text/x-python",
   "name": "python",
   "nbconvert_exporter": "python",
   "pygments_lexer": "ipython3",
   "version": "3.9.1"
  }
 },
 "nbformat": 4,
 "nbformat_minor": 4
}
