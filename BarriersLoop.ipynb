{
 "cells": [
  {
   "cell_type": "code",
   "execution_count": null,
   "metadata": {},
   "outputs": [],
   "source": [
    "import os\n",
    "\n",
    "# Import packages needed to extract road network using a polygon\n",
    "import osmnx as ox\n",
    "import geopandas\n",
    "\n",
    "# Import packages to extract buildings using a polygon\n",
    "import matplotlib.pyplot as plt\n",
    "import osmnx as ox\n",
    "from IPython.display import Image\n",
    "%matplotlib inline\n",
    "ox.config(log_console=True, use_cache=True)\n",
    "ox.__version__"
   ]
  },
  {
   "cell_type": "code",
   "execution_count": null,
   "metadata": {},
   "outputs": [],
   "source": [
    "# Extract network for each polygon and save it in folders with different names. \n",
    "# The try and except command helps to avoid errors that interrumpt the code when a particular polygon has no associated network.\n",
    "\n",
    "rootdir = 'C:\\\\Users\\\\Sofia\\\\Dropbox\\\\Barriers_US\\\\Polygons'\n",
    "extensions = ('.shp')\n",
    "\n",
    "for subdir, dirs, files in os.walk(rootdir):\n",
    "    for file in files:\n",
    "        try:\n",
    "            ext = os.path.splitext(file)[-1].lower()\n",
    "            if ext in extensions:\n",
    "                print (os.path.join(subdir, file))\n",
    "                file_path = os.path.join(subdir, file)\n",
    "            \n",
    "                #polygon\n",
    "                polygon = geopandas.read_file(file_path)\n",
    "            \n",
    "                # Extract just the geometry (shapely object) part\n",
    "                geom = polygon['geometry'].iloc[0]\n",
    "            \n",
    "                # Make geometry valid\n",
    "                geom = geom.buffer(0)\n",
    "                print(geom.is_valid)\n",
    "            \n",
    "                # Pull the roads with OSMnx and save it as shapefile and geopackage\n",
    "                net = ox.graph_from_polygon(geom)\n",
    "                ox.save_graph_shapefile(net, filepath = 'C:\\\\Users\\\\Sofia\\\\Dropbox\\\\Barriers_US\\\\Network\\\\{0}'.format(file))\n",
    "                ox.save_graph_geopackage(net, filepath = 'C:\\\\Users\\\\Sofia\\\\Dropbox\\\\Barriers_US\\\\Network2\\\\{0}.gpkg'.format(file))\n",
    "        except:\n",
    "            pass\n",
    "            "
   ]
  },
  {
   "cell_type": "code",
   "execution_count": null,
   "metadata": {},
   "outputs": [],
   "source": [
    "# Extract building footprints and save them\n",
    "\n",
    "rootdir = 'C:\\\\Users\\\\Sofia\\\\Dropbox\\\\Barriers_US\\\\Polygons'\n",
    "extensions = ('.shp')\n",
    "\n",
    "for subdir, dirs, files in os.walk(rootdir):\n",
    "    for file in files:\n",
    "        try:\n",
    "            ext = os.path.splitext(file)[-1].lower()\n",
    "            if ext in extensions:\n",
    "                print (os.path.join(subdir, file))\n",
    "                file_path = os.path.join(subdir, file)\n",
    "            \n",
    "                #polygon\n",
    "                polygon = geopandas.read_file(file_path)     \n",
    "            \n",
    "                # Extract just the geometry (shapely object) part\n",
    "                geom = polygon['geometry'].iloc[0]\n",
    "            \n",
    "                # Make geometry valid\n",
    "                geom = geom.buffer(0)\n",
    "                print(geom.is_valid)\n",
    "            \n",
    "                # Extract buildings using polygon and save footprints as shp\n",
    "                footprints = ox.geometries_from_polygon(geom, tags={'building':True})\n",
    "                footprints_save = footprints.applymap(lambda x: str(x) if isinstance(x, list) else x)\n",
    "                footprints_save.drop(labels='nodes', axis=1).to_file('C:\\\\Users\\\\Sofia\\\\Dropbox\\\\Barriers_US\\\\Buildings\\\\Buildings{0}'.format(file))\n",
    "            \n",
    "        except:\n",
    "            pass\n"
   ]
  },
  {
   "cell_type": "code",
   "execution_count": null,
   "metadata": {},
   "outputs": [],
   "source": []
  }
 ],
 "metadata": {
  "kernelspec": {
   "display_name": "Python 3",
   "language": "python",
   "name": "python3"
  },
  "language_info": {
   "codemirror_mode": {
    "name": "ipython",
    "version": 3
   },
   "file_extension": ".py",
   "mimetype": "text/x-python",
   "name": "python",
   "nbconvert_exporter": "python",
   "pygments_lexer": "ipython3",
   "version": "3.9.1"
  }
 },
 "nbformat": 4,
 "nbformat_minor": 4
}
