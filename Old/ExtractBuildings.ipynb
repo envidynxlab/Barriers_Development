{
 "cells": [
  {
   "cell_type": "code",
   "execution_count": 1,
   "id": "175cf27e",
   "metadata": {},
   "outputs": [
    {
     "name": "stdout",
     "output_type": "stream",
     "text": [
      "E:\\Barriers\\Polygons\\FL1.shp\n",
      "True\n"
     ]
    },
    {
     "name": "stderr",
     "output_type": "stream",
     "text": [
      "C:\\conda\\envs\\ox\\lib\\site-packages\\pygeos\\coordinates.py:107: DeprecationWarning: `np.object` is a deprecated alias for the builtin `object`. To silence this warning, use `object` by itself. Doing this will not modify any behavior and is safe. \n",
      "Deprecated in NumPy 1.20; for more details and guidance: https://numpy.org/devdocs/release/1.20.0-notes.html#deprecations\n",
      "  return lib.get_coordinates(np.asarray(geometry, dtype=np.object), include_z)\n",
      "C:\\conda\\envs\\ox\\lib\\site-packages\\pygeos\\coordinates.py:130: DeprecationWarning: `np.object` is a deprecated alias for the builtin `object`. To silence this warning, use `object` by itself. Doing this will not modify any behavior and is safe. \n",
      "Deprecated in NumPy 1.20; for more details and guidance: https://numpy.org/devdocs/release/1.20.0-notes.html#deprecations\n",
      "  geometry_arr = np.asarray(geometry, dtype=np.object)\n",
      "<ipython-input-1-2b7241b072db>:48: UserWarning: Column names longer than 10 characters will be truncated when saved to ESRI Shapefile.\n",
      "  footprints_save.drop(labels='nodes', axis=1).to_file('E:\\\\Barriers\\\\Buildings\\\\{0}'.format(file))\n"
     ]
    },
    {
     "name": "stdout",
     "output_type": "stream",
     "text": [
      "E:\\Barriers\\Polygons\\FL10.shp\n",
      "True\n",
      "E:\\Barriers\\Polygons\\FL11.shp\n",
      "True\n"
     ]
    },
    {
     "name": "stderr",
     "output_type": "stream",
     "text": [
      "C:\\conda\\envs\\ox\\lib\\site-packages\\pygeos\\strtree.py:55: DeprecationWarning: `np.object` is a deprecated alias for the builtin `object`. To silence this warning, use `object` by itself. Doing this will not modify any behavior and is safe. \n",
      "Deprecated in NumPy 1.20; for more details and guidance: https://numpy.org/devdocs/release/1.20.0-notes.html#deprecations\n",
      "  self.geometries = np.asarray(geometries, dtype=np.object)\n",
      "C:\\conda\\envs\\ox\\lib\\site-packages\\pygeos\\coordinates.py:107: DeprecationWarning: `np.object` is a deprecated alias for the builtin `object`. To silence this warning, use `object` by itself. Doing this will not modify any behavior and is safe. \n",
      "Deprecated in NumPy 1.20; for more details and guidance: https://numpy.org/devdocs/release/1.20.0-notes.html#deprecations\n",
      "  return lib.get_coordinates(np.asarray(geometry, dtype=np.object), include_z)\n",
      "C:\\conda\\envs\\ox\\lib\\site-packages\\pygeos\\coordinates.py:130: DeprecationWarning: `np.object` is a deprecated alias for the builtin `object`. To silence this warning, use `object` by itself. Doing this will not modify any behavior and is safe. \n",
      "Deprecated in NumPy 1.20; for more details and guidance: https://numpy.org/devdocs/release/1.20.0-notes.html#deprecations\n",
      "  geometry_arr = np.asarray(geometry, dtype=np.object)\n"
     ]
    },
    {
     "name": "stdout",
     "output_type": "stream",
     "text": [
      "E:\\Barriers\\Polygons\\FL12.shp\n",
      "True\n"
     ]
    },
    {
     "name": "stderr",
     "output_type": "stream",
     "text": [
      "<ipython-input-1-2b7241b072db>:48: UserWarning: Column names longer than 10 characters will be truncated when saved to ESRI Shapefile.\n",
      "  footprints_save.drop(labels='nodes', axis=1).to_file('E:\\\\Barriers\\\\Buildings\\\\{0}'.format(file))\n",
      "C:\\conda\\envs\\ox\\lib\\site-packages\\pygeos\\strtree.py:55: DeprecationWarning: `np.object` is a deprecated alias for the builtin `object`. To silence this warning, use `object` by itself. Doing this will not modify any behavior and is safe. \n",
      "Deprecated in NumPy 1.20; for more details and guidance: https://numpy.org/devdocs/release/1.20.0-notes.html#deprecations\n",
      "  self.geometries = np.asarray(geometries, dtype=np.object)\n",
      "C:\\conda\\envs\\ox\\lib\\site-packages\\pygeos\\coordinates.py:107: DeprecationWarning: `np.object` is a deprecated alias for the builtin `object`. To silence this warning, use `object` by itself. Doing this will not modify any behavior and is safe. \n",
      "Deprecated in NumPy 1.20; for more details and guidance: https://numpy.org/devdocs/release/1.20.0-notes.html#deprecations\n",
      "  return lib.get_coordinates(np.asarray(geometry, dtype=np.object), include_z)\n",
      "C:\\conda\\envs\\ox\\lib\\site-packages\\pygeos\\coordinates.py:130: DeprecationWarning: `np.object` is a deprecated alias for the builtin `object`. To silence this warning, use `object` by itself. Doing this will not modify any behavior and is safe. \n",
      "Deprecated in NumPy 1.20; for more details and guidance: https://numpy.org/devdocs/release/1.20.0-notes.html#deprecations\n",
      "  geometry_arr = np.asarray(geometry, dtype=np.object)\n",
      "<ipython-input-1-2b7241b072db>:48: UserWarning: Column names longer than 10 characters will be truncated when saved to ESRI Shapefile.\n",
      "  footprints_save.drop(labels='nodes', axis=1).to_file('E:\\\\Barriers\\\\Buildings\\\\{0}'.format(file))\n"
     ]
    },
    {
     "name": "stdout",
     "output_type": "stream",
     "text": [
      "E:\\Barriers\\Polygons\\FL13.shp\n",
      "True\n"
     ]
    },
    {
     "name": "stderr",
     "output_type": "stream",
     "text": [
      "C:\\conda\\envs\\ox\\lib\\site-packages\\pygeos\\strtree.py:55: DeprecationWarning: `np.object` is a deprecated alias for the builtin `object`. To silence this warning, use `object` by itself. Doing this will not modify any behavior and is safe. \n",
      "Deprecated in NumPy 1.20; for more details and guidance: https://numpy.org/devdocs/release/1.20.0-notes.html#deprecations\n",
      "  self.geometries = np.asarray(geometries, dtype=np.object)\n",
      "C:\\conda\\envs\\ox\\lib\\site-packages\\pygeos\\coordinates.py:107: DeprecationWarning: `np.object` is a deprecated alias for the builtin `object`. To silence this warning, use `object` by itself. Doing this will not modify any behavior and is safe. \n",
      "Deprecated in NumPy 1.20; for more details and guidance: https://numpy.org/devdocs/release/1.20.0-notes.html#deprecations\n",
      "  return lib.get_coordinates(np.asarray(geometry, dtype=np.object), include_z)\n",
      "C:\\conda\\envs\\ox\\lib\\site-packages\\pygeos\\coordinates.py:130: DeprecationWarning: `np.object` is a deprecated alias for the builtin `object`. To silence this warning, use `object` by itself. Doing this will not modify any behavior and is safe. \n",
      "Deprecated in NumPy 1.20; for more details and guidance: https://numpy.org/devdocs/release/1.20.0-notes.html#deprecations\n",
      "  geometry_arr = np.asarray(geometry, dtype=np.object)\n",
      "<ipython-input-1-2b7241b072db>:48: UserWarning: Column names longer than 10 characters will be truncated when saved to ESRI Shapefile.\n",
      "  footprints_save.drop(labels='nodes', axis=1).to_file('E:\\\\Barriers\\\\Buildings\\\\{0}'.format(file))\n"
     ]
    },
    {
     "name": "stdout",
     "output_type": "stream",
     "text": [
      "E:\\Barriers\\Polygons\\FL14.shp\n",
      "True\n"
     ]
    },
    {
     "name": "stderr",
     "output_type": "stream",
     "text": [
      "C:\\conda\\envs\\ox\\lib\\site-packages\\pygeos\\strtree.py:55: DeprecationWarning: `np.object` is a deprecated alias for the builtin `object`. To silence this warning, use `object` by itself. Doing this will not modify any behavior and is safe. \n",
      "Deprecated in NumPy 1.20; for more details and guidance: https://numpy.org/devdocs/release/1.20.0-notes.html#deprecations\n",
      "  self.geometries = np.asarray(geometries, dtype=np.object)\n",
      "C:\\conda\\envs\\ox\\lib\\site-packages\\pygeos\\coordinates.py:107: DeprecationWarning: `np.object` is a deprecated alias for the builtin `object`. To silence this warning, use `object` by itself. Doing this will not modify any behavior and is safe. \n",
      "Deprecated in NumPy 1.20; for more details and guidance: https://numpy.org/devdocs/release/1.20.0-notes.html#deprecations\n",
      "  return lib.get_coordinates(np.asarray(geometry, dtype=np.object), include_z)\n",
      "C:\\conda\\envs\\ox\\lib\\site-packages\\pygeos\\coordinates.py:130: DeprecationWarning: `np.object` is a deprecated alias for the builtin `object`. To silence this warning, use `object` by itself. Doing this will not modify any behavior and is safe. \n",
      "Deprecated in NumPy 1.20; for more details and guidance: https://numpy.org/devdocs/release/1.20.0-notes.html#deprecations\n",
      "  geometry_arr = np.asarray(geometry, dtype=np.object)\n",
      "<ipython-input-1-2b7241b072db>:48: UserWarning: Column names longer than 10 characters will be truncated when saved to ESRI Shapefile.\n",
      "  footprints_save.drop(labels='nodes', axis=1).to_file('E:\\\\Barriers\\\\Buildings\\\\{0}'.format(file))\n"
     ]
    },
    {
     "name": "stdout",
     "output_type": "stream",
     "text": [
      "E:\\Barriers\\Polygons\\FL15.shp\n",
      "True\n"
     ]
    },
    {
     "name": "stderr",
     "output_type": "stream",
     "text": [
      "C:\\conda\\envs\\ox\\lib\\site-packages\\pygeos\\strtree.py:55: DeprecationWarning: `np.object` is a deprecated alias for the builtin `object`. To silence this warning, use `object` by itself. Doing this will not modify any behavior and is safe. \n",
      "Deprecated in NumPy 1.20; for more details and guidance: https://numpy.org/devdocs/release/1.20.0-notes.html#deprecations\n",
      "  self.geometries = np.asarray(geometries, dtype=np.object)\n",
      "C:\\conda\\envs\\ox\\lib\\site-packages\\pygeos\\coordinates.py:107: DeprecationWarning: `np.object` is a deprecated alias for the builtin `object`. To silence this warning, use `object` by itself. Doing this will not modify any behavior and is safe. \n",
      "Deprecated in NumPy 1.20; for more details and guidance: https://numpy.org/devdocs/release/1.20.0-notes.html#deprecations\n",
      "  return lib.get_coordinates(np.asarray(geometry, dtype=np.object), include_z)\n",
      "C:\\conda\\envs\\ox\\lib\\site-packages\\pygeos\\coordinates.py:130: DeprecationWarning: `np.object` is a deprecated alias for the builtin `object`. To silence this warning, use `object` by itself. Doing this will not modify any behavior and is safe. \n",
      "Deprecated in NumPy 1.20; for more details and guidance: https://numpy.org/devdocs/release/1.20.0-notes.html#deprecations\n",
      "  geometry_arr = np.asarray(geometry, dtype=np.object)\n",
      "<ipython-input-1-2b7241b072db>:48: UserWarning: Column names longer than 10 characters will be truncated when saved to ESRI Shapefile.\n",
      "  footprints_save.drop(labels='nodes', axis=1).to_file('E:\\\\Barriers\\\\Buildings\\\\{0}'.format(file))\n"
     ]
    },
    {
     "name": "stdout",
     "output_type": "stream",
     "text": [
      "E:\\Barriers\\Polygons\\FL16.shp\n",
      "True\n"
     ]
    },
    {
     "name": "stderr",
     "output_type": "stream",
     "text": [
      "C:\\conda\\envs\\ox\\lib\\site-packages\\pygeos\\strtree.py:55: DeprecationWarning: `np.object` is a deprecated alias for the builtin `object`. To silence this warning, use `object` by itself. Doing this will not modify any behavior and is safe. \n",
      "Deprecated in NumPy 1.20; for more details and guidance: https://numpy.org/devdocs/release/1.20.0-notes.html#deprecations\n",
      "  self.geometries = np.asarray(geometries, dtype=np.object)\n",
      "C:\\conda\\envs\\ox\\lib\\site-packages\\pygeos\\coordinates.py:107: DeprecationWarning: `np.object` is a deprecated alias for the builtin `object`. To silence this warning, use `object` by itself. Doing this will not modify any behavior and is safe. \n",
      "Deprecated in NumPy 1.20; for more details and guidance: https://numpy.org/devdocs/release/1.20.0-notes.html#deprecations\n",
      "  return lib.get_coordinates(np.asarray(geometry, dtype=np.object), include_z)\n",
      "C:\\conda\\envs\\ox\\lib\\site-packages\\pygeos\\coordinates.py:130: DeprecationWarning: `np.object` is a deprecated alias for the builtin `object`. To silence this warning, use `object` by itself. Doing this will not modify any behavior and is safe. \n",
      "Deprecated in NumPy 1.20; for more details and guidance: https://numpy.org/devdocs/release/1.20.0-notes.html#deprecations\n",
      "  geometry_arr = np.asarray(geometry, dtype=np.object)\n",
      "<ipython-input-1-2b7241b072db>:48: UserWarning: Column names longer than 10 characters will be truncated when saved to ESRI Shapefile.\n",
      "  footprints_save.drop(labels='nodes', axis=1).to_file('E:\\\\Barriers\\\\Buildings\\\\{0}'.format(file))\n"
     ]
    },
    {
     "name": "stdout",
     "output_type": "stream",
     "text": [
      "E:\\Barriers\\Polygons\\FL17.shp\n",
      "True\n"
     ]
    },
    {
     "name": "stderr",
     "output_type": "stream",
     "text": [
      "C:\\conda\\envs\\ox\\lib\\site-packages\\pygeos\\strtree.py:55: DeprecationWarning: `np.object` is a deprecated alias for the builtin `object`. To silence this warning, use `object` by itself. Doing this will not modify any behavior and is safe. \n",
      "Deprecated in NumPy 1.20; for more details and guidance: https://numpy.org/devdocs/release/1.20.0-notes.html#deprecations\n",
      "  self.geometries = np.asarray(geometries, dtype=np.object)\n",
      "C:\\conda\\envs\\ox\\lib\\site-packages\\pygeos\\coordinates.py:107: DeprecationWarning: `np.object` is a deprecated alias for the builtin `object`. To silence this warning, use `object` by itself. Doing this will not modify any behavior and is safe. \n",
      "Deprecated in NumPy 1.20; for more details and guidance: https://numpy.org/devdocs/release/1.20.0-notes.html#deprecations\n",
      "  return lib.get_coordinates(np.asarray(geometry, dtype=np.object), include_z)\n",
      "C:\\conda\\envs\\ox\\lib\\site-packages\\pygeos\\coordinates.py:130: DeprecationWarning: `np.object` is a deprecated alias for the builtin `object`. To silence this warning, use `object` by itself. Doing this will not modify any behavior and is safe. \n",
      "Deprecated in NumPy 1.20; for more details and guidance: https://numpy.org/devdocs/release/1.20.0-notes.html#deprecations\n",
      "  geometry_arr = np.asarray(geometry, dtype=np.object)\n",
      "<ipython-input-1-2b7241b072db>:48: UserWarning: Column names longer than 10 characters will be truncated when saved to ESRI Shapefile.\n",
      "  footprints_save.drop(labels='nodes', axis=1).to_file('E:\\\\Barriers\\\\Buildings\\\\{0}'.format(file))\n"
     ]
    },
    {
     "name": "stdout",
     "output_type": "stream",
     "text": [
      "E:\\Barriers\\Polygons\\FL18.shp\n",
      "True\n"
     ]
    },
    {
     "name": "stderr",
     "output_type": "stream",
     "text": [
      "C:\\conda\\envs\\ox\\lib\\site-packages\\pygeos\\strtree.py:55: DeprecationWarning: `np.object` is a deprecated alias for the builtin `object`. To silence this warning, use `object` by itself. Doing this will not modify any behavior and is safe. \n",
      "Deprecated in NumPy 1.20; for more details and guidance: https://numpy.org/devdocs/release/1.20.0-notes.html#deprecations\n",
      "  self.geometries = np.asarray(geometries, dtype=np.object)\n",
      "C:\\conda\\envs\\ox\\lib\\site-packages\\pygeos\\coordinates.py:107: DeprecationWarning: `np.object` is a deprecated alias for the builtin `object`. To silence this warning, use `object` by itself. Doing this will not modify any behavior and is safe. \n",
      "Deprecated in NumPy 1.20; for more details and guidance: https://numpy.org/devdocs/release/1.20.0-notes.html#deprecations\n",
      "  return lib.get_coordinates(np.asarray(geometry, dtype=np.object), include_z)\n",
      "C:\\conda\\envs\\ox\\lib\\site-packages\\pygeos\\coordinates.py:130: DeprecationWarning: `np.object` is a deprecated alias for the builtin `object`. To silence this warning, use `object` by itself. Doing this will not modify any behavior and is safe. \n",
      "Deprecated in NumPy 1.20; for more details and guidance: https://numpy.org/devdocs/release/1.20.0-notes.html#deprecations\n",
      "  geometry_arr = np.asarray(geometry, dtype=np.object)\n",
      "<ipython-input-1-2b7241b072db>:48: UserWarning: Column names longer than 10 characters will be truncated when saved to ESRI Shapefile.\n",
      "  footprints_save.drop(labels='nodes', axis=1).to_file('E:\\\\Barriers\\\\Buildings\\\\{0}'.format(file))\n"
     ]
    },
    {
     "name": "stdout",
     "output_type": "stream",
     "text": [
      "E:\\Barriers\\Polygons\\FL19.shp\n",
      "True\n"
     ]
    },
    {
     "name": "stderr",
     "output_type": "stream",
     "text": [
      "C:\\conda\\envs\\ox\\lib\\site-packages\\pygeos\\strtree.py:55: DeprecationWarning: `np.object` is a deprecated alias for the builtin `object`. To silence this warning, use `object` by itself. Doing this will not modify any behavior and is safe. \n",
      "Deprecated in NumPy 1.20; for more details and guidance: https://numpy.org/devdocs/release/1.20.0-notes.html#deprecations\n",
      "  self.geometries = np.asarray(geometries, dtype=np.object)\n",
      "C:\\conda\\envs\\ox\\lib\\site-packages\\pygeos\\coordinates.py:107: DeprecationWarning: `np.object` is a deprecated alias for the builtin `object`. To silence this warning, use `object` by itself. Doing this will not modify any behavior and is safe. \n",
      "Deprecated in NumPy 1.20; for more details and guidance: https://numpy.org/devdocs/release/1.20.0-notes.html#deprecations\n",
      "  return lib.get_coordinates(np.asarray(geometry, dtype=np.object), include_z)\n",
      "C:\\conda\\envs\\ox\\lib\\site-packages\\pygeos\\coordinates.py:130: DeprecationWarning: `np.object` is a deprecated alias for the builtin `object`. To silence this warning, use `object` by itself. Doing this will not modify any behavior and is safe. \n",
      "Deprecated in NumPy 1.20; for more details and guidance: https://numpy.org/devdocs/release/1.20.0-notes.html#deprecations\n",
      "  geometry_arr = np.asarray(geometry, dtype=np.object)\n"
     ]
    },
    {
     "name": "stdout",
     "output_type": "stream",
     "text": [
      "E:\\Barriers\\Polygons\\FL2.shp\n",
      "True\n"
     ]
    },
    {
     "name": "stderr",
     "output_type": "stream",
     "text": [
      "<ipython-input-1-2b7241b072db>:48: UserWarning: Column names longer than 10 characters will be truncated when saved to ESRI Shapefile.\n",
      "  footprints_save.drop(labels='nodes', axis=1).to_file('E:\\\\Barriers\\\\Buildings\\\\{0}'.format(file))\n",
      "C:\\conda\\envs\\ox\\lib\\site-packages\\pygeos\\constructive.py:165: DeprecationWarning: `np.bool` is a deprecated alias for the builtin `bool`. To silence this warning, use `bool` by itself. Doing this will not modify any behavior and is safe. If you specifically wanted the numpy scalar type, use `np.bool_` here.\n",
      "Deprecated in NumPy 1.20; for more details and guidance: https://numpy.org/devdocs/release/1.20.0-notes.html#deprecations\n",
      "  np.bool(single_sided),\n",
      "C:\\conda\\envs\\ox\\lib\\site-packages\\pygeos\\strtree.py:55: DeprecationWarning: `np.object` is a deprecated alias for the builtin `object`. To silence this warning, use `object` by itself. Doing this will not modify any behavior and is safe. \n",
      "Deprecated in NumPy 1.20; for more details and guidance: https://numpy.org/devdocs/release/1.20.0-notes.html#deprecations\n",
      "  self.geometries = np.asarray(geometries, dtype=np.object)\n",
      "C:\\conda\\envs\\ox\\lib\\site-packages\\pygeos\\coordinates.py:107: DeprecationWarning: `np.object` is a deprecated alias for the builtin `object`. To silence this warning, use `object` by itself. Doing this will not modify any behavior and is safe. \n",
      "Deprecated in NumPy 1.20; for more details and guidance: https://numpy.org/devdocs/release/1.20.0-notes.html#deprecations\n",
      "  return lib.get_coordinates(np.asarray(geometry, dtype=np.object), include_z)\n",
      "C:\\conda\\envs\\ox\\lib\\site-packages\\pygeos\\coordinates.py:130: DeprecationWarning: `np.object` is a deprecated alias for the builtin `object`. To silence this warning, use `object` by itself. Doing this will not modify any behavior and is safe. \n",
      "Deprecated in NumPy 1.20; for more details and guidance: https://numpy.org/devdocs/release/1.20.0-notes.html#deprecations\n",
      "  geometry_arr = np.asarray(geometry, dtype=np.object)\n",
      "<ipython-input-1-2b7241b072db>:48: UserWarning: Column names longer than 10 characters will be truncated when saved to ESRI Shapefile.\n",
      "  footprints_save.drop(labels='nodes', axis=1).to_file('E:\\\\Barriers\\\\Buildings\\\\{0}'.format(file))\n"
     ]
    },
    {
     "name": "stdout",
     "output_type": "stream",
     "text": [
      "E:\\Barriers\\Polygons\\FL20.shp\n",
      "True\n"
     ]
    },
    {
     "name": "stderr",
     "output_type": "stream",
     "text": [
      "C:\\conda\\envs\\ox\\lib\\site-packages\\pygeos\\strtree.py:55: DeprecationWarning: `np.object` is a deprecated alias for the builtin `object`. To silence this warning, use `object` by itself. Doing this will not modify any behavior and is safe. \n",
      "Deprecated in NumPy 1.20; for more details and guidance: https://numpy.org/devdocs/release/1.20.0-notes.html#deprecations\n",
      "  self.geometries = np.asarray(geometries, dtype=np.object)\n",
      "C:\\conda\\envs\\ox\\lib\\site-packages\\pygeos\\coordinates.py:107: DeprecationWarning: `np.object` is a deprecated alias for the builtin `object`. To silence this warning, use `object` by itself. Doing this will not modify any behavior and is safe. \n",
      "Deprecated in NumPy 1.20; for more details and guidance: https://numpy.org/devdocs/release/1.20.0-notes.html#deprecations\n",
      "  return lib.get_coordinates(np.asarray(geometry, dtype=np.object), include_z)\n",
      "C:\\conda\\envs\\ox\\lib\\site-packages\\pygeos\\coordinates.py:130: DeprecationWarning: `np.object` is a deprecated alias for the builtin `object`. To silence this warning, use `object` by itself. Doing this will not modify any behavior and is safe. \n",
      "Deprecated in NumPy 1.20; for more details and guidance: https://numpy.org/devdocs/release/1.20.0-notes.html#deprecations\n",
      "  geometry_arr = np.asarray(geometry, dtype=np.object)\n",
      "<ipython-input-1-2b7241b072db>:48: UserWarning: Column names longer than 10 characters will be truncated when saved to ESRI Shapefile.\n",
      "  footprints_save.drop(labels='nodes', axis=1).to_file('E:\\\\Barriers\\\\Buildings\\\\{0}'.format(file))\n"
     ]
    },
    {
     "name": "stdout",
     "output_type": "stream",
     "text": [
      "E:\\Barriers\\Polygons\\FL21.shp\n",
      "True\n"
     ]
    },
    {
     "name": "stderr",
     "output_type": "stream",
     "text": [
      "C:\\conda\\envs\\ox\\lib\\site-packages\\pygeos\\strtree.py:55: DeprecationWarning: `np.object` is a deprecated alias for the builtin `object`. To silence this warning, use `object` by itself. Doing this will not modify any behavior and is safe. \n",
      "Deprecated in NumPy 1.20; for more details and guidance: https://numpy.org/devdocs/release/1.20.0-notes.html#deprecations\n",
      "  self.geometries = np.asarray(geometries, dtype=np.object)\n",
      "C:\\conda\\envs\\ox\\lib\\site-packages\\pygeos\\coordinates.py:107: DeprecationWarning: `np.object` is a deprecated alias for the builtin `object`. To silence this warning, use `object` by itself. Doing this will not modify any behavior and is safe. \n",
      "Deprecated in NumPy 1.20; for more details and guidance: https://numpy.org/devdocs/release/1.20.0-notes.html#deprecations\n",
      "  return lib.get_coordinates(np.asarray(geometry, dtype=np.object), include_z)\n",
      "C:\\conda\\envs\\ox\\lib\\site-packages\\pygeos\\coordinates.py:130: DeprecationWarning: `np.object` is a deprecated alias for the builtin `object`. To silence this warning, use `object` by itself. Doing this will not modify any behavior and is safe. \n",
      "Deprecated in NumPy 1.20; for more details and guidance: https://numpy.org/devdocs/release/1.20.0-notes.html#deprecations\n",
      "  geometry_arr = np.asarray(geometry, dtype=np.object)\n",
      "<ipython-input-1-2b7241b072db>:48: UserWarning: Column names longer than 10 characters will be truncated when saved to ESRI Shapefile.\n",
      "  footprints_save.drop(labels='nodes', axis=1).to_file('E:\\\\Barriers\\\\Buildings\\\\{0}'.format(file))\n"
     ]
    },
    {
     "name": "stdout",
     "output_type": "stream",
     "text": [
      "E:\\Barriers\\Polygons\\FL23.shp\n",
      "True\n"
     ]
    },
    {
     "name": "stderr",
     "output_type": "stream",
     "text": [
      "C:\\conda\\envs\\ox\\lib\\site-packages\\pygeos\\strtree.py:55: DeprecationWarning: `np.object` is a deprecated alias for the builtin `object`. To silence this warning, use `object` by itself. Doing this will not modify any behavior and is safe. \n",
      "Deprecated in NumPy 1.20; for more details and guidance: https://numpy.org/devdocs/release/1.20.0-notes.html#deprecations\n",
      "  self.geometries = np.asarray(geometries, dtype=np.object)\n",
      "C:\\conda\\envs\\ox\\lib\\site-packages\\pygeos\\coordinates.py:107: DeprecationWarning: `np.object` is a deprecated alias for the builtin `object`. To silence this warning, use `object` by itself. Doing this will not modify any behavior and is safe. \n",
      "Deprecated in NumPy 1.20; for more details and guidance: https://numpy.org/devdocs/release/1.20.0-notes.html#deprecations\n",
      "  return lib.get_coordinates(np.asarray(geometry, dtype=np.object), include_z)\n",
      "C:\\conda\\envs\\ox\\lib\\site-packages\\pygeos\\coordinates.py:130: DeprecationWarning: `np.object` is a deprecated alias for the builtin `object`. To silence this warning, use `object` by itself. Doing this will not modify any behavior and is safe. \n",
      "Deprecated in NumPy 1.20; for more details and guidance: https://numpy.org/devdocs/release/1.20.0-notes.html#deprecations\n",
      "  geometry_arr = np.asarray(geometry, dtype=np.object)\n",
      "<ipython-input-1-2b7241b072db>:48: UserWarning: Column names longer than 10 characters will be truncated when saved to ESRI Shapefile.\n",
      "  footprints_save.drop(labels='nodes', axis=1).to_file('E:\\\\Barriers\\\\Buildings\\\\{0}'.format(file))\n"
     ]
    },
    {
     "name": "stdout",
     "output_type": "stream",
     "text": [
      "E:\\Barriers\\Polygons\\FL24.shp\n",
      "True\n"
     ]
    },
    {
     "name": "stderr",
     "output_type": "stream",
     "text": [
      "C:\\conda\\envs\\ox\\lib\\site-packages\\pygeos\\strtree.py:55: DeprecationWarning: `np.object` is a deprecated alias for the builtin `object`. To silence this warning, use `object` by itself. Doing this will not modify any behavior and is safe. \n",
      "Deprecated in NumPy 1.20; for more details and guidance: https://numpy.org/devdocs/release/1.20.0-notes.html#deprecations\n",
      "  self.geometries = np.asarray(geometries, dtype=np.object)\n",
      "C:\\conda\\envs\\ox\\lib\\site-packages\\pygeos\\coordinates.py:107: DeprecationWarning: `np.object` is a deprecated alias for the builtin `object`. To silence this warning, use `object` by itself. Doing this will not modify any behavior and is safe. \n",
      "Deprecated in NumPy 1.20; for more details and guidance: https://numpy.org/devdocs/release/1.20.0-notes.html#deprecations\n",
      "  return lib.get_coordinates(np.asarray(geometry, dtype=np.object), include_z)\n",
      "C:\\conda\\envs\\ox\\lib\\site-packages\\pygeos\\coordinates.py:130: DeprecationWarning: `np.object` is a deprecated alias for the builtin `object`. To silence this warning, use `object` by itself. Doing this will not modify any behavior and is safe. \n",
      "Deprecated in NumPy 1.20; for more details and guidance: https://numpy.org/devdocs/release/1.20.0-notes.html#deprecations\n",
      "  geometry_arr = np.asarray(geometry, dtype=np.object)\n",
      "<ipython-input-1-2b7241b072db>:48: UserWarning: Column names longer than 10 characters will be truncated when saved to ESRI Shapefile.\n",
      "  footprints_save.drop(labels='nodes', axis=1).to_file('E:\\\\Barriers\\\\Buildings\\\\{0}'.format(file))\n"
     ]
    },
    {
     "name": "stdout",
     "output_type": "stream",
     "text": [
      "E:\\Barriers\\Polygons\\FL25.shp\n",
      "True\n"
     ]
    },
    {
     "name": "stderr",
     "output_type": "stream",
     "text": [
      "C:\\conda\\envs\\ox\\lib\\site-packages\\pygeos\\strtree.py:55: DeprecationWarning: `np.object` is a deprecated alias for the builtin `object`. To silence this warning, use `object` by itself. Doing this will not modify any behavior and is safe. \n",
      "Deprecated in NumPy 1.20; for more details and guidance: https://numpy.org/devdocs/release/1.20.0-notes.html#deprecations\n",
      "  self.geometries = np.asarray(geometries, dtype=np.object)\n",
      "C:\\conda\\envs\\ox\\lib\\site-packages\\pygeos\\coordinates.py:107: DeprecationWarning: `np.object` is a deprecated alias for the builtin `object`. To silence this warning, use `object` by itself. Doing this will not modify any behavior and is safe. \n",
      "Deprecated in NumPy 1.20; for more details and guidance: https://numpy.org/devdocs/release/1.20.0-notes.html#deprecations\n",
      "  return lib.get_coordinates(np.asarray(geometry, dtype=np.object), include_z)\n",
      "C:\\conda\\envs\\ox\\lib\\site-packages\\pygeos\\coordinates.py:130: DeprecationWarning: `np.object` is a deprecated alias for the builtin `object`. To silence this warning, use `object` by itself. Doing this will not modify any behavior and is safe. \n",
      "Deprecated in NumPy 1.20; for more details and guidance: https://numpy.org/devdocs/release/1.20.0-notes.html#deprecations\n",
      "  geometry_arr = np.asarray(geometry, dtype=np.object)\n",
      "<ipython-input-1-2b7241b072db>:48: UserWarning: Column names longer than 10 characters will be truncated when saved to ESRI Shapefile.\n",
      "  footprints_save.drop(labels='nodes', axis=1).to_file('E:\\\\Barriers\\\\Buildings\\\\{0}'.format(file))\n"
     ]
    },
    {
     "name": "stdout",
     "output_type": "stream",
     "text": [
      "E:\\Barriers\\Polygons\\FL26.shp\n",
      "True\n"
     ]
    },
    {
     "name": "stderr",
     "output_type": "stream",
     "text": [
      "C:\\conda\\envs\\ox\\lib\\site-packages\\pygeos\\strtree.py:55: DeprecationWarning: `np.object` is a deprecated alias for the builtin `object`. To silence this warning, use `object` by itself. Doing this will not modify any behavior and is safe. \n",
      "Deprecated in NumPy 1.20; for more details and guidance: https://numpy.org/devdocs/release/1.20.0-notes.html#deprecations\n",
      "  self.geometries = np.asarray(geometries, dtype=np.object)\n",
      "C:\\conda\\envs\\ox\\lib\\site-packages\\pygeos\\coordinates.py:107: DeprecationWarning: `np.object` is a deprecated alias for the builtin `object`. To silence this warning, use `object` by itself. Doing this will not modify any behavior and is safe. \n",
      "Deprecated in NumPy 1.20; for more details and guidance: https://numpy.org/devdocs/release/1.20.0-notes.html#deprecations\n",
      "  return lib.get_coordinates(np.asarray(geometry, dtype=np.object), include_z)\n",
      "C:\\conda\\envs\\ox\\lib\\site-packages\\pygeos\\coordinates.py:130: DeprecationWarning: `np.object` is a deprecated alias for the builtin `object`. To silence this warning, use `object` by itself. Doing this will not modify any behavior and is safe. \n",
      "Deprecated in NumPy 1.20; for more details and guidance: https://numpy.org/devdocs/release/1.20.0-notes.html#deprecations\n",
      "  geometry_arr = np.asarray(geometry, dtype=np.object)\n",
      "<ipython-input-1-2b7241b072db>:48: UserWarning: Column names longer than 10 characters will be truncated when saved to ESRI Shapefile.\n",
      "  footprints_save.drop(labels='nodes', axis=1).to_file('E:\\\\Barriers\\\\Buildings\\\\{0}'.format(file))\n"
     ]
    },
    {
     "name": "stdout",
     "output_type": "stream",
     "text": [
      "E:\\Barriers\\Polygons\\FL27.shp\n",
      "True\n"
     ]
    },
    {
     "name": "stderr",
     "output_type": "stream",
     "text": [
      "C:\\conda\\envs\\ox\\lib\\site-packages\\pygeos\\strtree.py:55: DeprecationWarning: `np.object` is a deprecated alias for the builtin `object`. To silence this warning, use `object` by itself. Doing this will not modify any behavior and is safe. \n",
      "Deprecated in NumPy 1.20; for more details and guidance: https://numpy.org/devdocs/release/1.20.0-notes.html#deprecations\n",
      "  self.geometries = np.asarray(geometries, dtype=np.object)\n",
      "C:\\conda\\envs\\ox\\lib\\site-packages\\pygeos\\coordinates.py:107: DeprecationWarning: `np.object` is a deprecated alias for the builtin `object`. To silence this warning, use `object` by itself. Doing this will not modify any behavior and is safe. \n",
      "Deprecated in NumPy 1.20; for more details and guidance: https://numpy.org/devdocs/release/1.20.0-notes.html#deprecations\n",
      "  return lib.get_coordinates(np.asarray(geometry, dtype=np.object), include_z)\n",
      "C:\\conda\\envs\\ox\\lib\\site-packages\\pygeos\\coordinates.py:130: DeprecationWarning: `np.object` is a deprecated alias for the builtin `object`. To silence this warning, use `object` by itself. Doing this will not modify any behavior and is safe. \n",
      "Deprecated in NumPy 1.20; for more details and guidance: https://numpy.org/devdocs/release/1.20.0-notes.html#deprecations\n",
      "  geometry_arr = np.asarray(geometry, dtype=np.object)\n",
      "<ipython-input-1-2b7241b072db>:48: UserWarning: Column names longer than 10 characters will be truncated when saved to ESRI Shapefile.\n",
      "  footprints_save.drop(labels='nodes', axis=1).to_file('E:\\\\Barriers\\\\Buildings\\\\{0}'.format(file))\n"
     ]
    },
    {
     "name": "stdout",
     "output_type": "stream",
     "text": [
      "E:\\Barriers\\Polygons\\FL28.shp\n",
      "True\n"
     ]
    },
    {
     "name": "stderr",
     "output_type": "stream",
     "text": [
      "C:\\conda\\envs\\ox\\lib\\site-packages\\pygeos\\strtree.py:55: DeprecationWarning: `np.object` is a deprecated alias for the builtin `object`. To silence this warning, use `object` by itself. Doing this will not modify any behavior and is safe. \n",
      "Deprecated in NumPy 1.20; for more details and guidance: https://numpy.org/devdocs/release/1.20.0-notes.html#deprecations\n",
      "  self.geometries = np.asarray(geometries, dtype=np.object)\n",
      "C:\\conda\\envs\\ox\\lib\\site-packages\\pygeos\\coordinates.py:107: DeprecationWarning: `np.object` is a deprecated alias for the builtin `object`. To silence this warning, use `object` by itself. Doing this will not modify any behavior and is safe. \n",
      "Deprecated in NumPy 1.20; for more details and guidance: https://numpy.org/devdocs/release/1.20.0-notes.html#deprecations\n",
      "  return lib.get_coordinates(np.asarray(geometry, dtype=np.object), include_z)\n",
      "C:\\conda\\envs\\ox\\lib\\site-packages\\pygeos\\coordinates.py:130: DeprecationWarning: `np.object` is a deprecated alias for the builtin `object`. To silence this warning, use `object` by itself. Doing this will not modify any behavior and is safe. \n",
      "Deprecated in NumPy 1.20; for more details and guidance: https://numpy.org/devdocs/release/1.20.0-notes.html#deprecations\n",
      "  geometry_arr = np.asarray(geometry, dtype=np.object)\n",
      "<ipython-input-1-2b7241b072db>:48: UserWarning: Column names longer than 10 characters will be truncated when saved to ESRI Shapefile.\n",
      "  footprints_save.drop(labels='nodes', axis=1).to_file('E:\\\\Barriers\\\\Buildings\\\\{0}'.format(file))\n"
     ]
    },
    {
     "name": "stdout",
     "output_type": "stream",
     "text": [
      "E:\\Barriers\\Polygons\\FL29.shp\n",
      "True\n"
     ]
    },
    {
     "name": "stderr",
     "output_type": "stream",
     "text": [
      "C:\\conda\\envs\\ox\\lib\\site-packages\\pygeos\\strtree.py:55: DeprecationWarning: `np.object` is a deprecated alias for the builtin `object`. To silence this warning, use `object` by itself. Doing this will not modify any behavior and is safe. \n",
      "Deprecated in NumPy 1.20; for more details and guidance: https://numpy.org/devdocs/release/1.20.0-notes.html#deprecations\n",
      "  self.geometries = np.asarray(geometries, dtype=np.object)\n",
      "C:\\conda\\envs\\ox\\lib\\site-packages\\pygeos\\coordinates.py:107: DeprecationWarning: `np.object` is a deprecated alias for the builtin `object`. To silence this warning, use `object` by itself. Doing this will not modify any behavior and is safe. \n",
      "Deprecated in NumPy 1.20; for more details and guidance: https://numpy.org/devdocs/release/1.20.0-notes.html#deprecations\n",
      "  return lib.get_coordinates(np.asarray(geometry, dtype=np.object), include_z)\n",
      "C:\\conda\\envs\\ox\\lib\\site-packages\\pygeos\\coordinates.py:130: DeprecationWarning: `np.object` is a deprecated alias for the builtin `object`. To silence this warning, use `object` by itself. Doing this will not modify any behavior and is safe. \n",
      "Deprecated in NumPy 1.20; for more details and guidance: https://numpy.org/devdocs/release/1.20.0-notes.html#deprecations\n",
      "  geometry_arr = np.asarray(geometry, dtype=np.object)\n"
     ]
    },
    {
     "name": "stdout",
     "output_type": "stream",
     "text": [
      "E:\\Barriers\\Polygons\\FL3.shp\n",
      "True\n"
     ]
    },
    {
     "name": "stderr",
     "output_type": "stream",
     "text": [
      "<ipython-input-1-2b7241b072db>:48: UserWarning: Column names longer than 10 characters will be truncated when saved to ESRI Shapefile.\n",
      "  footprints_save.drop(labels='nodes', axis=1).to_file('E:\\\\Barriers\\\\Buildings\\\\{0}'.format(file))\n",
      "C:\\conda\\envs\\ox\\lib\\site-packages\\pygeos\\strtree.py:55: DeprecationWarning: `np.object` is a deprecated alias for the builtin `object`. To silence this warning, use `object` by itself. Doing this will not modify any behavior and is safe. \n",
      "Deprecated in NumPy 1.20; for more details and guidance: https://numpy.org/devdocs/release/1.20.0-notes.html#deprecations\n",
      "  self.geometries = np.asarray(geometries, dtype=np.object)\n",
      "C:\\conda\\envs\\ox\\lib\\site-packages\\pygeos\\coordinates.py:107: DeprecationWarning: `np.object` is a deprecated alias for the builtin `object`. To silence this warning, use `object` by itself. Doing this will not modify any behavior and is safe. \n",
      "Deprecated in NumPy 1.20; for more details and guidance: https://numpy.org/devdocs/release/1.20.0-notes.html#deprecations\n",
      "  return lib.get_coordinates(np.asarray(geometry, dtype=np.object), include_z)\n",
      "C:\\conda\\envs\\ox\\lib\\site-packages\\pygeos\\coordinates.py:130: DeprecationWarning: `np.object` is a deprecated alias for the builtin `object`. To silence this warning, use `object` by itself. Doing this will not modify any behavior and is safe. \n",
      "Deprecated in NumPy 1.20; for more details and guidance: https://numpy.org/devdocs/release/1.20.0-notes.html#deprecations\n",
      "  geometry_arr = np.asarray(geometry, dtype=np.object)\n",
      "<ipython-input-1-2b7241b072db>:48: UserWarning: Column names longer than 10 characters will be truncated when saved to ESRI Shapefile.\n",
      "  footprints_save.drop(labels='nodes', axis=1).to_file('E:\\\\Barriers\\\\Buildings\\\\{0}'.format(file))\n"
     ]
    },
    {
     "name": "stdout",
     "output_type": "stream",
     "text": [
      "E:\\Barriers\\Polygons\\FL30.shp\n",
      "True\n"
     ]
    },
    {
     "name": "stderr",
     "output_type": "stream",
     "text": [
      "C:\\conda\\envs\\ox\\lib\\site-packages\\pygeos\\constructive.py:165: DeprecationWarning: `np.bool` is a deprecated alias for the builtin `bool`. To silence this warning, use `bool` by itself. Doing this will not modify any behavior and is safe. If you specifically wanted the numpy scalar type, use `np.bool_` here.\n",
      "Deprecated in NumPy 1.20; for more details and guidance: https://numpy.org/devdocs/release/1.20.0-notes.html#deprecations\n",
      "  np.bool(single_sided),\n",
      "C:\\conda\\envs\\ox\\lib\\site-packages\\pygeos\\strtree.py:55: DeprecationWarning: `np.object` is a deprecated alias for the builtin `object`. To silence this warning, use `object` by itself. Doing this will not modify any behavior and is safe. \n",
      "Deprecated in NumPy 1.20; for more details and guidance: https://numpy.org/devdocs/release/1.20.0-notes.html#deprecations\n",
      "  self.geometries = np.asarray(geometries, dtype=np.object)\n",
      "C:\\conda\\envs\\ox\\lib\\site-packages\\pygeos\\coordinates.py:107: DeprecationWarning: `np.object` is a deprecated alias for the builtin `object`. To silence this warning, use `object` by itself. Doing this will not modify any behavior and is safe. \n",
      "Deprecated in NumPy 1.20; for more details and guidance: https://numpy.org/devdocs/release/1.20.0-notes.html#deprecations\n",
      "  return lib.get_coordinates(np.asarray(geometry, dtype=np.object), include_z)\n",
      "C:\\conda\\envs\\ox\\lib\\site-packages\\pygeos\\coordinates.py:130: DeprecationWarning: `np.object` is a deprecated alias for the builtin `object`. To silence this warning, use `object` by itself. Doing this will not modify any behavior and is safe. \n",
      "Deprecated in NumPy 1.20; for more details and guidance: https://numpy.org/devdocs/release/1.20.0-notes.html#deprecations\n",
      "  geometry_arr = np.asarray(geometry, dtype=np.object)\n",
      "<ipython-input-1-2b7241b072db>:48: UserWarning: Column names longer than 10 characters will be truncated when saved to ESRI Shapefile.\n",
      "  footprints_save.drop(labels='nodes', axis=1).to_file('E:\\\\Barriers\\\\Buildings\\\\{0}'.format(file))\n"
     ]
    },
    {
     "name": "stdout",
     "output_type": "stream",
     "text": [
      "E:\\Barriers\\Polygons\\FL31.shp\n",
      "True\n"
     ]
    },
    {
     "name": "stderr",
     "output_type": "stream",
     "text": [
      "C:\\conda\\envs\\ox\\lib\\site-packages\\pygeos\\constructive.py:165: DeprecationWarning: `np.bool` is a deprecated alias for the builtin `bool`. To silence this warning, use `bool` by itself. Doing this will not modify any behavior and is safe. If you specifically wanted the numpy scalar type, use `np.bool_` here.\n",
      "Deprecated in NumPy 1.20; for more details and guidance: https://numpy.org/devdocs/release/1.20.0-notes.html#deprecations\n",
      "  np.bool(single_sided),\n",
      "C:\\conda\\envs\\ox\\lib\\site-packages\\pygeos\\strtree.py:55: DeprecationWarning: `np.object` is a deprecated alias for the builtin `object`. To silence this warning, use `object` by itself. Doing this will not modify any behavior and is safe. \n",
      "Deprecated in NumPy 1.20; for more details and guidance: https://numpy.org/devdocs/release/1.20.0-notes.html#deprecations\n",
      "  self.geometries = np.asarray(geometries, dtype=np.object)\n",
      "C:\\conda\\envs\\ox\\lib\\site-packages\\pygeos\\coordinates.py:107: DeprecationWarning: `np.object` is a deprecated alias for the builtin `object`. To silence this warning, use `object` by itself. Doing this will not modify any behavior and is safe. \n",
      "Deprecated in NumPy 1.20; for more details and guidance: https://numpy.org/devdocs/release/1.20.0-notes.html#deprecations\n",
      "  return lib.get_coordinates(np.asarray(geometry, dtype=np.object), include_z)\n",
      "C:\\conda\\envs\\ox\\lib\\site-packages\\pygeos\\coordinates.py:130: DeprecationWarning: `np.object` is a deprecated alias for the builtin `object`. To silence this warning, use `object` by itself. Doing this will not modify any behavior and is safe. \n",
      "Deprecated in NumPy 1.20; for more details and guidance: https://numpy.org/devdocs/release/1.20.0-notes.html#deprecations\n",
      "  geometry_arr = np.asarray(geometry, dtype=np.object)\n",
      "<ipython-input-1-2b7241b072db>:48: UserWarning: Column names longer than 10 characters will be truncated when saved to ESRI Shapefile.\n",
      "  footprints_save.drop(labels='nodes', axis=1).to_file('E:\\\\Barriers\\\\Buildings\\\\{0}'.format(file))\n"
     ]
    },
    {
     "name": "stdout",
     "output_type": "stream",
     "text": [
      "E:\\Barriers\\Polygons\\FL32.shp\n",
      "True\n",
      "E:\\Barriers\\Polygons\\FL33.shp\n",
      "True\n",
      "E:\\Barriers\\Polygons\\FL34.shp\n",
      "True\n"
     ]
    },
    {
     "name": "stderr",
     "output_type": "stream",
     "text": [
      "C:\\conda\\envs\\ox\\lib\\site-packages\\pygeos\\strtree.py:55: DeprecationWarning: `np.object` is a deprecated alias for the builtin `object`. To silence this warning, use `object` by itself. Doing this will not modify any behavior and is safe. \n",
      "Deprecated in NumPy 1.20; for more details and guidance: https://numpy.org/devdocs/release/1.20.0-notes.html#deprecations\n",
      "  self.geometries = np.asarray(geometries, dtype=np.object)\n",
      "C:\\conda\\envs\\ox\\lib\\site-packages\\pygeos\\coordinates.py:107: DeprecationWarning: `np.object` is a deprecated alias for the builtin `object`. To silence this warning, use `object` by itself. Doing this will not modify any behavior and is safe. \n",
      "Deprecated in NumPy 1.20; for more details and guidance: https://numpy.org/devdocs/release/1.20.0-notes.html#deprecations\n",
      "  return lib.get_coordinates(np.asarray(geometry, dtype=np.object), include_z)\n",
      "C:\\conda\\envs\\ox\\lib\\site-packages\\pygeos\\coordinates.py:130: DeprecationWarning: `np.object` is a deprecated alias for the builtin `object`. To silence this warning, use `object` by itself. Doing this will not modify any behavior and is safe. \n",
      "Deprecated in NumPy 1.20; for more details and guidance: https://numpy.org/devdocs/release/1.20.0-notes.html#deprecations\n",
      "  geometry_arr = np.asarray(geometry, dtype=np.object)\n",
      "<ipython-input-1-2b7241b072db>:48: UserWarning: Column names longer than 10 characters will be truncated when saved to ESRI Shapefile.\n",
      "  footprints_save.drop(labels='nodes', axis=1).to_file('E:\\\\Barriers\\\\Buildings\\\\{0}'.format(file))\n"
     ]
    },
    {
     "name": "stdout",
     "output_type": "stream",
     "text": [
      "E:\\Barriers\\Polygons\\FL35.shp\n",
      "True\n",
      "E:\\Barriers\\Polygons\\FL36.shp\n",
      "True\n",
      "E:\\Barriers\\Polygons\\FL37.shp\n",
      "True\n"
     ]
    },
    {
     "name": "stderr",
     "output_type": "stream",
     "text": [
      "C:\\conda\\envs\\ox\\lib\\site-packages\\pygeos\\strtree.py:55: DeprecationWarning: `np.object` is a deprecated alias for the builtin `object`. To silence this warning, use `object` by itself. Doing this will not modify any behavior and is safe. \n",
      "Deprecated in NumPy 1.20; for more details and guidance: https://numpy.org/devdocs/release/1.20.0-notes.html#deprecations\n",
      "  self.geometries = np.asarray(geometries, dtype=np.object)\n",
      "C:\\conda\\envs\\ox\\lib\\site-packages\\pygeos\\coordinates.py:107: DeprecationWarning: `np.object` is a deprecated alias for the builtin `object`. To silence this warning, use `object` by itself. Doing this will not modify any behavior and is safe. \n",
      "Deprecated in NumPy 1.20; for more details and guidance: https://numpy.org/devdocs/release/1.20.0-notes.html#deprecations\n",
      "  return lib.get_coordinates(np.asarray(geometry, dtype=np.object), include_z)\n",
      "C:\\conda\\envs\\ox\\lib\\site-packages\\pygeos\\coordinates.py:130: DeprecationWarning: `np.object` is a deprecated alias for the builtin `object`. To silence this warning, use `object` by itself. Doing this will not modify any behavior and is safe. \n",
      "Deprecated in NumPy 1.20; for more details and guidance: https://numpy.org/devdocs/release/1.20.0-notes.html#deprecations\n",
      "  geometry_arr = np.asarray(geometry, dtype=np.object)\n",
      "<ipython-input-1-2b7241b072db>:48: UserWarning: Column names longer than 10 characters will be truncated when saved to ESRI Shapefile.\n",
      "  footprints_save.drop(labels='nodes', axis=1).to_file('E:\\\\Barriers\\\\Buildings\\\\{0}'.format(file))\n"
     ]
    },
    {
     "name": "stdout",
     "output_type": "stream",
     "text": [
      "E:\\Barriers\\Polygons\\FL38.shp\n",
      "True\n"
     ]
    },
    {
     "name": "stderr",
     "output_type": "stream",
     "text": [
      "C:\\conda\\envs\\ox\\lib\\site-packages\\pygeos\\strtree.py:55: DeprecationWarning: `np.object` is a deprecated alias for the builtin `object`. To silence this warning, use `object` by itself. Doing this will not modify any behavior and is safe. \n",
      "Deprecated in NumPy 1.20; for more details and guidance: https://numpy.org/devdocs/release/1.20.0-notes.html#deprecations\n",
      "  self.geometries = np.asarray(geometries, dtype=np.object)\n",
      "C:\\conda\\envs\\ox\\lib\\site-packages\\pygeos\\coordinates.py:107: DeprecationWarning: `np.object` is a deprecated alias for the builtin `object`. To silence this warning, use `object` by itself. Doing this will not modify any behavior and is safe. \n",
      "Deprecated in NumPy 1.20; for more details and guidance: https://numpy.org/devdocs/release/1.20.0-notes.html#deprecations\n",
      "  return lib.get_coordinates(np.asarray(geometry, dtype=np.object), include_z)\n",
      "C:\\conda\\envs\\ox\\lib\\site-packages\\pygeos\\coordinates.py:130: DeprecationWarning: `np.object` is a deprecated alias for the builtin `object`. To silence this warning, use `object` by itself. Doing this will not modify any behavior and is safe. \n",
      "Deprecated in NumPy 1.20; for more details and guidance: https://numpy.org/devdocs/release/1.20.0-notes.html#deprecations\n",
      "  geometry_arr = np.asarray(geometry, dtype=np.object)\n"
     ]
    },
    {
     "name": "stdout",
     "output_type": "stream",
     "text": [
      "E:\\Barriers\\Polygons\\FL39.shp\n",
      "True\n",
      "E:\\Barriers\\Polygons\\FL4.shp\n",
      "True\n"
     ]
    },
    {
     "name": "stderr",
     "output_type": "stream",
     "text": [
      "<ipython-input-1-2b7241b072db>:48: UserWarning: Column names longer than 10 characters will be truncated when saved to ESRI Shapefile.\n",
      "  footprints_save.drop(labels='nodes', axis=1).to_file('E:\\\\Barriers\\\\Buildings\\\\{0}'.format(file))\n",
      "C:\\conda\\envs\\ox\\lib\\site-packages\\pygeos\\strtree.py:55: DeprecationWarning: `np.object` is a deprecated alias for the builtin `object`. To silence this warning, use `object` by itself. Doing this will not modify any behavior and is safe. \n",
      "Deprecated in NumPy 1.20; for more details and guidance: https://numpy.org/devdocs/release/1.20.0-notes.html#deprecations\n",
      "  self.geometries = np.asarray(geometries, dtype=np.object)\n",
      "C:\\conda\\envs\\ox\\lib\\site-packages\\pygeos\\coordinates.py:107: DeprecationWarning: `np.object` is a deprecated alias for the builtin `object`. To silence this warning, use `object` by itself. Doing this will not modify any behavior and is safe. \n",
      "Deprecated in NumPy 1.20; for more details and guidance: https://numpy.org/devdocs/release/1.20.0-notes.html#deprecations\n",
      "  return lib.get_coordinates(np.asarray(geometry, dtype=np.object), include_z)\n",
      "C:\\conda\\envs\\ox\\lib\\site-packages\\pygeos\\coordinates.py:130: DeprecationWarning: `np.object` is a deprecated alias for the builtin `object`. To silence this warning, use `object` by itself. Doing this will not modify any behavior and is safe. \n",
      "Deprecated in NumPy 1.20; for more details and guidance: https://numpy.org/devdocs/release/1.20.0-notes.html#deprecations\n",
      "  geometry_arr = np.asarray(geometry, dtype=np.object)\n",
      "<ipython-input-1-2b7241b072db>:48: UserWarning: Column names longer than 10 characters will be truncated when saved to ESRI Shapefile.\n",
      "  footprints_save.drop(labels='nodes', axis=1).to_file('E:\\\\Barriers\\\\Buildings\\\\{0}'.format(file))\n"
     ]
    },
    {
     "name": "stdout",
     "output_type": "stream",
     "text": [
      "E:\\Barriers\\Polygons\\FL40.shp\n",
      "True\n"
     ]
    },
    {
     "name": "stderr",
     "output_type": "stream",
     "text": [
      "C:\\conda\\envs\\ox\\lib\\site-packages\\pygeos\\strtree.py:55: DeprecationWarning: `np.object` is a deprecated alias for the builtin `object`. To silence this warning, use `object` by itself. Doing this will not modify any behavior and is safe. \n",
      "Deprecated in NumPy 1.20; for more details and guidance: https://numpy.org/devdocs/release/1.20.0-notes.html#deprecations\n",
      "  self.geometries = np.asarray(geometries, dtype=np.object)\n",
      "C:\\conda\\envs\\ox\\lib\\site-packages\\pygeos\\coordinates.py:107: DeprecationWarning: `np.object` is a deprecated alias for the builtin `object`. To silence this warning, use `object` by itself. Doing this will not modify any behavior and is safe. \n",
      "Deprecated in NumPy 1.20; for more details and guidance: https://numpy.org/devdocs/release/1.20.0-notes.html#deprecations\n",
      "  return lib.get_coordinates(np.asarray(geometry, dtype=np.object), include_z)\n",
      "C:\\conda\\envs\\ox\\lib\\site-packages\\pygeos\\coordinates.py:130: DeprecationWarning: `np.object` is a deprecated alias for the builtin `object`. To silence this warning, use `object` by itself. Doing this will not modify any behavior and is safe. \n",
      "Deprecated in NumPy 1.20; for more details and guidance: https://numpy.org/devdocs/release/1.20.0-notes.html#deprecations\n",
      "  geometry_arr = np.asarray(geometry, dtype=np.object)\n",
      "<ipython-input-1-2b7241b072db>:48: UserWarning: Column names longer than 10 characters will be truncated when saved to ESRI Shapefile.\n",
      "  footprints_save.drop(labels='nodes', axis=1).to_file('E:\\\\Barriers\\\\Buildings\\\\{0}'.format(file))\n"
     ]
    },
    {
     "name": "stdout",
     "output_type": "stream",
     "text": [
      "E:\\Barriers\\Polygons\\FL5.shp\n",
      "True\n",
      "E:\\Barriers\\Polygons\\FL6.shp\n",
      "True\n",
      "E:\\Barriers\\Polygons\\FL7.shp\n",
      "True\n"
     ]
    },
    {
     "name": "stderr",
     "output_type": "stream",
     "text": [
      "C:\\conda\\envs\\ox\\lib\\site-packages\\pygeos\\constructive.py:165: DeprecationWarning: `np.bool` is a deprecated alias for the builtin `bool`. To silence this warning, use `bool` by itself. Doing this will not modify any behavior and is safe. If you specifically wanted the numpy scalar type, use `np.bool_` here.\n",
      "Deprecated in NumPy 1.20; for more details and guidance: https://numpy.org/devdocs/release/1.20.0-notes.html#deprecations\n",
      "  np.bool(single_sided),\n",
      "C:\\conda\\envs\\ox\\lib\\site-packages\\pygeos\\strtree.py:55: DeprecationWarning: `np.object` is a deprecated alias for the builtin `object`. To silence this warning, use `object` by itself. Doing this will not modify any behavior and is safe. \n",
      "Deprecated in NumPy 1.20; for more details and guidance: https://numpy.org/devdocs/release/1.20.0-notes.html#deprecations\n",
      "  self.geometries = np.asarray(geometries, dtype=np.object)\n",
      "C:\\conda\\envs\\ox\\lib\\site-packages\\pygeos\\coordinates.py:107: DeprecationWarning: `np.object` is a deprecated alias for the builtin `object`. To silence this warning, use `object` by itself. Doing this will not modify any behavior and is safe. \n",
      "Deprecated in NumPy 1.20; for more details and guidance: https://numpy.org/devdocs/release/1.20.0-notes.html#deprecations\n",
      "  return lib.get_coordinates(np.asarray(geometry, dtype=np.object), include_z)\n",
      "C:\\conda\\envs\\ox\\lib\\site-packages\\pygeos\\coordinates.py:130: DeprecationWarning: `np.object` is a deprecated alias for the builtin `object`. To silence this warning, use `object` by itself. Doing this will not modify any behavior and is safe. \n",
      "Deprecated in NumPy 1.20; for more details and guidance: https://numpy.org/devdocs/release/1.20.0-notes.html#deprecations\n",
      "  geometry_arr = np.asarray(geometry, dtype=np.object)\n",
      "<ipython-input-1-2b7241b072db>:48: UserWarning: Column names longer than 10 characters will be truncated when saved to ESRI Shapefile.\n",
      "  footprints_save.drop(labels='nodes', axis=1).to_file('E:\\\\Barriers\\\\Buildings\\\\{0}'.format(file))\n"
     ]
    },
    {
     "name": "stdout",
     "output_type": "stream",
     "text": [
      "E:\\Barriers\\Polygons\\FL8.shp\n",
      "True\n"
     ]
    },
    {
     "name": "stderr",
     "output_type": "stream",
     "text": [
      "C:\\conda\\envs\\ox\\lib\\site-packages\\pygeos\\strtree.py:55: DeprecationWarning: `np.object` is a deprecated alias for the builtin `object`. To silence this warning, use `object` by itself. Doing this will not modify any behavior and is safe. \n",
      "Deprecated in NumPy 1.20; for more details and guidance: https://numpy.org/devdocs/release/1.20.0-notes.html#deprecations\n",
      "  self.geometries = np.asarray(geometries, dtype=np.object)\n",
      "C:\\conda\\envs\\ox\\lib\\site-packages\\pygeos\\coordinates.py:107: DeprecationWarning: `np.object` is a deprecated alias for the builtin `object`. To silence this warning, use `object` by itself. Doing this will not modify any behavior and is safe. \n",
      "Deprecated in NumPy 1.20; for more details and guidance: https://numpy.org/devdocs/release/1.20.0-notes.html#deprecations\n",
      "  return lib.get_coordinates(np.asarray(geometry, dtype=np.object), include_z)\n",
      "C:\\conda\\envs\\ox\\lib\\site-packages\\pygeos\\coordinates.py:130: DeprecationWarning: `np.object` is a deprecated alias for the builtin `object`. To silence this warning, use `object` by itself. Doing this will not modify any behavior and is safe. \n",
      "Deprecated in NumPy 1.20; for more details and guidance: https://numpy.org/devdocs/release/1.20.0-notes.html#deprecations\n",
      "  geometry_arr = np.asarray(geometry, dtype=np.object)\n",
      "<ipython-input-1-2b7241b072db>:48: UserWarning: Column names longer than 10 characters will be truncated when saved to ESRI Shapefile.\n",
      "  footprints_save.drop(labels='nodes', axis=1).to_file('E:\\\\Barriers\\\\Buildings\\\\{0}'.format(file))\n"
     ]
    },
    {
     "name": "stdout",
     "output_type": "stream",
     "text": [
      "E:\\Barriers\\Polygons\\FL9.shp\n",
      "True\n"
     ]
    },
    {
     "name": "stderr",
     "output_type": "stream",
     "text": [
      "C:\\conda\\envs\\ox\\lib\\site-packages\\pygeos\\strtree.py:55: DeprecationWarning: `np.object` is a deprecated alias for the builtin `object`. To silence this warning, use `object` by itself. Doing this will not modify any behavior and is safe. \n",
      "Deprecated in NumPy 1.20; for more details and guidance: https://numpy.org/devdocs/release/1.20.0-notes.html#deprecations\n",
      "  self.geometries = np.asarray(geometries, dtype=np.object)\n",
      "C:\\conda\\envs\\ox\\lib\\site-packages\\pygeos\\coordinates.py:107: DeprecationWarning: `np.object` is a deprecated alias for the builtin `object`. To silence this warning, use `object` by itself. Doing this will not modify any behavior and is safe. \n",
      "Deprecated in NumPy 1.20; for more details and guidance: https://numpy.org/devdocs/release/1.20.0-notes.html#deprecations\n",
      "  return lib.get_coordinates(np.asarray(geometry, dtype=np.object), include_z)\n",
      "C:\\conda\\envs\\ox\\lib\\site-packages\\pygeos\\coordinates.py:130: DeprecationWarning: `np.object` is a deprecated alias for the builtin `object`. To silence this warning, use `object` by itself. Doing this will not modify any behavior and is safe. \n",
      "Deprecated in NumPy 1.20; for more details and guidance: https://numpy.org/devdocs/release/1.20.0-notes.html#deprecations\n",
      "  geometry_arr = np.asarray(geometry, dtype=np.object)\n",
      "<ipython-input-1-2b7241b072db>:48: UserWarning: Column names longer than 10 characters will be truncated when saved to ESRI Shapefile.\n",
      "  footprints_save.drop(labels='nodes', axis=1).to_file('E:\\\\Barriers\\\\Buildings\\\\{0}'.format(file))\n"
     ]
    },
    {
     "name": "stdout",
     "output_type": "stream",
     "text": [
      "E:\\Barriers\\Polygons\\GA1.shp\n",
      "True\n",
      "E:\\Barriers\\Polygons\\GA10.shp\n",
      "True\n"
     ]
    },
    {
     "name": "stderr",
     "output_type": "stream",
     "text": [
      "C:\\conda\\envs\\ox\\lib\\site-packages\\pygeos\\strtree.py:55: DeprecationWarning: `np.object` is a deprecated alias for the builtin `object`. To silence this warning, use `object` by itself. Doing this will not modify any behavior and is safe. \n",
      "Deprecated in NumPy 1.20; for more details and guidance: https://numpy.org/devdocs/release/1.20.0-notes.html#deprecations\n",
      "  self.geometries = np.asarray(geometries, dtype=np.object)\n",
      "C:\\conda\\envs\\ox\\lib\\site-packages\\pygeos\\coordinates.py:107: DeprecationWarning: `np.object` is a deprecated alias for the builtin `object`. To silence this warning, use `object` by itself. Doing this will not modify any behavior and is safe. \n",
      "Deprecated in NumPy 1.20; for more details and guidance: https://numpy.org/devdocs/release/1.20.0-notes.html#deprecations\n",
      "  return lib.get_coordinates(np.asarray(geometry, dtype=np.object), include_z)\n",
      "C:\\conda\\envs\\ox\\lib\\site-packages\\pygeos\\coordinates.py:130: DeprecationWarning: `np.object` is a deprecated alias for the builtin `object`. To silence this warning, use `object` by itself. Doing this will not modify any behavior and is safe. \n",
      "Deprecated in NumPy 1.20; for more details and guidance: https://numpy.org/devdocs/release/1.20.0-notes.html#deprecations\n",
      "  geometry_arr = np.asarray(geometry, dtype=np.object)\n",
      "<ipython-input-1-2b7241b072db>:48: UserWarning: Column names longer than 10 characters will be truncated when saved to ESRI Shapefile.\n",
      "  footprints_save.drop(labels='nodes', axis=1).to_file('E:\\\\Barriers\\\\Buildings\\\\{0}'.format(file))\n"
     ]
    },
    {
     "name": "stdout",
     "output_type": "stream",
     "text": [
      "E:\\Barriers\\Polygons\\GA2.shp\n",
      "True\n",
      "E:\\Barriers\\Polygons\\GA3.shp\n",
      "True\n"
     ]
    },
    {
     "name": "stderr",
     "output_type": "stream",
     "text": [
      "C:\\conda\\envs\\ox\\lib\\site-packages\\pygeos\\strtree.py:55: DeprecationWarning: `np.object` is a deprecated alias for the builtin `object`. To silence this warning, use `object` by itself. Doing this will not modify any behavior and is safe. \n",
      "Deprecated in NumPy 1.20; for more details and guidance: https://numpy.org/devdocs/release/1.20.0-notes.html#deprecations\n",
      "  self.geometries = np.asarray(geometries, dtype=np.object)\n",
      "C:\\conda\\envs\\ox\\lib\\site-packages\\pygeos\\coordinates.py:107: DeprecationWarning: `np.object` is a deprecated alias for the builtin `object`. To silence this warning, use `object` by itself. Doing this will not modify any behavior and is safe. \n",
      "Deprecated in NumPy 1.20; for more details and guidance: https://numpy.org/devdocs/release/1.20.0-notes.html#deprecations\n",
      "  return lib.get_coordinates(np.asarray(geometry, dtype=np.object), include_z)\n",
      "C:\\conda\\envs\\ox\\lib\\site-packages\\pygeos\\coordinates.py:130: DeprecationWarning: `np.object` is a deprecated alias for the builtin `object`. To silence this warning, use `object` by itself. Doing this will not modify any behavior and is safe. \n",
      "Deprecated in NumPy 1.20; for more details and guidance: https://numpy.org/devdocs/release/1.20.0-notes.html#deprecations\n",
      "  geometry_arr = np.asarray(geometry, dtype=np.object)\n",
      "<ipython-input-1-2b7241b072db>:48: UserWarning: Column names longer than 10 characters will be truncated when saved to ESRI Shapefile.\n",
      "  footprints_save.drop(labels='nodes', axis=1).to_file('E:\\\\Barriers\\\\Buildings\\\\{0}'.format(file))\n"
     ]
    },
    {
     "name": "stdout",
     "output_type": "stream",
     "text": [
      "E:\\Barriers\\Polygons\\GA4.shp\n",
      "True\n"
     ]
    },
    {
     "name": "stderr",
     "output_type": "stream",
     "text": [
      "C:\\conda\\envs\\ox\\lib\\site-packages\\pygeos\\strtree.py:55: DeprecationWarning: `np.object` is a deprecated alias for the builtin `object`. To silence this warning, use `object` by itself. Doing this will not modify any behavior and is safe. \n",
      "Deprecated in NumPy 1.20; for more details and guidance: https://numpy.org/devdocs/release/1.20.0-notes.html#deprecations\n",
      "  self.geometries = np.asarray(geometries, dtype=np.object)\n",
      "C:\\conda\\envs\\ox\\lib\\site-packages\\pygeos\\coordinates.py:107: DeprecationWarning: `np.object` is a deprecated alias for the builtin `object`. To silence this warning, use `object` by itself. Doing this will not modify any behavior and is safe. \n",
      "Deprecated in NumPy 1.20; for more details and guidance: https://numpy.org/devdocs/release/1.20.0-notes.html#deprecations\n",
      "  return lib.get_coordinates(np.asarray(geometry, dtype=np.object), include_z)\n",
      "C:\\conda\\envs\\ox\\lib\\site-packages\\pygeos\\coordinates.py:130: DeprecationWarning: `np.object` is a deprecated alias for the builtin `object`. To silence this warning, use `object` by itself. Doing this will not modify any behavior and is safe. \n",
      "Deprecated in NumPy 1.20; for more details and guidance: https://numpy.org/devdocs/release/1.20.0-notes.html#deprecations\n",
      "  geometry_arr = np.asarray(geometry, dtype=np.object)\n",
      "<ipython-input-1-2b7241b072db>:48: UserWarning: Column names longer than 10 characters will be truncated when saved to ESRI Shapefile.\n",
      "  footprints_save.drop(labels='nodes', axis=1).to_file('E:\\\\Barriers\\\\Buildings\\\\{0}'.format(file))\n"
     ]
    },
    {
     "name": "stdout",
     "output_type": "stream",
     "text": [
      "E:\\Barriers\\Polygons\\GA5.shp\n",
      "True\n",
      "E:\\Barriers\\Polygons\\GA6.shp\n",
      "True\n",
      "E:\\Barriers\\Polygons\\GA7.shp\n",
      "True\n",
      "E:\\Barriers\\Polygons\\GA8.shp\n",
      "True\n"
     ]
    },
    {
     "name": "stderr",
     "output_type": "stream",
     "text": [
      "C:\\conda\\envs\\ox\\lib\\site-packages\\pygeos\\strtree.py:55: DeprecationWarning: `np.object` is a deprecated alias for the builtin `object`. To silence this warning, use `object` by itself. Doing this will not modify any behavior and is safe. \n",
      "Deprecated in NumPy 1.20; for more details and guidance: https://numpy.org/devdocs/release/1.20.0-notes.html#deprecations\n",
      "  self.geometries = np.asarray(geometries, dtype=np.object)\n",
      "C:\\conda\\envs\\ox\\lib\\site-packages\\pygeos\\coordinates.py:107: DeprecationWarning: `np.object` is a deprecated alias for the builtin `object`. To silence this warning, use `object` by itself. Doing this will not modify any behavior and is safe. \n",
      "Deprecated in NumPy 1.20; for more details and guidance: https://numpy.org/devdocs/release/1.20.0-notes.html#deprecations\n",
      "  return lib.get_coordinates(np.asarray(geometry, dtype=np.object), include_z)\n",
      "C:\\conda\\envs\\ox\\lib\\site-packages\\pygeos\\coordinates.py:130: DeprecationWarning: `np.object` is a deprecated alias for the builtin `object`. To silence this warning, use `object` by itself. Doing this will not modify any behavior and is safe. \n",
      "Deprecated in NumPy 1.20; for more details and guidance: https://numpy.org/devdocs/release/1.20.0-notes.html#deprecations\n",
      "  geometry_arr = np.asarray(geometry, dtype=np.object)\n",
      "<ipython-input-1-2b7241b072db>:48: UserWarning: Column names longer than 10 characters will be truncated when saved to ESRI Shapefile.\n",
      "  footprints_save.drop(labels='nodes', axis=1).to_file('E:\\\\Barriers\\\\Buildings\\\\{0}'.format(file))\n"
     ]
    },
    {
     "name": "stdout",
     "output_type": "stream",
     "text": [
      "E:\\Barriers\\Polygons\\GA9.shp\n",
      "True\n"
     ]
    },
    {
     "name": "stderr",
     "output_type": "stream",
     "text": [
      "C:\\conda\\envs\\ox\\lib\\site-packages\\pygeos\\strtree.py:55: DeprecationWarning: `np.object` is a deprecated alias for the builtin `object`. To silence this warning, use `object` by itself. Doing this will not modify any behavior and is safe. \n",
      "Deprecated in NumPy 1.20; for more details and guidance: https://numpy.org/devdocs/release/1.20.0-notes.html#deprecations\n",
      "  self.geometries = np.asarray(geometries, dtype=np.object)\n",
      "C:\\conda\\envs\\ox\\lib\\site-packages\\pygeos\\coordinates.py:107: DeprecationWarning: `np.object` is a deprecated alias for the builtin `object`. To silence this warning, use `object` by itself. Doing this will not modify any behavior and is safe. \n",
      "Deprecated in NumPy 1.20; for more details and guidance: https://numpy.org/devdocs/release/1.20.0-notes.html#deprecations\n",
      "  return lib.get_coordinates(np.asarray(geometry, dtype=np.object), include_z)\n",
      "C:\\conda\\envs\\ox\\lib\\site-packages\\pygeos\\coordinates.py:130: DeprecationWarning: `np.object` is a deprecated alias for the builtin `object`. To silence this warning, use `object` by itself. Doing this will not modify any behavior and is safe. \n",
      "Deprecated in NumPy 1.20; for more details and guidance: https://numpy.org/devdocs/release/1.20.0-notes.html#deprecations\n",
      "  geometry_arr = np.asarray(geometry, dtype=np.object)\n",
      "<ipython-input-1-2b7241b072db>:48: UserWarning: Column names longer than 10 characters will be truncated when saved to ESRI Shapefile.\n",
      "  footprints_save.drop(labels='nodes', axis=1).to_file('E:\\\\Barriers\\\\Buildings\\\\{0}'.format(file))\n"
     ]
    },
    {
     "name": "stdout",
     "output_type": "stream",
     "text": [
      "E:\\Barriers\\Polygons\\LA1.shp\n",
      "True\n"
     ]
    },
    {
     "name": "stderr",
     "output_type": "stream",
     "text": [
      "C:\\conda\\envs\\ox\\lib\\site-packages\\pygeos\\strtree.py:55: DeprecationWarning: `np.object` is a deprecated alias for the builtin `object`. To silence this warning, use `object` by itself. Doing this will not modify any behavior and is safe. \n",
      "Deprecated in NumPy 1.20; for more details and guidance: https://numpy.org/devdocs/release/1.20.0-notes.html#deprecations\n",
      "  self.geometries = np.asarray(geometries, dtype=np.object)\n",
      "C:\\conda\\envs\\ox\\lib\\site-packages\\pygeos\\coordinates.py:107: DeprecationWarning: `np.object` is a deprecated alias for the builtin `object`. To silence this warning, use `object` by itself. Doing this will not modify any behavior and is safe. \n",
      "Deprecated in NumPy 1.20; for more details and guidance: https://numpy.org/devdocs/release/1.20.0-notes.html#deprecations\n",
      "  return lib.get_coordinates(np.asarray(geometry, dtype=np.object), include_z)\n",
      "C:\\conda\\envs\\ox\\lib\\site-packages\\pygeos\\coordinates.py:130: DeprecationWarning: `np.object` is a deprecated alias for the builtin `object`. To silence this warning, use `object` by itself. Doing this will not modify any behavior and is safe. \n",
      "Deprecated in NumPy 1.20; for more details and guidance: https://numpy.org/devdocs/release/1.20.0-notes.html#deprecations\n",
      "  geometry_arr = np.asarray(geometry, dtype=np.object)\n",
      "<ipython-input-1-2b7241b072db>:48: UserWarning: Column names longer than 10 characters will be truncated when saved to ESRI Shapefile.\n",
      "  footprints_save.drop(labels='nodes', axis=1).to_file('E:\\\\Barriers\\\\Buildings\\\\{0}'.format(file))\n"
     ]
    },
    {
     "name": "stdout",
     "output_type": "stream",
     "text": [
      "E:\\Barriers\\Polygons\\LA10.shp\n",
      "True\n"
     ]
    },
    {
     "name": "stderr",
     "output_type": "stream",
     "text": [
      "C:\\conda\\envs\\ox\\lib\\site-packages\\pygeos\\strtree.py:55: DeprecationWarning: `np.object` is a deprecated alias for the builtin `object`. To silence this warning, use `object` by itself. Doing this will not modify any behavior and is safe. \n",
      "Deprecated in NumPy 1.20; for more details and guidance: https://numpy.org/devdocs/release/1.20.0-notes.html#deprecations\n",
      "  self.geometries = np.asarray(geometries, dtype=np.object)\n",
      "C:\\conda\\envs\\ox\\lib\\site-packages\\pygeos\\coordinates.py:107: DeprecationWarning: `np.object` is a deprecated alias for the builtin `object`. To silence this warning, use `object` by itself. Doing this will not modify any behavior and is safe. \n",
      "Deprecated in NumPy 1.20; for more details and guidance: https://numpy.org/devdocs/release/1.20.0-notes.html#deprecations\n",
      "  return lib.get_coordinates(np.asarray(geometry, dtype=np.object), include_z)\n",
      "C:\\conda\\envs\\ox\\lib\\site-packages\\pygeos\\coordinates.py:130: DeprecationWarning: `np.object` is a deprecated alias for the builtin `object`. To silence this warning, use `object` by itself. Doing this will not modify any behavior and is safe. \n",
      "Deprecated in NumPy 1.20; for more details and guidance: https://numpy.org/devdocs/release/1.20.0-notes.html#deprecations\n",
      "  geometry_arr = np.asarray(geometry, dtype=np.object)\n",
      "<ipython-input-1-2b7241b072db>:48: UserWarning: Column names longer than 10 characters will be truncated when saved to ESRI Shapefile.\n",
      "  footprints_save.drop(labels='nodes', axis=1).to_file('E:\\\\Barriers\\\\Buildings\\\\{0}'.format(file))\n"
     ]
    },
    {
     "name": "stdout",
     "output_type": "stream",
     "text": [
      "E:\\Barriers\\Polygons\\LA11.shp\n",
      "True\n",
      "E:\\Barriers\\Polygons\\LA12.shp\n",
      "True\n",
      "E:\\Barriers\\Polygons\\LA13.shp\n",
      "True\n"
     ]
    },
    {
     "name": "stderr",
     "output_type": "stream",
     "text": [
      "C:\\conda\\envs\\ox\\lib\\site-packages\\pygeos\\strtree.py:55: DeprecationWarning: `np.object` is a deprecated alias for the builtin `object`. To silence this warning, use `object` by itself. Doing this will not modify any behavior and is safe. \n",
      "Deprecated in NumPy 1.20; for more details and guidance: https://numpy.org/devdocs/release/1.20.0-notes.html#deprecations\n",
      "  self.geometries = np.asarray(geometries, dtype=np.object)\n",
      "C:\\conda\\envs\\ox\\lib\\site-packages\\pygeos\\coordinates.py:107: DeprecationWarning: `np.object` is a deprecated alias for the builtin `object`. To silence this warning, use `object` by itself. Doing this will not modify any behavior and is safe. \n",
      "Deprecated in NumPy 1.20; for more details and guidance: https://numpy.org/devdocs/release/1.20.0-notes.html#deprecations\n",
      "  return lib.get_coordinates(np.asarray(geometry, dtype=np.object), include_z)\n",
      "C:\\conda\\envs\\ox\\lib\\site-packages\\pygeos\\coordinates.py:130: DeprecationWarning: `np.object` is a deprecated alias for the builtin `object`. To silence this warning, use `object` by itself. Doing this will not modify any behavior and is safe. \n",
      "Deprecated in NumPy 1.20; for more details and guidance: https://numpy.org/devdocs/release/1.20.0-notes.html#deprecations\n",
      "  geometry_arr = np.asarray(geometry, dtype=np.object)\n"
     ]
    },
    {
     "name": "stdout",
     "output_type": "stream",
     "text": [
      "E:\\Barriers\\Polygons\\LA14.shp\n",
      "True\n"
     ]
    },
    {
     "name": "stderr",
     "output_type": "stream",
     "text": [
      "<ipython-input-1-2b7241b072db>:48: UserWarning: Column names longer than 10 characters will be truncated when saved to ESRI Shapefile.\n",
      "  footprints_save.drop(labels='nodes', axis=1).to_file('E:\\\\Barriers\\\\Buildings\\\\{0}'.format(file))\n",
      "C:\\conda\\envs\\ox\\lib\\site-packages\\pygeos\\strtree.py:55: DeprecationWarning: `np.object` is a deprecated alias for the builtin `object`. To silence this warning, use `object` by itself. Doing this will not modify any behavior and is safe. \n",
      "Deprecated in NumPy 1.20; for more details and guidance: https://numpy.org/devdocs/release/1.20.0-notes.html#deprecations\n",
      "  self.geometries = np.asarray(geometries, dtype=np.object)\n",
      "C:\\conda\\envs\\ox\\lib\\site-packages\\pygeos\\coordinates.py:107: DeprecationWarning: `np.object` is a deprecated alias for the builtin `object`. To silence this warning, use `object` by itself. Doing this will not modify any behavior and is safe. \n",
      "Deprecated in NumPy 1.20; for more details and guidance: https://numpy.org/devdocs/release/1.20.0-notes.html#deprecations\n",
      "  return lib.get_coordinates(np.asarray(geometry, dtype=np.object), include_z)\n",
      "C:\\conda\\envs\\ox\\lib\\site-packages\\pygeos\\coordinates.py:130: DeprecationWarning: `np.object` is a deprecated alias for the builtin `object`. To silence this warning, use `object` by itself. Doing this will not modify any behavior and is safe. \n",
      "Deprecated in NumPy 1.20; for more details and guidance: https://numpy.org/devdocs/release/1.20.0-notes.html#deprecations\n",
      "  geometry_arr = np.asarray(geometry, dtype=np.object)\n",
      "<ipython-input-1-2b7241b072db>:48: UserWarning: Column names longer than 10 characters will be truncated when saved to ESRI Shapefile.\n",
      "  footprints_save.drop(labels='nodes', axis=1).to_file('E:\\\\Barriers\\\\Buildings\\\\{0}'.format(file))\n"
     ]
    },
    {
     "name": "stdout",
     "output_type": "stream",
     "text": [
      "E:\\Barriers\\Polygons\\LA15.shp\n",
      "True\n",
      "E:\\Barriers\\Polygons\\LA16.shp\n",
      "True\n",
      "E:\\Barriers\\Polygons\\LA17.shp\n",
      "True\n",
      "E:\\Barriers\\Polygons\\LA18.shp\n",
      "True\n",
      "E:\\Barriers\\Polygons\\LA19.shp\n",
      "True\n",
      "E:\\Barriers\\Polygons\\LA2.shp\n",
      "True\n",
      "E:\\Barriers\\Polygons\\LA20.shp\n",
      "True\n",
      "E:\\Barriers\\Polygons\\LA21.shp\n",
      "True\n",
      "E:\\Barriers\\Polygons\\LA22.shp\n",
      "True\n",
      "E:\\Barriers\\Polygons\\LA3.shp\n",
      "True\n",
      "E:\\Barriers\\Polygons\\LA4.shp\n",
      "True\n"
     ]
    },
    {
     "name": "stderr",
     "output_type": "stream",
     "text": [
      "C:\\conda\\envs\\ox\\lib\\site-packages\\pygeos\\strtree.py:55: DeprecationWarning: `np.object` is a deprecated alias for the builtin `object`. To silence this warning, use `object` by itself. Doing this will not modify any behavior and is safe. \n",
      "Deprecated in NumPy 1.20; for more details and guidance: https://numpy.org/devdocs/release/1.20.0-notes.html#deprecations\n",
      "  self.geometries = np.asarray(geometries, dtype=np.object)\n",
      "C:\\conda\\envs\\ox\\lib\\site-packages\\pygeos\\coordinates.py:107: DeprecationWarning: `np.object` is a deprecated alias for the builtin `object`. To silence this warning, use `object` by itself. Doing this will not modify any behavior and is safe. \n",
      "Deprecated in NumPy 1.20; for more details and guidance: https://numpy.org/devdocs/release/1.20.0-notes.html#deprecations\n",
      "  return lib.get_coordinates(np.asarray(geometry, dtype=np.object), include_z)\n",
      "C:\\conda\\envs\\ox\\lib\\site-packages\\pygeos\\coordinates.py:130: DeprecationWarning: `np.object` is a deprecated alias for the builtin `object`. To silence this warning, use `object` by itself. Doing this will not modify any behavior and is safe. \n",
      "Deprecated in NumPy 1.20; for more details and guidance: https://numpy.org/devdocs/release/1.20.0-notes.html#deprecations\n",
      "  geometry_arr = np.asarray(geometry, dtype=np.object)\n",
      "<ipython-input-1-2b7241b072db>:48: UserWarning: Column names longer than 10 characters will be truncated when saved to ESRI Shapefile.\n",
      "  footprints_save.drop(labels='nodes', axis=1).to_file('E:\\\\Barriers\\\\Buildings\\\\{0}'.format(file))\n"
     ]
    },
    {
     "name": "stdout",
     "output_type": "stream",
     "text": [
      "E:\\Barriers\\Polygons\\LA5.shp\n",
      "True\n"
     ]
    },
    {
     "name": "stderr",
     "output_type": "stream",
     "text": [
      "C:\\conda\\envs\\ox\\lib\\site-packages\\pygeos\\strtree.py:55: DeprecationWarning: `np.object` is a deprecated alias for the builtin `object`. To silence this warning, use `object` by itself. Doing this will not modify any behavior and is safe. \n",
      "Deprecated in NumPy 1.20; for more details and guidance: https://numpy.org/devdocs/release/1.20.0-notes.html#deprecations\n",
      "  self.geometries = np.asarray(geometries, dtype=np.object)\n",
      "C:\\conda\\envs\\ox\\lib\\site-packages\\pygeos\\coordinates.py:107: DeprecationWarning: `np.object` is a deprecated alias for the builtin `object`. To silence this warning, use `object` by itself. Doing this will not modify any behavior and is safe. \n",
      "Deprecated in NumPy 1.20; for more details and guidance: https://numpy.org/devdocs/release/1.20.0-notes.html#deprecations\n",
      "  return lib.get_coordinates(np.asarray(geometry, dtype=np.object), include_z)\n",
      "C:\\conda\\envs\\ox\\lib\\site-packages\\pygeos\\coordinates.py:130: DeprecationWarning: `np.object` is a deprecated alias for the builtin `object`. To silence this warning, use `object` by itself. Doing this will not modify any behavior and is safe. \n",
      "Deprecated in NumPy 1.20; for more details and guidance: https://numpy.org/devdocs/release/1.20.0-notes.html#deprecations\n",
      "  geometry_arr = np.asarray(geometry, dtype=np.object)\n",
      "<ipython-input-1-2b7241b072db>:48: UserWarning: Column names longer than 10 characters will be truncated when saved to ESRI Shapefile.\n",
      "  footprints_save.drop(labels='nodes', axis=1).to_file('E:\\\\Barriers\\\\Buildings\\\\{0}'.format(file))\n"
     ]
    },
    {
     "name": "stdout",
     "output_type": "stream",
     "text": [
      "E:\\Barriers\\Polygons\\LA6.shp\n",
      "True\n"
     ]
    },
    {
     "name": "stderr",
     "output_type": "stream",
     "text": [
      "C:\\conda\\envs\\ox\\lib\\site-packages\\pygeos\\strtree.py:55: DeprecationWarning: `np.object` is a deprecated alias for the builtin `object`. To silence this warning, use `object` by itself. Doing this will not modify any behavior and is safe. \n",
      "Deprecated in NumPy 1.20; for more details and guidance: https://numpy.org/devdocs/release/1.20.0-notes.html#deprecations\n",
      "  self.geometries = np.asarray(geometries, dtype=np.object)\n",
      "C:\\conda\\envs\\ox\\lib\\site-packages\\pygeos\\coordinates.py:107: DeprecationWarning: `np.object` is a deprecated alias for the builtin `object`. To silence this warning, use `object` by itself. Doing this will not modify any behavior and is safe. \n",
      "Deprecated in NumPy 1.20; for more details and guidance: https://numpy.org/devdocs/release/1.20.0-notes.html#deprecations\n",
      "  return lib.get_coordinates(np.asarray(geometry, dtype=np.object), include_z)\n",
      "C:\\conda\\envs\\ox\\lib\\site-packages\\pygeos\\coordinates.py:130: DeprecationWarning: `np.object` is a deprecated alias for the builtin `object`. To silence this warning, use `object` by itself. Doing this will not modify any behavior and is safe. \n",
      "Deprecated in NumPy 1.20; for more details and guidance: https://numpy.org/devdocs/release/1.20.0-notes.html#deprecations\n",
      "  geometry_arr = np.asarray(geometry, dtype=np.object)\n",
      "<ipython-input-1-2b7241b072db>:48: UserWarning: Column names longer than 10 characters will be truncated when saved to ESRI Shapefile.\n",
      "  footprints_save.drop(labels='nodes', axis=1).to_file('E:\\\\Barriers\\\\Buildings\\\\{0}'.format(file))\n"
     ]
    },
    {
     "name": "stdout",
     "output_type": "stream",
     "text": [
      "E:\\Barriers\\Polygons\\LA7.shp\n",
      "True\n"
     ]
    },
    {
     "name": "stderr",
     "output_type": "stream",
     "text": [
      "C:\\conda\\envs\\ox\\lib\\site-packages\\pygeos\\strtree.py:55: DeprecationWarning: `np.object` is a deprecated alias for the builtin `object`. To silence this warning, use `object` by itself. Doing this will not modify any behavior and is safe. \n",
      "Deprecated in NumPy 1.20; for more details and guidance: https://numpy.org/devdocs/release/1.20.0-notes.html#deprecations\n",
      "  self.geometries = np.asarray(geometries, dtype=np.object)\n",
      "C:\\conda\\envs\\ox\\lib\\site-packages\\pygeos\\coordinates.py:107: DeprecationWarning: `np.object` is a deprecated alias for the builtin `object`. To silence this warning, use `object` by itself. Doing this will not modify any behavior and is safe. \n",
      "Deprecated in NumPy 1.20; for more details and guidance: https://numpy.org/devdocs/release/1.20.0-notes.html#deprecations\n",
      "  return lib.get_coordinates(np.asarray(geometry, dtype=np.object), include_z)\n",
      "C:\\conda\\envs\\ox\\lib\\site-packages\\pygeos\\coordinates.py:130: DeprecationWarning: `np.object` is a deprecated alias for the builtin `object`. To silence this warning, use `object` by itself. Doing this will not modify any behavior and is safe. \n",
      "Deprecated in NumPy 1.20; for more details and guidance: https://numpy.org/devdocs/release/1.20.0-notes.html#deprecations\n",
      "  geometry_arr = np.asarray(geometry, dtype=np.object)\n",
      "<ipython-input-1-2b7241b072db>:48: UserWarning: Column names longer than 10 characters will be truncated when saved to ESRI Shapefile.\n",
      "  footprints_save.drop(labels='nodes', axis=1).to_file('E:\\\\Barriers\\\\Buildings\\\\{0}'.format(file))\n"
     ]
    },
    {
     "name": "stdout",
     "output_type": "stream",
     "text": [
      "E:\\Barriers\\Polygons\\LA8.shp\n",
      "True\n"
     ]
    },
    {
     "name": "stderr",
     "output_type": "stream",
     "text": [
      "C:\\conda\\envs\\ox\\lib\\site-packages\\pygeos\\strtree.py:55: DeprecationWarning: `np.object` is a deprecated alias for the builtin `object`. To silence this warning, use `object` by itself. Doing this will not modify any behavior and is safe. \n",
      "Deprecated in NumPy 1.20; for more details and guidance: https://numpy.org/devdocs/release/1.20.0-notes.html#deprecations\n",
      "  self.geometries = np.asarray(geometries, dtype=np.object)\n",
      "C:\\conda\\envs\\ox\\lib\\site-packages\\pygeos\\coordinates.py:107: DeprecationWarning: `np.object` is a deprecated alias for the builtin `object`. To silence this warning, use `object` by itself. Doing this will not modify any behavior and is safe. \n",
      "Deprecated in NumPy 1.20; for more details and guidance: https://numpy.org/devdocs/release/1.20.0-notes.html#deprecations\n",
      "  return lib.get_coordinates(np.asarray(geometry, dtype=np.object), include_z)\n",
      "C:\\conda\\envs\\ox\\lib\\site-packages\\pygeos\\coordinates.py:130: DeprecationWarning: `np.object` is a deprecated alias for the builtin `object`. To silence this warning, use `object` by itself. Doing this will not modify any behavior and is safe. \n",
      "Deprecated in NumPy 1.20; for more details and guidance: https://numpy.org/devdocs/release/1.20.0-notes.html#deprecations\n",
      "  geometry_arr = np.asarray(geometry, dtype=np.object)\n",
      "<ipython-input-1-2b7241b072db>:48: UserWarning: Column names longer than 10 characters will be truncated when saved to ESRI Shapefile.\n",
      "  footprints_save.drop(labels='nodes', axis=1).to_file('E:\\\\Barriers\\\\Buildings\\\\{0}'.format(file))\n"
     ]
    },
    {
     "name": "stdout",
     "output_type": "stream",
     "text": [
      "E:\\Barriers\\Polygons\\LA9.shp\n",
      "True\n"
     ]
    },
    {
     "name": "stderr",
     "output_type": "stream",
     "text": [
      "C:\\conda\\envs\\ox\\lib\\site-packages\\pygeos\\strtree.py:55: DeprecationWarning: `np.object` is a deprecated alias for the builtin `object`. To silence this warning, use `object` by itself. Doing this will not modify any behavior and is safe. \n",
      "Deprecated in NumPy 1.20; for more details and guidance: https://numpy.org/devdocs/release/1.20.0-notes.html#deprecations\n",
      "  self.geometries = np.asarray(geometries, dtype=np.object)\n",
      "C:\\conda\\envs\\ox\\lib\\site-packages\\pygeos\\coordinates.py:107: DeprecationWarning: `np.object` is a deprecated alias for the builtin `object`. To silence this warning, use `object` by itself. Doing this will not modify any behavior and is safe. \n",
      "Deprecated in NumPy 1.20; for more details and guidance: https://numpy.org/devdocs/release/1.20.0-notes.html#deprecations\n",
      "  return lib.get_coordinates(np.asarray(geometry, dtype=np.object), include_z)\n",
      "C:\\conda\\envs\\ox\\lib\\site-packages\\pygeos\\coordinates.py:130: DeprecationWarning: `np.object` is a deprecated alias for the builtin `object`. To silence this warning, use `object` by itself. Doing this will not modify any behavior and is safe. \n",
      "Deprecated in NumPy 1.20; for more details and guidance: https://numpy.org/devdocs/release/1.20.0-notes.html#deprecations\n",
      "  geometry_arr = np.asarray(geometry, dtype=np.object)\n",
      "<ipython-input-1-2b7241b072db>:48: UserWarning: Column names longer than 10 characters will be truncated when saved to ESRI Shapefile.\n",
      "  footprints_save.drop(labels='nodes', axis=1).to_file('E:\\\\Barriers\\\\Buildings\\\\{0}'.format(file))\n"
     ]
    },
    {
     "name": "stdout",
     "output_type": "stream",
     "text": [
      "E:\\Barriers\\Polygons\\MA1.shp\n",
      "True\n"
     ]
    },
    {
     "name": "stderr",
     "output_type": "stream",
     "text": [
      "C:\\conda\\envs\\ox\\lib\\site-packages\\pygeos\\strtree.py:55: DeprecationWarning: `np.object` is a deprecated alias for the builtin `object`. To silence this warning, use `object` by itself. Doing this will not modify any behavior and is safe. \n",
      "Deprecated in NumPy 1.20; for more details and guidance: https://numpy.org/devdocs/release/1.20.0-notes.html#deprecations\n",
      "  self.geometries = np.asarray(geometries, dtype=np.object)\n",
      "C:\\conda\\envs\\ox\\lib\\site-packages\\pygeos\\coordinates.py:107: DeprecationWarning: `np.object` is a deprecated alias for the builtin `object`. To silence this warning, use `object` by itself. Doing this will not modify any behavior and is safe. \n",
      "Deprecated in NumPy 1.20; for more details and guidance: https://numpy.org/devdocs/release/1.20.0-notes.html#deprecations\n",
      "  return lib.get_coordinates(np.asarray(geometry, dtype=np.object), include_z)\n",
      "C:\\conda\\envs\\ox\\lib\\site-packages\\pygeos\\coordinates.py:130: DeprecationWarning: `np.object` is a deprecated alias for the builtin `object`. To silence this warning, use `object` by itself. Doing this will not modify any behavior and is safe. \n",
      "Deprecated in NumPy 1.20; for more details and guidance: https://numpy.org/devdocs/release/1.20.0-notes.html#deprecations\n",
      "  geometry_arr = np.asarray(geometry, dtype=np.object)\n",
      "<ipython-input-1-2b7241b072db>:48: UserWarning: Column names longer than 10 characters will be truncated when saved to ESRI Shapefile.\n",
      "  footprints_save.drop(labels='nodes', axis=1).to_file('E:\\\\Barriers\\\\Buildings\\\\{0}'.format(file))\n"
     ]
    },
    {
     "name": "stdout",
     "output_type": "stream",
     "text": [
      "E:\\Barriers\\Polygons\\MA10.shp\n",
      "True\n"
     ]
    },
    {
     "name": "stderr",
     "output_type": "stream",
     "text": [
      "C:\\conda\\envs\\ox\\lib\\site-packages\\pygeos\\strtree.py:55: DeprecationWarning: `np.object` is a deprecated alias for the builtin `object`. To silence this warning, use `object` by itself. Doing this will not modify any behavior and is safe. \n",
      "Deprecated in NumPy 1.20; for more details and guidance: https://numpy.org/devdocs/release/1.20.0-notes.html#deprecations\n",
      "  self.geometries = np.asarray(geometries, dtype=np.object)\n",
      "C:\\conda\\envs\\ox\\lib\\site-packages\\pygeos\\coordinates.py:107: DeprecationWarning: `np.object` is a deprecated alias for the builtin `object`. To silence this warning, use `object` by itself. Doing this will not modify any behavior and is safe. \n",
      "Deprecated in NumPy 1.20; for more details and guidance: https://numpy.org/devdocs/release/1.20.0-notes.html#deprecations\n",
      "  return lib.get_coordinates(np.asarray(geometry, dtype=np.object), include_z)\n",
      "C:\\conda\\envs\\ox\\lib\\site-packages\\pygeos\\coordinates.py:130: DeprecationWarning: `np.object` is a deprecated alias for the builtin `object`. To silence this warning, use `object` by itself. Doing this will not modify any behavior and is safe. \n",
      "Deprecated in NumPy 1.20; for more details and guidance: https://numpy.org/devdocs/release/1.20.0-notes.html#deprecations\n",
      "  geometry_arr = np.asarray(geometry, dtype=np.object)\n",
      "<ipython-input-1-2b7241b072db>:48: UserWarning: Column names longer than 10 characters will be truncated when saved to ESRI Shapefile.\n",
      "  footprints_save.drop(labels='nodes', axis=1).to_file('E:\\\\Barriers\\\\Buildings\\\\{0}'.format(file))\n"
     ]
    },
    {
     "name": "stdout",
     "output_type": "stream",
     "text": [
      "E:\\Barriers\\Polygons\\MA11.shp\n",
      "True\n"
     ]
    },
    {
     "name": "stderr",
     "output_type": "stream",
     "text": [
      "C:\\conda\\envs\\ox\\lib\\site-packages\\pygeos\\strtree.py:55: DeprecationWarning: `np.object` is a deprecated alias for the builtin `object`. To silence this warning, use `object` by itself. Doing this will not modify any behavior and is safe. \n",
      "Deprecated in NumPy 1.20; for more details and guidance: https://numpy.org/devdocs/release/1.20.0-notes.html#deprecations\n",
      "  self.geometries = np.asarray(geometries, dtype=np.object)\n",
      "C:\\conda\\envs\\ox\\lib\\site-packages\\pygeos\\coordinates.py:107: DeprecationWarning: `np.object` is a deprecated alias for the builtin `object`. To silence this warning, use `object` by itself. Doing this will not modify any behavior and is safe. \n",
      "Deprecated in NumPy 1.20; for more details and guidance: https://numpy.org/devdocs/release/1.20.0-notes.html#deprecations\n",
      "  return lib.get_coordinates(np.asarray(geometry, dtype=np.object), include_z)\n",
      "C:\\conda\\envs\\ox\\lib\\site-packages\\pygeos\\coordinates.py:130: DeprecationWarning: `np.object` is a deprecated alias for the builtin `object`. To silence this warning, use `object` by itself. Doing this will not modify any behavior and is safe. \n",
      "Deprecated in NumPy 1.20; for more details and guidance: https://numpy.org/devdocs/release/1.20.0-notes.html#deprecations\n",
      "  geometry_arr = np.asarray(geometry, dtype=np.object)\n",
      "<ipython-input-1-2b7241b072db>:48: UserWarning: Column names longer than 10 characters will be truncated when saved to ESRI Shapefile.\n",
      "  footprints_save.drop(labels='nodes', axis=1).to_file('E:\\\\Barriers\\\\Buildings\\\\{0}'.format(file))\n"
     ]
    },
    {
     "name": "stdout",
     "output_type": "stream",
     "text": [
      "E:\\Barriers\\Polygons\\MA12.shp\n",
      "True\n"
     ]
    },
    {
     "name": "stderr",
     "output_type": "stream",
     "text": [
      "C:\\conda\\envs\\ox\\lib\\site-packages\\pygeos\\strtree.py:55: DeprecationWarning: `np.object` is a deprecated alias for the builtin `object`. To silence this warning, use `object` by itself. Doing this will not modify any behavior and is safe. \n",
      "Deprecated in NumPy 1.20; for more details and guidance: https://numpy.org/devdocs/release/1.20.0-notes.html#deprecations\n",
      "  self.geometries = np.asarray(geometries, dtype=np.object)\n",
      "C:\\conda\\envs\\ox\\lib\\site-packages\\pygeos\\coordinates.py:107: DeprecationWarning: `np.object` is a deprecated alias for the builtin `object`. To silence this warning, use `object` by itself. Doing this will not modify any behavior and is safe. \n",
      "Deprecated in NumPy 1.20; for more details and guidance: https://numpy.org/devdocs/release/1.20.0-notes.html#deprecations\n",
      "  return lib.get_coordinates(np.asarray(geometry, dtype=np.object), include_z)\n",
      "C:\\conda\\envs\\ox\\lib\\site-packages\\pygeos\\coordinates.py:130: DeprecationWarning: `np.object` is a deprecated alias for the builtin `object`. To silence this warning, use `object` by itself. Doing this will not modify any behavior and is safe. \n",
      "Deprecated in NumPy 1.20; for more details and guidance: https://numpy.org/devdocs/release/1.20.0-notes.html#deprecations\n",
      "  geometry_arr = np.asarray(geometry, dtype=np.object)\n",
      "<ipython-input-1-2b7241b072db>:48: UserWarning: Column names longer than 10 characters will be truncated when saved to ESRI Shapefile.\n",
      "  footprints_save.drop(labels='nodes', axis=1).to_file('E:\\\\Barriers\\\\Buildings\\\\{0}'.format(file))\n"
     ]
    },
    {
     "name": "stdout",
     "output_type": "stream",
     "text": [
      "E:\\Barriers\\Polygons\\MA13.shp\n",
      "True\n"
     ]
    },
    {
     "name": "stderr",
     "output_type": "stream",
     "text": [
      "C:\\conda\\envs\\ox\\lib\\site-packages\\pygeos\\strtree.py:55: DeprecationWarning: `np.object` is a deprecated alias for the builtin `object`. To silence this warning, use `object` by itself. Doing this will not modify any behavior and is safe. \n",
      "Deprecated in NumPy 1.20; for more details and guidance: https://numpy.org/devdocs/release/1.20.0-notes.html#deprecations\n",
      "  self.geometries = np.asarray(geometries, dtype=np.object)\n",
      "C:\\conda\\envs\\ox\\lib\\site-packages\\pygeos\\coordinates.py:107: DeprecationWarning: `np.object` is a deprecated alias for the builtin `object`. To silence this warning, use `object` by itself. Doing this will not modify any behavior and is safe. \n",
      "Deprecated in NumPy 1.20; for more details and guidance: https://numpy.org/devdocs/release/1.20.0-notes.html#deprecations\n",
      "  return lib.get_coordinates(np.asarray(geometry, dtype=np.object), include_z)\n",
      "C:\\conda\\envs\\ox\\lib\\site-packages\\pygeos\\coordinates.py:130: DeprecationWarning: `np.object` is a deprecated alias for the builtin `object`. To silence this warning, use `object` by itself. Doing this will not modify any behavior and is safe. \n",
      "Deprecated in NumPy 1.20; for more details and guidance: https://numpy.org/devdocs/release/1.20.0-notes.html#deprecations\n",
      "  geometry_arr = np.asarray(geometry, dtype=np.object)\n",
      "<ipython-input-1-2b7241b072db>:48: UserWarning: Column names longer than 10 characters will be truncated when saved to ESRI Shapefile.\n",
      "  footprints_save.drop(labels='nodes', axis=1).to_file('E:\\\\Barriers\\\\Buildings\\\\{0}'.format(file))\n"
     ]
    },
    {
     "name": "stdout",
     "output_type": "stream",
     "text": [
      "E:\\Barriers\\Polygons\\MA14.shp\n",
      "True\n"
     ]
    },
    {
     "name": "stderr",
     "output_type": "stream",
     "text": [
      "C:\\conda\\envs\\ox\\lib\\site-packages\\pygeos\\strtree.py:55: DeprecationWarning: `np.object` is a deprecated alias for the builtin `object`. To silence this warning, use `object` by itself. Doing this will not modify any behavior and is safe. \n",
      "Deprecated in NumPy 1.20; for more details and guidance: https://numpy.org/devdocs/release/1.20.0-notes.html#deprecations\n",
      "  self.geometries = np.asarray(geometries, dtype=np.object)\n",
      "C:\\conda\\envs\\ox\\lib\\site-packages\\pygeos\\coordinates.py:107: DeprecationWarning: `np.object` is a deprecated alias for the builtin `object`. To silence this warning, use `object` by itself. Doing this will not modify any behavior and is safe. \n",
      "Deprecated in NumPy 1.20; for more details and guidance: https://numpy.org/devdocs/release/1.20.0-notes.html#deprecations\n",
      "  return lib.get_coordinates(np.asarray(geometry, dtype=np.object), include_z)\n",
      "C:\\conda\\envs\\ox\\lib\\site-packages\\pygeos\\coordinates.py:130: DeprecationWarning: `np.object` is a deprecated alias for the builtin `object`. To silence this warning, use `object` by itself. Doing this will not modify any behavior and is safe. \n",
      "Deprecated in NumPy 1.20; for more details and guidance: https://numpy.org/devdocs/release/1.20.0-notes.html#deprecations\n",
      "  geometry_arr = np.asarray(geometry, dtype=np.object)\n",
      "<ipython-input-1-2b7241b072db>:48: UserWarning: Column names longer than 10 characters will be truncated when saved to ESRI Shapefile.\n",
      "  footprints_save.drop(labels='nodes', axis=1).to_file('E:\\\\Barriers\\\\Buildings\\\\{0}'.format(file))\n"
     ]
    },
    {
     "name": "stdout",
     "output_type": "stream",
     "text": [
      "E:\\Barriers\\Polygons\\MA2.shp\n",
      "True\n"
     ]
    },
    {
     "name": "stderr",
     "output_type": "stream",
     "text": [
      "C:\\conda\\envs\\ox\\lib\\site-packages\\pygeos\\strtree.py:55: DeprecationWarning: `np.object` is a deprecated alias for the builtin `object`. To silence this warning, use `object` by itself. Doing this will not modify any behavior and is safe. \n",
      "Deprecated in NumPy 1.20; for more details and guidance: https://numpy.org/devdocs/release/1.20.0-notes.html#deprecations\n",
      "  self.geometries = np.asarray(geometries, dtype=np.object)\n",
      "C:\\conda\\envs\\ox\\lib\\site-packages\\pygeos\\coordinates.py:107: DeprecationWarning: `np.object` is a deprecated alias for the builtin `object`. To silence this warning, use `object` by itself. Doing this will not modify any behavior and is safe. \n",
      "Deprecated in NumPy 1.20; for more details and guidance: https://numpy.org/devdocs/release/1.20.0-notes.html#deprecations\n",
      "  return lib.get_coordinates(np.asarray(geometry, dtype=np.object), include_z)\n",
      "C:\\conda\\envs\\ox\\lib\\site-packages\\pygeos\\coordinates.py:130: DeprecationWarning: `np.object` is a deprecated alias for the builtin `object`. To silence this warning, use `object` by itself. Doing this will not modify any behavior and is safe. \n",
      "Deprecated in NumPy 1.20; for more details and guidance: https://numpy.org/devdocs/release/1.20.0-notes.html#deprecations\n",
      "  geometry_arr = np.asarray(geometry, dtype=np.object)\n",
      "<ipython-input-1-2b7241b072db>:48: UserWarning: Column names longer than 10 characters will be truncated when saved to ESRI Shapefile.\n",
      "  footprints_save.drop(labels='nodes', axis=1).to_file('E:\\\\Barriers\\\\Buildings\\\\{0}'.format(file))\n"
     ]
    },
    {
     "name": "stdout",
     "output_type": "stream",
     "text": [
      "E:\\Barriers\\Polygons\\MA3.shp\n",
      "True\n",
      "E:\\Barriers\\Polygons\\MA4.shp\n",
      "True\n"
     ]
    },
    {
     "name": "stderr",
     "output_type": "stream",
     "text": [
      "C:\\conda\\envs\\ox\\lib\\site-packages\\pygeos\\strtree.py:55: DeprecationWarning: `np.object` is a deprecated alias for the builtin `object`. To silence this warning, use `object` by itself. Doing this will not modify any behavior and is safe. \n",
      "Deprecated in NumPy 1.20; for more details and guidance: https://numpy.org/devdocs/release/1.20.0-notes.html#deprecations\n",
      "  self.geometries = np.asarray(geometries, dtype=np.object)\n",
      "C:\\conda\\envs\\ox\\lib\\site-packages\\pygeos\\coordinates.py:107: DeprecationWarning: `np.object` is a deprecated alias for the builtin `object`. To silence this warning, use `object` by itself. Doing this will not modify any behavior and is safe. \n",
      "Deprecated in NumPy 1.20; for more details and guidance: https://numpy.org/devdocs/release/1.20.0-notes.html#deprecations\n",
      "  return lib.get_coordinates(np.asarray(geometry, dtype=np.object), include_z)\n",
      "C:\\conda\\envs\\ox\\lib\\site-packages\\pygeos\\coordinates.py:130: DeprecationWarning: `np.object` is a deprecated alias for the builtin `object`. To silence this warning, use `object` by itself. Doing this will not modify any behavior and is safe. \n",
      "Deprecated in NumPy 1.20; for more details and guidance: https://numpy.org/devdocs/release/1.20.0-notes.html#deprecations\n",
      "  geometry_arr = np.asarray(geometry, dtype=np.object)\n",
      "<ipython-input-1-2b7241b072db>:48: UserWarning: Column names longer than 10 characters will be truncated when saved to ESRI Shapefile.\n",
      "  footprints_save.drop(labels='nodes', axis=1).to_file('E:\\\\Barriers\\\\Buildings\\\\{0}'.format(file))\n"
     ]
    },
    {
     "name": "stdout",
     "output_type": "stream",
     "text": [
      "E:\\Barriers\\Polygons\\MA5.shp\n",
      "True\n"
     ]
    },
    {
     "name": "stderr",
     "output_type": "stream",
     "text": [
      "C:\\conda\\envs\\ox\\lib\\site-packages\\pygeos\\strtree.py:55: DeprecationWarning: `np.object` is a deprecated alias for the builtin `object`. To silence this warning, use `object` by itself. Doing this will not modify any behavior and is safe. \n",
      "Deprecated in NumPy 1.20; for more details and guidance: https://numpy.org/devdocs/release/1.20.0-notes.html#deprecations\n",
      "  self.geometries = np.asarray(geometries, dtype=np.object)\n",
      "C:\\conda\\envs\\ox\\lib\\site-packages\\pygeos\\coordinates.py:107: DeprecationWarning: `np.object` is a deprecated alias for the builtin `object`. To silence this warning, use `object` by itself. Doing this will not modify any behavior and is safe. \n",
      "Deprecated in NumPy 1.20; for more details and guidance: https://numpy.org/devdocs/release/1.20.0-notes.html#deprecations\n",
      "  return lib.get_coordinates(np.asarray(geometry, dtype=np.object), include_z)\n",
      "C:\\conda\\envs\\ox\\lib\\site-packages\\pygeos\\coordinates.py:130: DeprecationWarning: `np.object` is a deprecated alias for the builtin `object`. To silence this warning, use `object` by itself. Doing this will not modify any behavior and is safe. \n",
      "Deprecated in NumPy 1.20; for more details and guidance: https://numpy.org/devdocs/release/1.20.0-notes.html#deprecations\n",
      "  geometry_arr = np.asarray(geometry, dtype=np.object)\n",
      "<ipython-input-1-2b7241b072db>:48: UserWarning: Column names longer than 10 characters will be truncated when saved to ESRI Shapefile.\n",
      "  footprints_save.drop(labels='nodes', axis=1).to_file('E:\\\\Barriers\\\\Buildings\\\\{0}'.format(file))\n"
     ]
    },
    {
     "name": "stdout",
     "output_type": "stream",
     "text": [
      "E:\\Barriers\\Polygons\\MA6.shp\n",
      "True\n"
     ]
    },
    {
     "name": "stderr",
     "output_type": "stream",
     "text": [
      "C:\\conda\\envs\\ox\\lib\\site-packages\\pygeos\\strtree.py:55: DeprecationWarning: `np.object` is a deprecated alias for the builtin `object`. To silence this warning, use `object` by itself. Doing this will not modify any behavior and is safe. \n",
      "Deprecated in NumPy 1.20; for more details and guidance: https://numpy.org/devdocs/release/1.20.0-notes.html#deprecations\n",
      "  self.geometries = np.asarray(geometries, dtype=np.object)\n",
      "C:\\conda\\envs\\ox\\lib\\site-packages\\pygeos\\coordinates.py:107: DeprecationWarning: `np.object` is a deprecated alias for the builtin `object`. To silence this warning, use `object` by itself. Doing this will not modify any behavior and is safe. \n",
      "Deprecated in NumPy 1.20; for more details and guidance: https://numpy.org/devdocs/release/1.20.0-notes.html#deprecations\n",
      "  return lib.get_coordinates(np.asarray(geometry, dtype=np.object), include_z)\n",
      "C:\\conda\\envs\\ox\\lib\\site-packages\\pygeos\\coordinates.py:130: DeprecationWarning: `np.object` is a deprecated alias for the builtin `object`. To silence this warning, use `object` by itself. Doing this will not modify any behavior and is safe. \n",
      "Deprecated in NumPy 1.20; for more details and guidance: https://numpy.org/devdocs/release/1.20.0-notes.html#deprecations\n",
      "  geometry_arr = np.asarray(geometry, dtype=np.object)\n",
      "<ipython-input-1-2b7241b072db>:48: UserWarning: Column names longer than 10 characters will be truncated when saved to ESRI Shapefile.\n",
      "  footprints_save.drop(labels='nodes', axis=1).to_file('E:\\\\Barriers\\\\Buildings\\\\{0}'.format(file))\n"
     ]
    },
    {
     "name": "stdout",
     "output_type": "stream",
     "text": [
      "E:\\Barriers\\Polygons\\MA7.shp\n",
      "True\n"
     ]
    },
    {
     "name": "stderr",
     "output_type": "stream",
     "text": [
      "C:\\conda\\envs\\ox\\lib\\site-packages\\pygeos\\strtree.py:55: DeprecationWarning: `np.object` is a deprecated alias for the builtin `object`. To silence this warning, use `object` by itself. Doing this will not modify any behavior and is safe. \n",
      "Deprecated in NumPy 1.20; for more details and guidance: https://numpy.org/devdocs/release/1.20.0-notes.html#deprecations\n",
      "  self.geometries = np.asarray(geometries, dtype=np.object)\n",
      "C:\\conda\\envs\\ox\\lib\\site-packages\\pygeos\\coordinates.py:107: DeprecationWarning: `np.object` is a deprecated alias for the builtin `object`. To silence this warning, use `object` by itself. Doing this will not modify any behavior and is safe. \n",
      "Deprecated in NumPy 1.20; for more details and guidance: https://numpy.org/devdocs/release/1.20.0-notes.html#deprecations\n",
      "  return lib.get_coordinates(np.asarray(geometry, dtype=np.object), include_z)\n",
      "C:\\conda\\envs\\ox\\lib\\site-packages\\pygeos\\coordinates.py:130: DeprecationWarning: `np.object` is a deprecated alias for the builtin `object`. To silence this warning, use `object` by itself. Doing this will not modify any behavior and is safe. \n",
      "Deprecated in NumPy 1.20; for more details and guidance: https://numpy.org/devdocs/release/1.20.0-notes.html#deprecations\n",
      "  geometry_arr = np.asarray(geometry, dtype=np.object)\n",
      "<ipython-input-1-2b7241b072db>:48: UserWarning: Column names longer than 10 characters will be truncated when saved to ESRI Shapefile.\n",
      "  footprints_save.drop(labels='nodes', axis=1).to_file('E:\\\\Barriers\\\\Buildings\\\\{0}'.format(file))\n"
     ]
    },
    {
     "name": "stdout",
     "output_type": "stream",
     "text": [
      "E:\\Barriers\\Polygons\\MA8.shp\n",
      "True\n"
     ]
    },
    {
     "name": "stderr",
     "output_type": "stream",
     "text": [
      "C:\\conda\\envs\\ox\\lib\\site-packages\\pygeos\\strtree.py:55: DeprecationWarning: `np.object` is a deprecated alias for the builtin `object`. To silence this warning, use `object` by itself. Doing this will not modify any behavior and is safe. \n",
      "Deprecated in NumPy 1.20; for more details and guidance: https://numpy.org/devdocs/release/1.20.0-notes.html#deprecations\n",
      "  self.geometries = np.asarray(geometries, dtype=np.object)\n",
      "C:\\conda\\envs\\ox\\lib\\site-packages\\pygeos\\coordinates.py:107: DeprecationWarning: `np.object` is a deprecated alias for the builtin `object`. To silence this warning, use `object` by itself. Doing this will not modify any behavior and is safe. \n",
      "Deprecated in NumPy 1.20; for more details and guidance: https://numpy.org/devdocs/release/1.20.0-notes.html#deprecations\n",
      "  return lib.get_coordinates(np.asarray(geometry, dtype=np.object), include_z)\n",
      "C:\\conda\\envs\\ox\\lib\\site-packages\\pygeos\\coordinates.py:130: DeprecationWarning: `np.object` is a deprecated alias for the builtin `object`. To silence this warning, use `object` by itself. Doing this will not modify any behavior and is safe. \n",
      "Deprecated in NumPy 1.20; for more details and guidance: https://numpy.org/devdocs/release/1.20.0-notes.html#deprecations\n",
      "  geometry_arr = np.asarray(geometry, dtype=np.object)\n",
      "<ipython-input-1-2b7241b072db>:48: UserWarning: Column names longer than 10 characters will be truncated when saved to ESRI Shapefile.\n",
      "  footprints_save.drop(labels='nodes', axis=1).to_file('E:\\\\Barriers\\\\Buildings\\\\{0}'.format(file))\n"
     ]
    },
    {
     "name": "stdout",
     "output_type": "stream",
     "text": [
      "E:\\Barriers\\Polygons\\MA9.shp\n",
      "True\n"
     ]
    },
    {
     "name": "stderr",
     "output_type": "stream",
     "text": [
      "C:\\conda\\envs\\ox\\lib\\site-packages\\pygeos\\strtree.py:55: DeprecationWarning: `np.object` is a deprecated alias for the builtin `object`. To silence this warning, use `object` by itself. Doing this will not modify any behavior and is safe. \n",
      "Deprecated in NumPy 1.20; for more details and guidance: https://numpy.org/devdocs/release/1.20.0-notes.html#deprecations\n",
      "  self.geometries = np.asarray(geometries, dtype=np.object)\n",
      "C:\\conda\\envs\\ox\\lib\\site-packages\\pygeos\\coordinates.py:107: DeprecationWarning: `np.object` is a deprecated alias for the builtin `object`. To silence this warning, use `object` by itself. Doing this will not modify any behavior and is safe. \n",
      "Deprecated in NumPy 1.20; for more details and guidance: https://numpy.org/devdocs/release/1.20.0-notes.html#deprecations\n",
      "  return lib.get_coordinates(np.asarray(geometry, dtype=np.object), include_z)\n",
      "C:\\conda\\envs\\ox\\lib\\site-packages\\pygeos\\coordinates.py:130: DeprecationWarning: `np.object` is a deprecated alias for the builtin `object`. To silence this warning, use `object` by itself. Doing this will not modify any behavior and is safe. \n",
      "Deprecated in NumPy 1.20; for more details and guidance: https://numpy.org/devdocs/release/1.20.0-notes.html#deprecations\n",
      "  geometry_arr = np.asarray(geometry, dtype=np.object)\n",
      "<ipython-input-1-2b7241b072db>:48: UserWarning: Column names longer than 10 characters will be truncated when saved to ESRI Shapefile.\n",
      "  footprints_save.drop(labels='nodes', axis=1).to_file('E:\\\\Barriers\\\\Buildings\\\\{0}'.format(file))\n"
     ]
    },
    {
     "name": "stdout",
     "output_type": "stream",
     "text": [
      "E:\\Barriers\\Polygons\\NC1.shp\n",
      "True\n"
     ]
    },
    {
     "name": "stderr",
     "output_type": "stream",
     "text": [
      "C:\\conda\\envs\\ox\\lib\\site-packages\\pygeos\\strtree.py:55: DeprecationWarning: `np.object` is a deprecated alias for the builtin `object`. To silence this warning, use `object` by itself. Doing this will not modify any behavior and is safe. \n",
      "Deprecated in NumPy 1.20; for more details and guidance: https://numpy.org/devdocs/release/1.20.0-notes.html#deprecations\n",
      "  self.geometries = np.asarray(geometries, dtype=np.object)\n",
      "C:\\conda\\envs\\ox\\lib\\site-packages\\pygeos\\coordinates.py:107: DeprecationWarning: `np.object` is a deprecated alias for the builtin `object`. To silence this warning, use `object` by itself. Doing this will not modify any behavior and is safe. \n",
      "Deprecated in NumPy 1.20; for more details and guidance: https://numpy.org/devdocs/release/1.20.0-notes.html#deprecations\n",
      "  return lib.get_coordinates(np.asarray(geometry, dtype=np.object), include_z)\n",
      "C:\\conda\\envs\\ox\\lib\\site-packages\\pygeos\\coordinates.py:130: DeprecationWarning: `np.object` is a deprecated alias for the builtin `object`. To silence this warning, use `object` by itself. Doing this will not modify any behavior and is safe. \n",
      "Deprecated in NumPy 1.20; for more details and guidance: https://numpy.org/devdocs/release/1.20.0-notes.html#deprecations\n",
      "  geometry_arr = np.asarray(geometry, dtype=np.object)\n",
      "<ipython-input-1-2b7241b072db>:48: UserWarning: Column names longer than 10 characters will be truncated when saved to ESRI Shapefile.\n",
      "  footprints_save.drop(labels='nodes', axis=1).to_file('E:\\\\Barriers\\\\Buildings\\\\{0}'.format(file))\n"
     ]
    },
    {
     "name": "stdout",
     "output_type": "stream",
     "text": [
      "E:\\Barriers\\Polygons\\NC10.shp\n",
      "True\n"
     ]
    },
    {
     "name": "stderr",
     "output_type": "stream",
     "text": [
      "C:\\conda\\envs\\ox\\lib\\site-packages\\pygeos\\strtree.py:55: DeprecationWarning: `np.object` is a deprecated alias for the builtin `object`. To silence this warning, use `object` by itself. Doing this will not modify any behavior and is safe. \n",
      "Deprecated in NumPy 1.20; for more details and guidance: https://numpy.org/devdocs/release/1.20.0-notes.html#deprecations\n",
      "  self.geometries = np.asarray(geometries, dtype=np.object)\n",
      "C:\\conda\\envs\\ox\\lib\\site-packages\\pygeos\\coordinates.py:107: DeprecationWarning: `np.object` is a deprecated alias for the builtin `object`. To silence this warning, use `object` by itself. Doing this will not modify any behavior and is safe. \n",
      "Deprecated in NumPy 1.20; for more details and guidance: https://numpy.org/devdocs/release/1.20.0-notes.html#deprecations\n",
      "  return lib.get_coordinates(np.asarray(geometry, dtype=np.object), include_z)\n",
      "C:\\conda\\envs\\ox\\lib\\site-packages\\pygeos\\coordinates.py:130: DeprecationWarning: `np.object` is a deprecated alias for the builtin `object`. To silence this warning, use `object` by itself. Doing this will not modify any behavior and is safe. \n",
      "Deprecated in NumPy 1.20; for more details and guidance: https://numpy.org/devdocs/release/1.20.0-notes.html#deprecations\n",
      "  geometry_arr = np.asarray(geometry, dtype=np.object)\n",
      "<ipython-input-1-2b7241b072db>:48: UserWarning: Column names longer than 10 characters will be truncated when saved to ESRI Shapefile.\n",
      "  footprints_save.drop(labels='nodes', axis=1).to_file('E:\\\\Barriers\\\\Buildings\\\\{0}'.format(file))\n"
     ]
    },
    {
     "name": "stdout",
     "output_type": "stream",
     "text": [
      "E:\\Barriers\\Polygons\\NC11.shp\n",
      "True\n"
     ]
    },
    {
     "name": "stderr",
     "output_type": "stream",
     "text": [
      "C:\\conda\\envs\\ox\\lib\\site-packages\\pygeos\\strtree.py:55: DeprecationWarning: `np.object` is a deprecated alias for the builtin `object`. To silence this warning, use `object` by itself. Doing this will not modify any behavior and is safe. \n",
      "Deprecated in NumPy 1.20; for more details and guidance: https://numpy.org/devdocs/release/1.20.0-notes.html#deprecations\n",
      "  self.geometries = np.asarray(geometries, dtype=np.object)\n",
      "C:\\conda\\envs\\ox\\lib\\site-packages\\pygeos\\coordinates.py:107: DeprecationWarning: `np.object` is a deprecated alias for the builtin `object`. To silence this warning, use `object` by itself. Doing this will not modify any behavior and is safe. \n",
      "Deprecated in NumPy 1.20; for more details and guidance: https://numpy.org/devdocs/release/1.20.0-notes.html#deprecations\n",
      "  return lib.get_coordinates(np.asarray(geometry, dtype=np.object), include_z)\n",
      "C:\\conda\\envs\\ox\\lib\\site-packages\\pygeos\\coordinates.py:130: DeprecationWarning: `np.object` is a deprecated alias for the builtin `object`. To silence this warning, use `object` by itself. Doing this will not modify any behavior and is safe. \n",
      "Deprecated in NumPy 1.20; for more details and guidance: https://numpy.org/devdocs/release/1.20.0-notes.html#deprecations\n",
      "  geometry_arr = np.asarray(geometry, dtype=np.object)\n",
      "<ipython-input-1-2b7241b072db>:48: UserWarning: Column names longer than 10 characters will be truncated when saved to ESRI Shapefile.\n",
      "  footprints_save.drop(labels='nodes', axis=1).to_file('E:\\\\Barriers\\\\Buildings\\\\{0}'.format(file))\n"
     ]
    },
    {
     "name": "stdout",
     "output_type": "stream",
     "text": [
      "E:\\Barriers\\Polygons\\NC12.shp\n",
      "True\n"
     ]
    },
    {
     "name": "stderr",
     "output_type": "stream",
     "text": [
      "C:\\conda\\envs\\ox\\lib\\site-packages\\pygeos\\strtree.py:55: DeprecationWarning: `np.object` is a deprecated alias for the builtin `object`. To silence this warning, use `object` by itself. Doing this will not modify any behavior and is safe. \n",
      "Deprecated in NumPy 1.20; for more details and guidance: https://numpy.org/devdocs/release/1.20.0-notes.html#deprecations\n",
      "  self.geometries = np.asarray(geometries, dtype=np.object)\n",
      "C:\\conda\\envs\\ox\\lib\\site-packages\\pygeos\\coordinates.py:107: DeprecationWarning: `np.object` is a deprecated alias for the builtin `object`. To silence this warning, use `object` by itself. Doing this will not modify any behavior and is safe. \n",
      "Deprecated in NumPy 1.20; for more details and guidance: https://numpy.org/devdocs/release/1.20.0-notes.html#deprecations\n",
      "  return lib.get_coordinates(np.asarray(geometry, dtype=np.object), include_z)\n",
      "C:\\conda\\envs\\ox\\lib\\site-packages\\pygeos\\coordinates.py:130: DeprecationWarning: `np.object` is a deprecated alias for the builtin `object`. To silence this warning, use `object` by itself. Doing this will not modify any behavior and is safe. \n",
      "Deprecated in NumPy 1.20; for more details and guidance: https://numpy.org/devdocs/release/1.20.0-notes.html#deprecations\n",
      "  geometry_arr = np.asarray(geometry, dtype=np.object)\n",
      "<ipython-input-1-2b7241b072db>:48: UserWarning: Column names longer than 10 characters will be truncated when saved to ESRI Shapefile.\n",
      "  footprints_save.drop(labels='nodes', axis=1).to_file('E:\\\\Barriers\\\\Buildings\\\\{0}'.format(file))\n"
     ]
    },
    {
     "name": "stdout",
     "output_type": "stream",
     "text": [
      "E:\\Barriers\\Polygons\\NC13.shp\n",
      "True\n"
     ]
    },
    {
     "name": "stderr",
     "output_type": "stream",
     "text": [
      "C:\\conda\\envs\\ox\\lib\\site-packages\\pygeos\\strtree.py:55: DeprecationWarning: `np.object` is a deprecated alias for the builtin `object`. To silence this warning, use `object` by itself. Doing this will not modify any behavior and is safe. \n",
      "Deprecated in NumPy 1.20; for more details and guidance: https://numpy.org/devdocs/release/1.20.0-notes.html#deprecations\n",
      "  self.geometries = np.asarray(geometries, dtype=np.object)\n",
      "C:\\conda\\envs\\ox\\lib\\site-packages\\pygeos\\coordinates.py:107: DeprecationWarning: `np.object` is a deprecated alias for the builtin `object`. To silence this warning, use `object` by itself. Doing this will not modify any behavior and is safe. \n",
      "Deprecated in NumPy 1.20; for more details and guidance: https://numpy.org/devdocs/release/1.20.0-notes.html#deprecations\n",
      "  return lib.get_coordinates(np.asarray(geometry, dtype=np.object), include_z)\n",
      "C:\\conda\\envs\\ox\\lib\\site-packages\\pygeos\\coordinates.py:130: DeprecationWarning: `np.object` is a deprecated alias for the builtin `object`. To silence this warning, use `object` by itself. Doing this will not modify any behavior and is safe. \n",
      "Deprecated in NumPy 1.20; for more details and guidance: https://numpy.org/devdocs/release/1.20.0-notes.html#deprecations\n",
      "  geometry_arr = np.asarray(geometry, dtype=np.object)\n",
      "<ipython-input-1-2b7241b072db>:48: UserWarning: Column names longer than 10 characters will be truncated when saved to ESRI Shapefile.\n",
      "  footprints_save.drop(labels='nodes', axis=1).to_file('E:\\\\Barriers\\\\Buildings\\\\{0}'.format(file))\n"
     ]
    },
    {
     "name": "stdout",
     "output_type": "stream",
     "text": [
      "E:\\Barriers\\Polygons\\NC14.shp\n",
      "True\n"
     ]
    },
    {
     "name": "stderr",
     "output_type": "stream",
     "text": [
      "C:\\conda\\envs\\ox\\lib\\site-packages\\pygeos\\strtree.py:55: DeprecationWarning: `np.object` is a deprecated alias for the builtin `object`. To silence this warning, use `object` by itself. Doing this will not modify any behavior and is safe. \n",
      "Deprecated in NumPy 1.20; for more details and guidance: https://numpy.org/devdocs/release/1.20.0-notes.html#deprecations\n",
      "  self.geometries = np.asarray(geometries, dtype=np.object)\n",
      "C:\\conda\\envs\\ox\\lib\\site-packages\\pygeos\\coordinates.py:107: DeprecationWarning: `np.object` is a deprecated alias for the builtin `object`. To silence this warning, use `object` by itself. Doing this will not modify any behavior and is safe. \n",
      "Deprecated in NumPy 1.20; for more details and guidance: https://numpy.org/devdocs/release/1.20.0-notes.html#deprecations\n",
      "  return lib.get_coordinates(np.asarray(geometry, dtype=np.object), include_z)\n",
      "C:\\conda\\envs\\ox\\lib\\site-packages\\pygeos\\coordinates.py:130: DeprecationWarning: `np.object` is a deprecated alias for the builtin `object`. To silence this warning, use `object` by itself. Doing this will not modify any behavior and is safe. \n",
      "Deprecated in NumPy 1.20; for more details and guidance: https://numpy.org/devdocs/release/1.20.0-notes.html#deprecations\n",
      "  geometry_arr = np.asarray(geometry, dtype=np.object)\n",
      "<ipython-input-1-2b7241b072db>:48: UserWarning: Column names longer than 10 characters will be truncated when saved to ESRI Shapefile.\n",
      "  footprints_save.drop(labels='nodes', axis=1).to_file('E:\\\\Barriers\\\\Buildings\\\\{0}'.format(file))\n"
     ]
    },
    {
     "name": "stdout",
     "output_type": "stream",
     "text": [
      "E:\\Barriers\\Polygons\\NC15.shp\n",
      "True\n"
     ]
    },
    {
     "name": "stderr",
     "output_type": "stream",
     "text": [
      "C:\\conda\\envs\\ox\\lib\\site-packages\\pygeos\\strtree.py:55: DeprecationWarning: `np.object` is a deprecated alias for the builtin `object`. To silence this warning, use `object` by itself. Doing this will not modify any behavior and is safe. \n",
      "Deprecated in NumPy 1.20; for more details and guidance: https://numpy.org/devdocs/release/1.20.0-notes.html#deprecations\n",
      "  self.geometries = np.asarray(geometries, dtype=np.object)\n",
      "C:\\conda\\envs\\ox\\lib\\site-packages\\pygeos\\coordinates.py:107: DeprecationWarning: `np.object` is a deprecated alias for the builtin `object`. To silence this warning, use `object` by itself. Doing this will not modify any behavior and is safe. \n",
      "Deprecated in NumPy 1.20; for more details and guidance: https://numpy.org/devdocs/release/1.20.0-notes.html#deprecations\n",
      "  return lib.get_coordinates(np.asarray(geometry, dtype=np.object), include_z)\n",
      "C:\\conda\\envs\\ox\\lib\\site-packages\\pygeos\\coordinates.py:130: DeprecationWarning: `np.object` is a deprecated alias for the builtin `object`. To silence this warning, use `object` by itself. Doing this will not modify any behavior and is safe. \n",
      "Deprecated in NumPy 1.20; for more details and guidance: https://numpy.org/devdocs/release/1.20.0-notes.html#deprecations\n",
      "  geometry_arr = np.asarray(geometry, dtype=np.object)\n",
      "<ipython-input-1-2b7241b072db>:48: UserWarning: Column names longer than 10 characters will be truncated when saved to ESRI Shapefile.\n",
      "  footprints_save.drop(labels='nodes', axis=1).to_file('E:\\\\Barriers\\\\Buildings\\\\{0}'.format(file))\n"
     ]
    },
    {
     "name": "stdout",
     "output_type": "stream",
     "text": [
      "E:\\Barriers\\Polygons\\NC16.shp\n",
      "True\n"
     ]
    },
    {
     "name": "stderr",
     "output_type": "stream",
     "text": [
      "C:\\conda\\envs\\ox\\lib\\site-packages\\pygeos\\strtree.py:55: DeprecationWarning: `np.object` is a deprecated alias for the builtin `object`. To silence this warning, use `object` by itself. Doing this will not modify any behavior and is safe. \n",
      "Deprecated in NumPy 1.20; for more details and guidance: https://numpy.org/devdocs/release/1.20.0-notes.html#deprecations\n",
      "  self.geometries = np.asarray(geometries, dtype=np.object)\n",
      "C:\\conda\\envs\\ox\\lib\\site-packages\\pygeos\\coordinates.py:107: DeprecationWarning: `np.object` is a deprecated alias for the builtin `object`. To silence this warning, use `object` by itself. Doing this will not modify any behavior and is safe. \n",
      "Deprecated in NumPy 1.20; for more details and guidance: https://numpy.org/devdocs/release/1.20.0-notes.html#deprecations\n",
      "  return lib.get_coordinates(np.asarray(geometry, dtype=np.object), include_z)\n",
      "C:\\conda\\envs\\ox\\lib\\site-packages\\pygeos\\coordinates.py:130: DeprecationWarning: `np.object` is a deprecated alias for the builtin `object`. To silence this warning, use `object` by itself. Doing this will not modify any behavior and is safe. \n",
      "Deprecated in NumPy 1.20; for more details and guidance: https://numpy.org/devdocs/release/1.20.0-notes.html#deprecations\n",
      "  geometry_arr = np.asarray(geometry, dtype=np.object)\n",
      "<ipython-input-1-2b7241b072db>:48: UserWarning: Column names longer than 10 characters will be truncated when saved to ESRI Shapefile.\n",
      "  footprints_save.drop(labels='nodes', axis=1).to_file('E:\\\\Barriers\\\\Buildings\\\\{0}'.format(file))\n"
     ]
    },
    {
     "name": "stdout",
     "output_type": "stream",
     "text": [
      "E:\\Barriers\\Polygons\\NC17.shp\n",
      "True\n",
      "E:\\Barriers\\Polygons\\NC18.shp\n",
      "True\n"
     ]
    },
    {
     "name": "stderr",
     "output_type": "stream",
     "text": [
      "C:\\conda\\envs\\ox\\lib\\site-packages\\pygeos\\strtree.py:55: DeprecationWarning: `np.object` is a deprecated alias for the builtin `object`. To silence this warning, use `object` by itself. Doing this will not modify any behavior and is safe. \n",
      "Deprecated in NumPy 1.20; for more details and guidance: https://numpy.org/devdocs/release/1.20.0-notes.html#deprecations\n",
      "  self.geometries = np.asarray(geometries, dtype=np.object)\n",
      "C:\\conda\\envs\\ox\\lib\\site-packages\\pygeos\\coordinates.py:107: DeprecationWarning: `np.object` is a deprecated alias for the builtin `object`. To silence this warning, use `object` by itself. Doing this will not modify any behavior and is safe. \n",
      "Deprecated in NumPy 1.20; for more details and guidance: https://numpy.org/devdocs/release/1.20.0-notes.html#deprecations\n",
      "  return lib.get_coordinates(np.asarray(geometry, dtype=np.object), include_z)\n",
      "C:\\conda\\envs\\ox\\lib\\site-packages\\pygeos\\coordinates.py:130: DeprecationWarning: `np.object` is a deprecated alias for the builtin `object`. To silence this warning, use `object` by itself. Doing this will not modify any behavior and is safe. \n",
      "Deprecated in NumPy 1.20; for more details and guidance: https://numpy.org/devdocs/release/1.20.0-notes.html#deprecations\n",
      "  geometry_arr = np.asarray(geometry, dtype=np.object)\n",
      "<ipython-input-1-2b7241b072db>:48: UserWarning: Column names longer than 10 characters will be truncated when saved to ESRI Shapefile.\n",
      "  footprints_save.drop(labels='nodes', axis=1).to_file('E:\\\\Barriers\\\\Buildings\\\\{0}'.format(file))\n"
     ]
    },
    {
     "name": "stdout",
     "output_type": "stream",
     "text": [
      "E:\\Barriers\\Polygons\\NC19.shp\n",
      "True\n",
      "E:\\Barriers\\Polygons\\NC2.shp\n",
      "True\n"
     ]
    },
    {
     "name": "stderr",
     "output_type": "stream",
     "text": [
      "C:\\conda\\envs\\ox\\lib\\site-packages\\pygeos\\strtree.py:55: DeprecationWarning: `np.object` is a deprecated alias for the builtin `object`. To silence this warning, use `object` by itself. Doing this will not modify any behavior and is safe. \n",
      "Deprecated in NumPy 1.20; for more details and guidance: https://numpy.org/devdocs/release/1.20.0-notes.html#deprecations\n",
      "  self.geometries = np.asarray(geometries, dtype=np.object)\n",
      "C:\\conda\\envs\\ox\\lib\\site-packages\\pygeos\\coordinates.py:107: DeprecationWarning: `np.object` is a deprecated alias for the builtin `object`. To silence this warning, use `object` by itself. Doing this will not modify any behavior and is safe. \n",
      "Deprecated in NumPy 1.20; for more details and guidance: https://numpy.org/devdocs/release/1.20.0-notes.html#deprecations\n",
      "  return lib.get_coordinates(np.asarray(geometry, dtype=np.object), include_z)\n",
      "C:\\conda\\envs\\ox\\lib\\site-packages\\pygeos\\coordinates.py:130: DeprecationWarning: `np.object` is a deprecated alias for the builtin `object`. To silence this warning, use `object` by itself. Doing this will not modify any behavior and is safe. \n",
      "Deprecated in NumPy 1.20; for more details and guidance: https://numpy.org/devdocs/release/1.20.0-notes.html#deprecations\n",
      "  geometry_arr = np.asarray(geometry, dtype=np.object)\n"
     ]
    },
    {
     "name": "stdout",
     "output_type": "stream",
     "text": [
      "E:\\Barriers\\Polygons\\NC20.shp\n",
      "True\n"
     ]
    },
    {
     "name": "stderr",
     "output_type": "stream",
     "text": [
      "<ipython-input-1-2b7241b072db>:48: UserWarning: Column names longer than 10 characters will be truncated when saved to ESRI Shapefile.\n",
      "  footprints_save.drop(labels='nodes', axis=1).to_file('E:\\\\Barriers\\\\Buildings\\\\{0}'.format(file))\n",
      "C:\\conda\\envs\\ox\\lib\\site-packages\\pygeos\\strtree.py:55: DeprecationWarning: `np.object` is a deprecated alias for the builtin `object`. To silence this warning, use `object` by itself. Doing this will not modify any behavior and is safe. \n",
      "Deprecated in NumPy 1.20; for more details and guidance: https://numpy.org/devdocs/release/1.20.0-notes.html#deprecations\n",
      "  self.geometries = np.asarray(geometries, dtype=np.object)\n",
      "C:\\conda\\envs\\ox\\lib\\site-packages\\pygeos\\coordinates.py:107: DeprecationWarning: `np.object` is a deprecated alias for the builtin `object`. To silence this warning, use `object` by itself. Doing this will not modify any behavior and is safe. \n",
      "Deprecated in NumPy 1.20; for more details and guidance: https://numpy.org/devdocs/release/1.20.0-notes.html#deprecations\n",
      "  return lib.get_coordinates(np.asarray(geometry, dtype=np.object), include_z)\n",
      "C:\\conda\\envs\\ox\\lib\\site-packages\\pygeos\\coordinates.py:130: DeprecationWarning: `np.object` is a deprecated alias for the builtin `object`. To silence this warning, use `object` by itself. Doing this will not modify any behavior and is safe. \n",
      "Deprecated in NumPy 1.20; for more details and guidance: https://numpy.org/devdocs/release/1.20.0-notes.html#deprecations\n",
      "  geometry_arr = np.asarray(geometry, dtype=np.object)\n",
      "<ipython-input-1-2b7241b072db>:48: UserWarning: Column names longer than 10 characters will be truncated when saved to ESRI Shapefile.\n",
      "  footprints_save.drop(labels='nodes', axis=1).to_file('E:\\\\Barriers\\\\Buildings\\\\{0}'.format(file))\n"
     ]
    },
    {
     "name": "stdout",
     "output_type": "stream",
     "text": [
      "E:\\Barriers\\Polygons\\NC21.shp\n",
      "True\n"
     ]
    },
    {
     "name": "stderr",
     "output_type": "stream",
     "text": [
      "C:\\conda\\envs\\ox\\lib\\site-packages\\pygeos\\strtree.py:55: DeprecationWarning: `np.object` is a deprecated alias for the builtin `object`. To silence this warning, use `object` by itself. Doing this will not modify any behavior and is safe. \n",
      "Deprecated in NumPy 1.20; for more details and guidance: https://numpy.org/devdocs/release/1.20.0-notes.html#deprecations\n",
      "  self.geometries = np.asarray(geometries, dtype=np.object)\n",
      "C:\\conda\\envs\\ox\\lib\\site-packages\\pygeos\\coordinates.py:107: DeprecationWarning: `np.object` is a deprecated alias for the builtin `object`. To silence this warning, use `object` by itself. Doing this will not modify any behavior and is safe. \n",
      "Deprecated in NumPy 1.20; for more details and guidance: https://numpy.org/devdocs/release/1.20.0-notes.html#deprecations\n",
      "  return lib.get_coordinates(np.asarray(geometry, dtype=np.object), include_z)\n",
      "C:\\conda\\envs\\ox\\lib\\site-packages\\pygeos\\coordinates.py:130: DeprecationWarning: `np.object` is a deprecated alias for the builtin `object`. To silence this warning, use `object` by itself. Doing this will not modify any behavior and is safe. \n",
      "Deprecated in NumPy 1.20; for more details and guidance: https://numpy.org/devdocs/release/1.20.0-notes.html#deprecations\n",
      "  geometry_arr = np.asarray(geometry, dtype=np.object)\n"
     ]
    },
    {
     "name": "stdout",
     "output_type": "stream",
     "text": [
      "E:\\Barriers\\Polygons\\NC22.shp\n",
      "True\n"
     ]
    },
    {
     "name": "stderr",
     "output_type": "stream",
     "text": [
      "<ipython-input-1-2b7241b072db>:48: UserWarning: Column names longer than 10 characters will be truncated when saved to ESRI Shapefile.\n",
      "  footprints_save.drop(labels='nodes', axis=1).to_file('E:\\\\Barriers\\\\Buildings\\\\{0}'.format(file))\n",
      "C:\\conda\\envs\\ox\\lib\\site-packages\\pygeos\\strtree.py:55: DeprecationWarning: `np.object` is a deprecated alias for the builtin `object`. To silence this warning, use `object` by itself. Doing this will not modify any behavior and is safe. \n",
      "Deprecated in NumPy 1.20; for more details and guidance: https://numpy.org/devdocs/release/1.20.0-notes.html#deprecations\n",
      "  self.geometries = np.asarray(geometries, dtype=np.object)\n",
      "C:\\conda\\envs\\ox\\lib\\site-packages\\pygeos\\coordinates.py:107: DeprecationWarning: `np.object` is a deprecated alias for the builtin `object`. To silence this warning, use `object` by itself. Doing this will not modify any behavior and is safe. \n",
      "Deprecated in NumPy 1.20; for more details and guidance: https://numpy.org/devdocs/release/1.20.0-notes.html#deprecations\n",
      "  return lib.get_coordinates(np.asarray(geometry, dtype=np.object), include_z)\n",
      "C:\\conda\\envs\\ox\\lib\\site-packages\\pygeos\\coordinates.py:130: DeprecationWarning: `np.object` is a deprecated alias for the builtin `object`. To silence this warning, use `object` by itself. Doing this will not modify any behavior and is safe. \n",
      "Deprecated in NumPy 1.20; for more details and guidance: https://numpy.org/devdocs/release/1.20.0-notes.html#deprecations\n",
      "  geometry_arr = np.asarray(geometry, dtype=np.object)\n"
     ]
    },
    {
     "name": "stdout",
     "output_type": "stream",
     "text": [
      "E:\\Barriers\\Polygons\\NC3.shp\n",
      "True\n"
     ]
    },
    {
     "name": "stderr",
     "output_type": "stream",
     "text": [
      "<ipython-input-1-2b7241b072db>:48: UserWarning: Column names longer than 10 characters will be truncated when saved to ESRI Shapefile.\n",
      "  footprints_save.drop(labels='nodes', axis=1).to_file('E:\\\\Barriers\\\\Buildings\\\\{0}'.format(file))\n",
      "C:\\conda\\envs\\ox\\lib\\site-packages\\pygeos\\strtree.py:55: DeprecationWarning: `np.object` is a deprecated alias for the builtin `object`. To silence this warning, use `object` by itself. Doing this will not modify any behavior and is safe. \n",
      "Deprecated in NumPy 1.20; for more details and guidance: https://numpy.org/devdocs/release/1.20.0-notes.html#deprecations\n",
      "  self.geometries = np.asarray(geometries, dtype=np.object)\n",
      "C:\\conda\\envs\\ox\\lib\\site-packages\\pygeos\\coordinates.py:107: DeprecationWarning: `np.object` is a deprecated alias for the builtin `object`. To silence this warning, use `object` by itself. Doing this will not modify any behavior and is safe. \n",
      "Deprecated in NumPy 1.20; for more details and guidance: https://numpy.org/devdocs/release/1.20.0-notes.html#deprecations\n",
      "  return lib.get_coordinates(np.asarray(geometry, dtype=np.object), include_z)\n",
      "C:\\conda\\envs\\ox\\lib\\site-packages\\pygeos\\coordinates.py:130: DeprecationWarning: `np.object` is a deprecated alias for the builtin `object`. To silence this warning, use `object` by itself. Doing this will not modify any behavior and is safe. \n",
      "Deprecated in NumPy 1.20; for more details and guidance: https://numpy.org/devdocs/release/1.20.0-notes.html#deprecations\n",
      "  geometry_arr = np.asarray(geometry, dtype=np.object)\n",
      "<ipython-input-1-2b7241b072db>:48: UserWarning: Column names longer than 10 characters will be truncated when saved to ESRI Shapefile.\n",
      "  footprints_save.drop(labels='nodes', axis=1).to_file('E:\\\\Barriers\\\\Buildings\\\\{0}'.format(file))\n"
     ]
    },
    {
     "name": "stdout",
     "output_type": "stream",
     "text": [
      "E:\\Barriers\\Polygons\\NC4.shp\n",
      "True\n"
     ]
    },
    {
     "name": "stderr",
     "output_type": "stream",
     "text": [
      "C:\\conda\\envs\\ox\\lib\\site-packages\\pygeos\\strtree.py:55: DeprecationWarning: `np.object` is a deprecated alias for the builtin `object`. To silence this warning, use `object` by itself. Doing this will not modify any behavior and is safe. \n",
      "Deprecated in NumPy 1.20; for more details and guidance: https://numpy.org/devdocs/release/1.20.0-notes.html#deprecations\n",
      "  self.geometries = np.asarray(geometries, dtype=np.object)\n",
      "C:\\conda\\envs\\ox\\lib\\site-packages\\pygeos\\coordinates.py:107: DeprecationWarning: `np.object` is a deprecated alias for the builtin `object`. To silence this warning, use `object` by itself. Doing this will not modify any behavior and is safe. \n",
      "Deprecated in NumPy 1.20; for more details and guidance: https://numpy.org/devdocs/release/1.20.0-notes.html#deprecations\n",
      "  return lib.get_coordinates(np.asarray(geometry, dtype=np.object), include_z)\n",
      "C:\\conda\\envs\\ox\\lib\\site-packages\\pygeos\\coordinates.py:130: DeprecationWarning: `np.object` is a deprecated alias for the builtin `object`. To silence this warning, use `object` by itself. Doing this will not modify any behavior and is safe. \n",
      "Deprecated in NumPy 1.20; for more details and guidance: https://numpy.org/devdocs/release/1.20.0-notes.html#deprecations\n",
      "  geometry_arr = np.asarray(geometry, dtype=np.object)\n",
      "<ipython-input-1-2b7241b072db>:48: UserWarning: Column names longer than 10 characters will be truncated when saved to ESRI Shapefile.\n",
      "  footprints_save.drop(labels='nodes', axis=1).to_file('E:\\\\Barriers\\\\Buildings\\\\{0}'.format(file))\n"
     ]
    },
    {
     "name": "stdout",
     "output_type": "stream",
     "text": [
      "E:\\Barriers\\Polygons\\NC5.shp\n",
      "True\n"
     ]
    },
    {
     "name": "stderr",
     "output_type": "stream",
     "text": [
      "C:\\conda\\envs\\ox\\lib\\site-packages\\pygeos\\strtree.py:55: DeprecationWarning: `np.object` is a deprecated alias for the builtin `object`. To silence this warning, use `object` by itself. Doing this will not modify any behavior and is safe. \n",
      "Deprecated in NumPy 1.20; for more details and guidance: https://numpy.org/devdocs/release/1.20.0-notes.html#deprecations\n",
      "  self.geometries = np.asarray(geometries, dtype=np.object)\n",
      "C:\\conda\\envs\\ox\\lib\\site-packages\\pygeos\\coordinates.py:107: DeprecationWarning: `np.object` is a deprecated alias for the builtin `object`. To silence this warning, use `object` by itself. Doing this will not modify any behavior and is safe. \n",
      "Deprecated in NumPy 1.20; for more details and guidance: https://numpy.org/devdocs/release/1.20.0-notes.html#deprecations\n",
      "  return lib.get_coordinates(np.asarray(geometry, dtype=np.object), include_z)\n",
      "C:\\conda\\envs\\ox\\lib\\site-packages\\pygeos\\coordinates.py:130: DeprecationWarning: `np.object` is a deprecated alias for the builtin `object`. To silence this warning, use `object` by itself. Doing this will not modify any behavior and is safe. \n",
      "Deprecated in NumPy 1.20; for more details and guidance: https://numpy.org/devdocs/release/1.20.0-notes.html#deprecations\n",
      "  geometry_arr = np.asarray(geometry, dtype=np.object)\n"
     ]
    },
    {
     "name": "stdout",
     "output_type": "stream",
     "text": [
      "E:\\Barriers\\Polygons\\NC6.shp\n",
      "True\n",
      "E:\\Barriers\\Polygons\\NC7.shp\n",
      "True\n",
      "E:\\Barriers\\Polygons\\NC8.shp\n",
      "True\n"
     ]
    },
    {
     "name": "stderr",
     "output_type": "stream",
     "text": [
      "<ipython-input-1-2b7241b072db>:48: UserWarning: Column names longer than 10 characters will be truncated when saved to ESRI Shapefile.\n",
      "  footprints_save.drop(labels='nodes', axis=1).to_file('E:\\\\Barriers\\\\Buildings\\\\{0}'.format(file))\n",
      "C:\\conda\\envs\\ox\\lib\\site-packages\\pygeos\\strtree.py:55: DeprecationWarning: `np.object` is a deprecated alias for the builtin `object`. To silence this warning, use `object` by itself. Doing this will not modify any behavior and is safe. \n",
      "Deprecated in NumPy 1.20; for more details and guidance: https://numpy.org/devdocs/release/1.20.0-notes.html#deprecations\n",
      "  self.geometries = np.asarray(geometries, dtype=np.object)\n",
      "C:\\conda\\envs\\ox\\lib\\site-packages\\pygeos\\coordinates.py:107: DeprecationWarning: `np.object` is a deprecated alias for the builtin `object`. To silence this warning, use `object` by itself. Doing this will not modify any behavior and is safe. \n",
      "Deprecated in NumPy 1.20; for more details and guidance: https://numpy.org/devdocs/release/1.20.0-notes.html#deprecations\n",
      "  return lib.get_coordinates(np.asarray(geometry, dtype=np.object), include_z)\n",
      "C:\\conda\\envs\\ox\\lib\\site-packages\\pygeos\\coordinates.py:130: DeprecationWarning: `np.object` is a deprecated alias for the builtin `object`. To silence this warning, use `object` by itself. Doing this will not modify any behavior and is safe. \n",
      "Deprecated in NumPy 1.20; for more details and guidance: https://numpy.org/devdocs/release/1.20.0-notes.html#deprecations\n",
      "  geometry_arr = np.asarray(geometry, dtype=np.object)\n",
      "<ipython-input-1-2b7241b072db>:48: UserWarning: Column names longer than 10 characters will be truncated when saved to ESRI Shapefile.\n",
      "  footprints_save.drop(labels='nodes', axis=1).to_file('E:\\\\Barriers\\\\Buildings\\\\{0}'.format(file))\n"
     ]
    },
    {
     "name": "stdout",
     "output_type": "stream",
     "text": [
      "E:\\Barriers\\Polygons\\NC9.shp\n",
      "True\n",
      "E:\\Barriers\\Polygons\\NJ1.shp\n",
      "True\n"
     ]
    },
    {
     "name": "stderr",
     "output_type": "stream",
     "text": [
      "C:\\conda\\envs\\ox\\lib\\site-packages\\pygeos\\strtree.py:55: DeprecationWarning: `np.object` is a deprecated alias for the builtin `object`. To silence this warning, use `object` by itself. Doing this will not modify any behavior and is safe. \n",
      "Deprecated in NumPy 1.20; for more details and guidance: https://numpy.org/devdocs/release/1.20.0-notes.html#deprecations\n",
      "  self.geometries = np.asarray(geometries, dtype=np.object)\n",
      "C:\\conda\\envs\\ox\\lib\\site-packages\\pygeos\\coordinates.py:107: DeprecationWarning: `np.object` is a deprecated alias for the builtin `object`. To silence this warning, use `object` by itself. Doing this will not modify any behavior and is safe. \n",
      "Deprecated in NumPy 1.20; for more details and guidance: https://numpy.org/devdocs/release/1.20.0-notes.html#deprecations\n",
      "  return lib.get_coordinates(np.asarray(geometry, dtype=np.object), include_z)\n",
      "C:\\conda\\envs\\ox\\lib\\site-packages\\pygeos\\coordinates.py:130: DeprecationWarning: `np.object` is a deprecated alias for the builtin `object`. To silence this warning, use `object` by itself. Doing this will not modify any behavior and is safe. \n",
      "Deprecated in NumPy 1.20; for more details and guidance: https://numpy.org/devdocs/release/1.20.0-notes.html#deprecations\n",
      "  geometry_arr = np.asarray(geometry, dtype=np.object)\n",
      "<ipython-input-1-2b7241b072db>:48: UserWarning: Column names longer than 10 characters will be truncated when saved to ESRI Shapefile.\n",
      "  footprints_save.drop(labels='nodes', axis=1).to_file('E:\\\\Barriers\\\\Buildings\\\\{0}'.format(file))\n"
     ]
    },
    {
     "name": "stdout",
     "output_type": "stream",
     "text": [
      "E:\\Barriers\\Polygons\\NJ10.shp\n",
      "True\n"
     ]
    },
    {
     "name": "stderr",
     "output_type": "stream",
     "text": [
      "C:\\conda\\envs\\ox\\lib\\site-packages\\pygeos\\strtree.py:55: DeprecationWarning: `np.object` is a deprecated alias for the builtin `object`. To silence this warning, use `object` by itself. Doing this will not modify any behavior and is safe. \n",
      "Deprecated in NumPy 1.20; for more details and guidance: https://numpy.org/devdocs/release/1.20.0-notes.html#deprecations\n",
      "  self.geometries = np.asarray(geometries, dtype=np.object)\n",
      "C:\\conda\\envs\\ox\\lib\\site-packages\\pygeos\\coordinates.py:107: DeprecationWarning: `np.object` is a deprecated alias for the builtin `object`. To silence this warning, use `object` by itself. Doing this will not modify any behavior and is safe. \n",
      "Deprecated in NumPy 1.20; for more details and guidance: https://numpy.org/devdocs/release/1.20.0-notes.html#deprecations\n",
      "  return lib.get_coordinates(np.asarray(geometry, dtype=np.object), include_z)\n",
      "C:\\conda\\envs\\ox\\lib\\site-packages\\pygeos\\coordinates.py:130: DeprecationWarning: `np.object` is a deprecated alias for the builtin `object`. To silence this warning, use `object` by itself. Doing this will not modify any behavior and is safe. \n",
      "Deprecated in NumPy 1.20; for more details and guidance: https://numpy.org/devdocs/release/1.20.0-notes.html#deprecations\n",
      "  geometry_arr = np.asarray(geometry, dtype=np.object)\n",
      "<ipython-input-1-2b7241b072db>:48: UserWarning: Column names longer than 10 characters will be truncated when saved to ESRI Shapefile.\n",
      "  footprints_save.drop(labels='nodes', axis=1).to_file('E:\\\\Barriers\\\\Buildings\\\\{0}'.format(file))\n"
     ]
    },
    {
     "name": "stdout",
     "output_type": "stream",
     "text": [
      "E:\\Barriers\\Polygons\\NJ11.shp\n",
      "True\n"
     ]
    },
    {
     "name": "stderr",
     "output_type": "stream",
     "text": [
      "C:\\conda\\envs\\ox\\lib\\site-packages\\pygeos\\strtree.py:55: DeprecationWarning: `np.object` is a deprecated alias for the builtin `object`. To silence this warning, use `object` by itself. Doing this will not modify any behavior and is safe. \n",
      "Deprecated in NumPy 1.20; for more details and guidance: https://numpy.org/devdocs/release/1.20.0-notes.html#deprecations\n",
      "  self.geometries = np.asarray(geometries, dtype=np.object)\n",
      "C:\\conda\\envs\\ox\\lib\\site-packages\\pygeos\\coordinates.py:107: DeprecationWarning: `np.object` is a deprecated alias for the builtin `object`. To silence this warning, use `object` by itself. Doing this will not modify any behavior and is safe. \n",
      "Deprecated in NumPy 1.20; for more details and guidance: https://numpy.org/devdocs/release/1.20.0-notes.html#deprecations\n",
      "  return lib.get_coordinates(np.asarray(geometry, dtype=np.object), include_z)\n",
      "C:\\conda\\envs\\ox\\lib\\site-packages\\pygeos\\coordinates.py:130: DeprecationWarning: `np.object` is a deprecated alias for the builtin `object`. To silence this warning, use `object` by itself. Doing this will not modify any behavior and is safe. \n",
      "Deprecated in NumPy 1.20; for more details and guidance: https://numpy.org/devdocs/release/1.20.0-notes.html#deprecations\n",
      "  geometry_arr = np.asarray(geometry, dtype=np.object)\n",
      "<ipython-input-1-2b7241b072db>:48: UserWarning: Column names longer than 10 characters will be truncated when saved to ESRI Shapefile.\n",
      "  footprints_save.drop(labels='nodes', axis=1).to_file('E:\\\\Barriers\\\\Buildings\\\\{0}'.format(file))\n"
     ]
    },
    {
     "name": "stdout",
     "output_type": "stream",
     "text": [
      "E:\\Barriers\\Polygons\\NJ2.shp\n",
      "True\n"
     ]
    },
    {
     "name": "stderr",
     "output_type": "stream",
     "text": [
      "C:\\conda\\envs\\ox\\lib\\site-packages\\pygeos\\strtree.py:55: DeprecationWarning: `np.object` is a deprecated alias for the builtin `object`. To silence this warning, use `object` by itself. Doing this will not modify any behavior and is safe. \n",
      "Deprecated in NumPy 1.20; for more details and guidance: https://numpy.org/devdocs/release/1.20.0-notes.html#deprecations\n",
      "  self.geometries = np.asarray(geometries, dtype=np.object)\n",
      "C:\\conda\\envs\\ox\\lib\\site-packages\\pygeos\\coordinates.py:107: DeprecationWarning: `np.object` is a deprecated alias for the builtin `object`. To silence this warning, use `object` by itself. Doing this will not modify any behavior and is safe. \n",
      "Deprecated in NumPy 1.20; for more details and guidance: https://numpy.org/devdocs/release/1.20.0-notes.html#deprecations\n",
      "  return lib.get_coordinates(np.asarray(geometry, dtype=np.object), include_z)\n",
      "C:\\conda\\envs\\ox\\lib\\site-packages\\pygeos\\coordinates.py:130: DeprecationWarning: `np.object` is a deprecated alias for the builtin `object`. To silence this warning, use `object` by itself. Doing this will not modify any behavior and is safe. \n",
      "Deprecated in NumPy 1.20; for more details and guidance: https://numpy.org/devdocs/release/1.20.0-notes.html#deprecations\n",
      "  geometry_arr = np.asarray(geometry, dtype=np.object)\n",
      "<ipython-input-1-2b7241b072db>:48: UserWarning: Column names longer than 10 characters will be truncated when saved to ESRI Shapefile.\n",
      "  footprints_save.drop(labels='nodes', axis=1).to_file('E:\\\\Barriers\\\\Buildings\\\\{0}'.format(file))\n"
     ]
    },
    {
     "name": "stdout",
     "output_type": "stream",
     "text": [
      "E:\\Barriers\\Polygons\\NJ3.shp\n",
      "True\n"
     ]
    },
    {
     "name": "stderr",
     "output_type": "stream",
     "text": [
      "C:\\conda\\envs\\ox\\lib\\site-packages\\pygeos\\strtree.py:55: DeprecationWarning: `np.object` is a deprecated alias for the builtin `object`. To silence this warning, use `object` by itself. Doing this will not modify any behavior and is safe. \n",
      "Deprecated in NumPy 1.20; for more details and guidance: https://numpy.org/devdocs/release/1.20.0-notes.html#deprecations\n",
      "  self.geometries = np.asarray(geometries, dtype=np.object)\n",
      "C:\\conda\\envs\\ox\\lib\\site-packages\\pygeos\\coordinates.py:107: DeprecationWarning: `np.object` is a deprecated alias for the builtin `object`. To silence this warning, use `object` by itself. Doing this will not modify any behavior and is safe. \n",
      "Deprecated in NumPy 1.20; for more details and guidance: https://numpy.org/devdocs/release/1.20.0-notes.html#deprecations\n",
      "  return lib.get_coordinates(np.asarray(geometry, dtype=np.object), include_z)\n",
      "C:\\conda\\envs\\ox\\lib\\site-packages\\pygeos\\coordinates.py:130: DeprecationWarning: `np.object` is a deprecated alias for the builtin `object`. To silence this warning, use `object` by itself. Doing this will not modify any behavior and is safe. \n",
      "Deprecated in NumPy 1.20; for more details and guidance: https://numpy.org/devdocs/release/1.20.0-notes.html#deprecations\n",
      "  geometry_arr = np.asarray(geometry, dtype=np.object)\n",
      "<ipython-input-1-2b7241b072db>:48: UserWarning: Column names longer than 10 characters will be truncated when saved to ESRI Shapefile.\n",
      "  footprints_save.drop(labels='nodes', axis=1).to_file('E:\\\\Barriers\\\\Buildings\\\\{0}'.format(file))\n"
     ]
    },
    {
     "name": "stdout",
     "output_type": "stream",
     "text": [
      "E:\\Barriers\\Polygons\\NJ4.shp\n",
      "True\n"
     ]
    },
    {
     "name": "stderr",
     "output_type": "stream",
     "text": [
      "C:\\conda\\envs\\ox\\lib\\site-packages\\pygeos\\strtree.py:55: DeprecationWarning: `np.object` is a deprecated alias for the builtin `object`. To silence this warning, use `object` by itself. Doing this will not modify any behavior and is safe. \n",
      "Deprecated in NumPy 1.20; for more details and guidance: https://numpy.org/devdocs/release/1.20.0-notes.html#deprecations\n",
      "  self.geometries = np.asarray(geometries, dtype=np.object)\n",
      "C:\\conda\\envs\\ox\\lib\\site-packages\\pygeos\\coordinates.py:107: DeprecationWarning: `np.object` is a deprecated alias for the builtin `object`. To silence this warning, use `object` by itself. Doing this will not modify any behavior and is safe. \n",
      "Deprecated in NumPy 1.20; for more details and guidance: https://numpy.org/devdocs/release/1.20.0-notes.html#deprecations\n",
      "  return lib.get_coordinates(np.asarray(geometry, dtype=np.object), include_z)\n",
      "C:\\conda\\envs\\ox\\lib\\site-packages\\pygeos\\coordinates.py:130: DeprecationWarning: `np.object` is a deprecated alias for the builtin `object`. To silence this warning, use `object` by itself. Doing this will not modify any behavior and is safe. \n",
      "Deprecated in NumPy 1.20; for more details and guidance: https://numpy.org/devdocs/release/1.20.0-notes.html#deprecations\n",
      "  geometry_arr = np.asarray(geometry, dtype=np.object)\n",
      "<ipython-input-1-2b7241b072db>:48: UserWarning: Column names longer than 10 characters will be truncated when saved to ESRI Shapefile.\n",
      "  footprints_save.drop(labels='nodes', axis=1).to_file('E:\\\\Barriers\\\\Buildings\\\\{0}'.format(file))\n"
     ]
    },
    {
     "name": "stdout",
     "output_type": "stream",
     "text": [
      "E:\\Barriers\\Polygons\\NJ5.shp\n",
      "True\n"
     ]
    },
    {
     "name": "stderr",
     "output_type": "stream",
     "text": [
      "C:\\conda\\envs\\ox\\lib\\site-packages\\pygeos\\strtree.py:55: DeprecationWarning: `np.object` is a deprecated alias for the builtin `object`. To silence this warning, use `object` by itself. Doing this will not modify any behavior and is safe. \n",
      "Deprecated in NumPy 1.20; for more details and guidance: https://numpy.org/devdocs/release/1.20.0-notes.html#deprecations\n",
      "  self.geometries = np.asarray(geometries, dtype=np.object)\n",
      "C:\\conda\\envs\\ox\\lib\\site-packages\\pygeos\\coordinates.py:107: DeprecationWarning: `np.object` is a deprecated alias for the builtin `object`. To silence this warning, use `object` by itself. Doing this will not modify any behavior and is safe. \n",
      "Deprecated in NumPy 1.20; for more details and guidance: https://numpy.org/devdocs/release/1.20.0-notes.html#deprecations\n",
      "  return lib.get_coordinates(np.asarray(geometry, dtype=np.object), include_z)\n",
      "C:\\conda\\envs\\ox\\lib\\site-packages\\pygeos\\coordinates.py:130: DeprecationWarning: `np.object` is a deprecated alias for the builtin `object`. To silence this warning, use `object` by itself. Doing this will not modify any behavior and is safe. \n",
      "Deprecated in NumPy 1.20; for more details and guidance: https://numpy.org/devdocs/release/1.20.0-notes.html#deprecations\n",
      "  geometry_arr = np.asarray(geometry, dtype=np.object)\n",
      "<ipython-input-1-2b7241b072db>:48: UserWarning: Column names longer than 10 characters will be truncated when saved to ESRI Shapefile.\n",
      "  footprints_save.drop(labels='nodes', axis=1).to_file('E:\\\\Barriers\\\\Buildings\\\\{0}'.format(file))\n"
     ]
    },
    {
     "name": "stdout",
     "output_type": "stream",
     "text": [
      "E:\\Barriers\\Polygons\\NJ6.shp\n",
      "True\n"
     ]
    },
    {
     "name": "stderr",
     "output_type": "stream",
     "text": [
      "C:\\conda\\envs\\ox\\lib\\site-packages\\pygeos\\strtree.py:55: DeprecationWarning: `np.object` is a deprecated alias for the builtin `object`. To silence this warning, use `object` by itself. Doing this will not modify any behavior and is safe. \n",
      "Deprecated in NumPy 1.20; for more details and guidance: https://numpy.org/devdocs/release/1.20.0-notes.html#deprecations\n",
      "  self.geometries = np.asarray(geometries, dtype=np.object)\n",
      "C:\\conda\\envs\\ox\\lib\\site-packages\\pygeos\\coordinates.py:107: DeprecationWarning: `np.object` is a deprecated alias for the builtin `object`. To silence this warning, use `object` by itself. Doing this will not modify any behavior and is safe. \n",
      "Deprecated in NumPy 1.20; for more details and guidance: https://numpy.org/devdocs/release/1.20.0-notes.html#deprecations\n",
      "  return lib.get_coordinates(np.asarray(geometry, dtype=np.object), include_z)\n",
      "C:\\conda\\envs\\ox\\lib\\site-packages\\pygeos\\coordinates.py:130: DeprecationWarning: `np.object` is a deprecated alias for the builtin `object`. To silence this warning, use `object` by itself. Doing this will not modify any behavior and is safe. \n",
      "Deprecated in NumPy 1.20; for more details and guidance: https://numpy.org/devdocs/release/1.20.0-notes.html#deprecations\n",
      "  geometry_arr = np.asarray(geometry, dtype=np.object)\n",
      "<ipython-input-1-2b7241b072db>:48: UserWarning: Column names longer than 10 characters will be truncated when saved to ESRI Shapefile.\n",
      "  footprints_save.drop(labels='nodes', axis=1).to_file('E:\\\\Barriers\\\\Buildings\\\\{0}'.format(file))\n"
     ]
    },
    {
     "name": "stdout",
     "output_type": "stream",
     "text": [
      "E:\\Barriers\\Polygons\\NJ7.shp\n",
      "True\n"
     ]
    },
    {
     "name": "stderr",
     "output_type": "stream",
     "text": [
      "C:\\conda\\envs\\ox\\lib\\site-packages\\pygeos\\strtree.py:55: DeprecationWarning: `np.object` is a deprecated alias for the builtin `object`. To silence this warning, use `object` by itself. Doing this will not modify any behavior and is safe. \n",
      "Deprecated in NumPy 1.20; for more details and guidance: https://numpy.org/devdocs/release/1.20.0-notes.html#deprecations\n",
      "  self.geometries = np.asarray(geometries, dtype=np.object)\n",
      "C:\\conda\\envs\\ox\\lib\\site-packages\\pygeos\\coordinates.py:107: DeprecationWarning: `np.object` is a deprecated alias for the builtin `object`. To silence this warning, use `object` by itself. Doing this will not modify any behavior and is safe. \n",
      "Deprecated in NumPy 1.20; for more details and guidance: https://numpy.org/devdocs/release/1.20.0-notes.html#deprecations\n",
      "  return lib.get_coordinates(np.asarray(geometry, dtype=np.object), include_z)\n",
      "C:\\conda\\envs\\ox\\lib\\site-packages\\pygeos\\coordinates.py:130: DeprecationWarning: `np.object` is a deprecated alias for the builtin `object`. To silence this warning, use `object` by itself. Doing this will not modify any behavior and is safe. \n",
      "Deprecated in NumPy 1.20; for more details and guidance: https://numpy.org/devdocs/release/1.20.0-notes.html#deprecations\n",
      "  geometry_arr = np.asarray(geometry, dtype=np.object)\n"
     ]
    },
    {
     "name": "stdout",
     "output_type": "stream",
     "text": [
      "E:\\Barriers\\Polygons\\NJ8.shp\n",
      "True\n",
      "E:\\Barriers\\Polygons\\NJ9.shp\n",
      "True\n"
     ]
    },
    {
     "name": "stderr",
     "output_type": "stream",
     "text": [
      "<ipython-input-1-2b7241b072db>:48: UserWarning: Column names longer than 10 characters will be truncated when saved to ESRI Shapefile.\n",
      "  footprints_save.drop(labels='nodes', axis=1).to_file('E:\\\\Barriers\\\\Buildings\\\\{0}'.format(file))\n",
      "C:\\conda\\envs\\ox\\lib\\site-packages\\pygeos\\strtree.py:55: DeprecationWarning: `np.object` is a deprecated alias for the builtin `object`. To silence this warning, use `object` by itself. Doing this will not modify any behavior and is safe. \n",
      "Deprecated in NumPy 1.20; for more details and guidance: https://numpy.org/devdocs/release/1.20.0-notes.html#deprecations\n",
      "  self.geometries = np.asarray(geometries, dtype=np.object)\n",
      "C:\\conda\\envs\\ox\\lib\\site-packages\\pygeos\\coordinates.py:107: DeprecationWarning: `np.object` is a deprecated alias for the builtin `object`. To silence this warning, use `object` by itself. Doing this will not modify any behavior and is safe. \n",
      "Deprecated in NumPy 1.20; for more details and guidance: https://numpy.org/devdocs/release/1.20.0-notes.html#deprecations\n",
      "  return lib.get_coordinates(np.asarray(geometry, dtype=np.object), include_z)\n",
      "C:\\conda\\envs\\ox\\lib\\site-packages\\pygeos\\coordinates.py:130: DeprecationWarning: `np.object` is a deprecated alias for the builtin `object`. To silence this warning, use `object` by itself. Doing this will not modify any behavior and is safe. \n",
      "Deprecated in NumPy 1.20; for more details and guidance: https://numpy.org/devdocs/release/1.20.0-notes.html#deprecations\n",
      "  geometry_arr = np.asarray(geometry, dtype=np.object)\n",
      "<ipython-input-1-2b7241b072db>:48: UserWarning: Column names longer than 10 characters will be truncated when saved to ESRI Shapefile.\n",
      "  footprints_save.drop(labels='nodes', axis=1).to_file('E:\\\\Barriers\\\\Buildings\\\\{0}'.format(file))\n"
     ]
    },
    {
     "name": "stdout",
     "output_type": "stream",
     "text": [
      "E:\\Barriers\\Polygons\\NY1.shp\n",
      "True\n"
     ]
    },
    {
     "name": "stderr",
     "output_type": "stream",
     "text": [
      "C:\\conda\\envs\\ox\\lib\\site-packages\\pygeos\\strtree.py:55: DeprecationWarning: `np.object` is a deprecated alias for the builtin `object`. To silence this warning, use `object` by itself. Doing this will not modify any behavior and is safe. \n",
      "Deprecated in NumPy 1.20; for more details and guidance: https://numpy.org/devdocs/release/1.20.0-notes.html#deprecations\n",
      "  self.geometries = np.asarray(geometries, dtype=np.object)\n",
      "C:\\conda\\envs\\ox\\lib\\site-packages\\pygeos\\coordinates.py:107: DeprecationWarning: `np.object` is a deprecated alias for the builtin `object`. To silence this warning, use `object` by itself. Doing this will not modify any behavior and is safe. \n",
      "Deprecated in NumPy 1.20; for more details and guidance: https://numpy.org/devdocs/release/1.20.0-notes.html#deprecations\n",
      "  return lib.get_coordinates(np.asarray(geometry, dtype=np.object), include_z)\n",
      "C:\\conda\\envs\\ox\\lib\\site-packages\\pygeos\\coordinates.py:130: DeprecationWarning: `np.object` is a deprecated alias for the builtin `object`. To silence this warning, use `object` by itself. Doing this will not modify any behavior and is safe. \n",
      "Deprecated in NumPy 1.20; for more details and guidance: https://numpy.org/devdocs/release/1.20.0-notes.html#deprecations\n",
      "  geometry_arr = np.asarray(geometry, dtype=np.object)\n",
      "<ipython-input-1-2b7241b072db>:48: UserWarning: Column names longer than 10 characters will be truncated when saved to ESRI Shapefile.\n",
      "  footprints_save.drop(labels='nodes', axis=1).to_file('E:\\\\Barriers\\\\Buildings\\\\{0}'.format(file))\n"
     ]
    },
    {
     "name": "stdout",
     "output_type": "stream",
     "text": [
      "E:\\Barriers\\Polygons\\NY2.shp\n",
      "True\n"
     ]
    },
    {
     "name": "stderr",
     "output_type": "stream",
     "text": [
      "C:\\conda\\envs\\ox\\lib\\site-packages\\pygeos\\strtree.py:55: DeprecationWarning: `np.object` is a deprecated alias for the builtin `object`. To silence this warning, use `object` by itself. Doing this will not modify any behavior and is safe. \n",
      "Deprecated in NumPy 1.20; for more details and guidance: https://numpy.org/devdocs/release/1.20.0-notes.html#deprecations\n",
      "  self.geometries = np.asarray(geometries, dtype=np.object)\n",
      "C:\\conda\\envs\\ox\\lib\\site-packages\\pygeos\\coordinates.py:107: DeprecationWarning: `np.object` is a deprecated alias for the builtin `object`. To silence this warning, use `object` by itself. Doing this will not modify any behavior and is safe. \n",
      "Deprecated in NumPy 1.20; for more details and guidance: https://numpy.org/devdocs/release/1.20.0-notes.html#deprecations\n",
      "  return lib.get_coordinates(np.asarray(geometry, dtype=np.object), include_z)\n",
      "C:\\conda\\envs\\ox\\lib\\site-packages\\pygeos\\coordinates.py:130: DeprecationWarning: `np.object` is a deprecated alias for the builtin `object`. To silence this warning, use `object` by itself. Doing this will not modify any behavior and is safe. \n",
      "Deprecated in NumPy 1.20; for more details and guidance: https://numpy.org/devdocs/release/1.20.0-notes.html#deprecations\n",
      "  geometry_arr = np.asarray(geometry, dtype=np.object)\n",
      "<ipython-input-1-2b7241b072db>:48: UserWarning: Column names longer than 10 characters will be truncated when saved to ESRI Shapefile.\n",
      "  footprints_save.drop(labels='nodes', axis=1).to_file('E:\\\\Barriers\\\\Buildings\\\\{0}'.format(file))\n"
     ]
    },
    {
     "name": "stdout",
     "output_type": "stream",
     "text": [
      "E:\\Barriers\\Polygons\\NY3.shp\n",
      "True\n"
     ]
    },
    {
     "name": "stderr",
     "output_type": "stream",
     "text": [
      "C:\\conda\\envs\\ox\\lib\\site-packages\\pygeos\\strtree.py:55: DeprecationWarning: `np.object` is a deprecated alias for the builtin `object`. To silence this warning, use `object` by itself. Doing this will not modify any behavior and is safe. \n",
      "Deprecated in NumPy 1.20; for more details and guidance: https://numpy.org/devdocs/release/1.20.0-notes.html#deprecations\n",
      "  self.geometries = np.asarray(geometries, dtype=np.object)\n",
      "C:\\conda\\envs\\ox\\lib\\site-packages\\pygeos\\coordinates.py:107: DeprecationWarning: `np.object` is a deprecated alias for the builtin `object`. To silence this warning, use `object` by itself. Doing this will not modify any behavior and is safe. \n",
      "Deprecated in NumPy 1.20; for more details and guidance: https://numpy.org/devdocs/release/1.20.0-notes.html#deprecations\n",
      "  return lib.get_coordinates(np.asarray(geometry, dtype=np.object), include_z)\n",
      "C:\\conda\\envs\\ox\\lib\\site-packages\\pygeos\\coordinates.py:130: DeprecationWarning: `np.object` is a deprecated alias for the builtin `object`. To silence this warning, use `object` by itself. Doing this will not modify any behavior and is safe. \n",
      "Deprecated in NumPy 1.20; for more details and guidance: https://numpy.org/devdocs/release/1.20.0-notes.html#deprecations\n",
      "  geometry_arr = np.asarray(geometry, dtype=np.object)\n",
      "<ipython-input-1-2b7241b072db>:48: UserWarning: Column names longer than 10 characters will be truncated when saved to ESRI Shapefile.\n",
      "  footprints_save.drop(labels='nodes', axis=1).to_file('E:\\\\Barriers\\\\Buildings\\\\{0}'.format(file))\n"
     ]
    },
    {
     "name": "stdout",
     "output_type": "stream",
     "text": [
      "E:\\Barriers\\Polygons\\NY4.shp\n",
      "True\n"
     ]
    },
    {
     "name": "stderr",
     "output_type": "stream",
     "text": [
      "C:\\conda\\envs\\ox\\lib\\site-packages\\pygeos\\strtree.py:55: DeprecationWarning: `np.object` is a deprecated alias for the builtin `object`. To silence this warning, use `object` by itself. Doing this will not modify any behavior and is safe. \n",
      "Deprecated in NumPy 1.20; for more details and guidance: https://numpy.org/devdocs/release/1.20.0-notes.html#deprecations\n",
      "  self.geometries = np.asarray(geometries, dtype=np.object)\n",
      "C:\\conda\\envs\\ox\\lib\\site-packages\\pygeos\\coordinates.py:107: DeprecationWarning: `np.object` is a deprecated alias for the builtin `object`. To silence this warning, use `object` by itself. Doing this will not modify any behavior and is safe. \n",
      "Deprecated in NumPy 1.20; for more details and guidance: https://numpy.org/devdocs/release/1.20.0-notes.html#deprecations\n",
      "  return lib.get_coordinates(np.asarray(geometry, dtype=np.object), include_z)\n",
      "C:\\conda\\envs\\ox\\lib\\site-packages\\pygeos\\coordinates.py:130: DeprecationWarning: `np.object` is a deprecated alias for the builtin `object`. To silence this warning, use `object` by itself. Doing this will not modify any behavior and is safe. \n",
      "Deprecated in NumPy 1.20; for more details and guidance: https://numpy.org/devdocs/release/1.20.0-notes.html#deprecations\n",
      "  geometry_arr = np.asarray(geometry, dtype=np.object)\n",
      "<ipython-input-1-2b7241b072db>:48: UserWarning: Column names longer than 10 characters will be truncated when saved to ESRI Shapefile.\n",
      "  footprints_save.drop(labels='nodes', axis=1).to_file('E:\\\\Barriers\\\\Buildings\\\\{0}'.format(file))\n"
     ]
    },
    {
     "name": "stdout",
     "output_type": "stream",
     "text": [
      "E:\\Barriers\\Polygons\\NY5.shp\n",
      "True\n"
     ]
    },
    {
     "name": "stderr",
     "output_type": "stream",
     "text": [
      "C:\\conda\\envs\\ox\\lib\\site-packages\\pygeos\\strtree.py:55: DeprecationWarning: `np.object` is a deprecated alias for the builtin `object`. To silence this warning, use `object` by itself. Doing this will not modify any behavior and is safe. \n",
      "Deprecated in NumPy 1.20; for more details and guidance: https://numpy.org/devdocs/release/1.20.0-notes.html#deprecations\n",
      "  self.geometries = np.asarray(geometries, dtype=np.object)\n",
      "C:\\conda\\envs\\ox\\lib\\site-packages\\pygeos\\coordinates.py:107: DeprecationWarning: `np.object` is a deprecated alias for the builtin `object`. To silence this warning, use `object` by itself. Doing this will not modify any behavior and is safe. \n",
      "Deprecated in NumPy 1.20; for more details and guidance: https://numpy.org/devdocs/release/1.20.0-notes.html#deprecations\n",
      "  return lib.get_coordinates(np.asarray(geometry, dtype=np.object), include_z)\n",
      "C:\\conda\\envs\\ox\\lib\\site-packages\\pygeos\\coordinates.py:130: DeprecationWarning: `np.object` is a deprecated alias for the builtin `object`. To silence this warning, use `object` by itself. Doing this will not modify any behavior and is safe. \n",
      "Deprecated in NumPy 1.20; for more details and guidance: https://numpy.org/devdocs/release/1.20.0-notes.html#deprecations\n",
      "  geometry_arr = np.asarray(geometry, dtype=np.object)\n",
      "<ipython-input-1-2b7241b072db>:48: UserWarning: Column names longer than 10 characters will be truncated when saved to ESRI Shapefile.\n",
      "  footprints_save.drop(labels='nodes', axis=1).to_file('E:\\\\Barriers\\\\Buildings\\\\{0}'.format(file))\n"
     ]
    },
    {
     "name": "stdout",
     "output_type": "stream",
     "text": [
      "E:\\Barriers\\Polygons\\NY6.shp\n",
      "True\n"
     ]
    },
    {
     "name": "stderr",
     "output_type": "stream",
     "text": [
      "C:\\conda\\envs\\ox\\lib\\site-packages\\pygeos\\strtree.py:55: DeprecationWarning: `np.object` is a deprecated alias for the builtin `object`. To silence this warning, use `object` by itself. Doing this will not modify any behavior and is safe. \n",
      "Deprecated in NumPy 1.20; for more details and guidance: https://numpy.org/devdocs/release/1.20.0-notes.html#deprecations\n",
      "  self.geometries = np.asarray(geometries, dtype=np.object)\n",
      "C:\\conda\\envs\\ox\\lib\\site-packages\\pygeos\\coordinates.py:107: DeprecationWarning: `np.object` is a deprecated alias for the builtin `object`. To silence this warning, use `object` by itself. Doing this will not modify any behavior and is safe. \n",
      "Deprecated in NumPy 1.20; for more details and guidance: https://numpy.org/devdocs/release/1.20.0-notes.html#deprecations\n",
      "  return lib.get_coordinates(np.asarray(geometry, dtype=np.object), include_z)\n",
      "C:\\conda\\envs\\ox\\lib\\site-packages\\pygeos\\coordinates.py:130: DeprecationWarning: `np.object` is a deprecated alias for the builtin `object`. To silence this warning, use `object` by itself. Doing this will not modify any behavior and is safe. \n",
      "Deprecated in NumPy 1.20; for more details and guidance: https://numpy.org/devdocs/release/1.20.0-notes.html#deprecations\n",
      "  geometry_arr = np.asarray(geometry, dtype=np.object)\n",
      "<ipython-input-1-2b7241b072db>:48: UserWarning: Column names longer than 10 characters will be truncated when saved to ESRI Shapefile.\n",
      "  footprints_save.drop(labels='nodes', axis=1).to_file('E:\\\\Barriers\\\\Buildings\\\\{0}'.format(file))\n"
     ]
    },
    {
     "name": "stdout",
     "output_type": "stream",
     "text": [
      "E:\\Barriers\\Polygons\\NY7.shp\n",
      "True\n"
     ]
    },
    {
     "name": "stderr",
     "output_type": "stream",
     "text": [
      "C:\\conda\\envs\\ox\\lib\\site-packages\\pygeos\\strtree.py:55: DeprecationWarning: `np.object` is a deprecated alias for the builtin `object`. To silence this warning, use `object` by itself. Doing this will not modify any behavior and is safe. \n",
      "Deprecated in NumPy 1.20; for more details and guidance: https://numpy.org/devdocs/release/1.20.0-notes.html#deprecations\n",
      "  self.geometries = np.asarray(geometries, dtype=np.object)\n",
      "C:\\conda\\envs\\ox\\lib\\site-packages\\pygeos\\coordinates.py:107: DeprecationWarning: `np.object` is a deprecated alias for the builtin `object`. To silence this warning, use `object` by itself. Doing this will not modify any behavior and is safe. \n",
      "Deprecated in NumPy 1.20; for more details and guidance: https://numpy.org/devdocs/release/1.20.0-notes.html#deprecations\n",
      "  return lib.get_coordinates(np.asarray(geometry, dtype=np.object), include_z)\n",
      "C:\\conda\\envs\\ox\\lib\\site-packages\\pygeos\\coordinates.py:130: DeprecationWarning: `np.object` is a deprecated alias for the builtin `object`. To silence this warning, use `object` by itself. Doing this will not modify any behavior and is safe. \n",
      "Deprecated in NumPy 1.20; for more details and guidance: https://numpy.org/devdocs/release/1.20.0-notes.html#deprecations\n",
      "  geometry_arr = np.asarray(geometry, dtype=np.object)\n",
      "<ipython-input-1-2b7241b072db>:48: UserWarning: Column names longer than 10 characters will be truncated when saved to ESRI Shapefile.\n",
      "  footprints_save.drop(labels='nodes', axis=1).to_file('E:\\\\Barriers\\\\Buildings\\\\{0}'.format(file))\n"
     ]
    },
    {
     "name": "stdout",
     "output_type": "stream",
     "text": [
      "E:\\Barriers\\Polygons\\RI1.shp\n",
      "True\n",
      "E:\\Barriers\\Polygons\\RI2.shp\n",
      "True\n"
     ]
    },
    {
     "name": "stderr",
     "output_type": "stream",
     "text": [
      "C:\\conda\\envs\\ox\\lib\\site-packages\\pygeos\\strtree.py:55: DeprecationWarning: `np.object` is a deprecated alias for the builtin `object`. To silence this warning, use `object` by itself. Doing this will not modify any behavior and is safe. \n",
      "Deprecated in NumPy 1.20; for more details and guidance: https://numpy.org/devdocs/release/1.20.0-notes.html#deprecations\n",
      "  self.geometries = np.asarray(geometries, dtype=np.object)\n",
      "C:\\conda\\envs\\ox\\lib\\site-packages\\pygeos\\coordinates.py:107: DeprecationWarning: `np.object` is a deprecated alias for the builtin `object`. To silence this warning, use `object` by itself. Doing this will not modify any behavior and is safe. \n",
      "Deprecated in NumPy 1.20; for more details and guidance: https://numpy.org/devdocs/release/1.20.0-notes.html#deprecations\n",
      "  return lib.get_coordinates(np.asarray(geometry, dtype=np.object), include_z)\n",
      "C:\\conda\\envs\\ox\\lib\\site-packages\\pygeos\\coordinates.py:130: DeprecationWarning: `np.object` is a deprecated alias for the builtin `object`. To silence this warning, use `object` by itself. Doing this will not modify any behavior and is safe. \n",
      "Deprecated in NumPy 1.20; for more details and guidance: https://numpy.org/devdocs/release/1.20.0-notes.html#deprecations\n",
      "  geometry_arr = np.asarray(geometry, dtype=np.object)\n",
      "<ipython-input-1-2b7241b072db>:48: UserWarning: Column names longer than 10 characters will be truncated when saved to ESRI Shapefile.\n",
      "  footprints_save.drop(labels='nodes', axis=1).to_file('E:\\\\Barriers\\\\Buildings\\\\{0}'.format(file))\n"
     ]
    },
    {
     "name": "stdout",
     "output_type": "stream",
     "text": [
      "E:\\Barriers\\Polygons\\RI3.shp\n",
      "True\n"
     ]
    },
    {
     "name": "stderr",
     "output_type": "stream",
     "text": [
      "C:\\conda\\envs\\ox\\lib\\site-packages\\pygeos\\strtree.py:55: DeprecationWarning: `np.object` is a deprecated alias for the builtin `object`. To silence this warning, use `object` by itself. Doing this will not modify any behavior and is safe. \n",
      "Deprecated in NumPy 1.20; for more details and guidance: https://numpy.org/devdocs/release/1.20.0-notes.html#deprecations\n",
      "  self.geometries = np.asarray(geometries, dtype=np.object)\n",
      "C:\\conda\\envs\\ox\\lib\\site-packages\\pygeos\\coordinates.py:107: DeprecationWarning: `np.object` is a deprecated alias for the builtin `object`. To silence this warning, use `object` by itself. Doing this will not modify any behavior and is safe. \n",
      "Deprecated in NumPy 1.20; for more details and guidance: https://numpy.org/devdocs/release/1.20.0-notes.html#deprecations\n",
      "  return lib.get_coordinates(np.asarray(geometry, dtype=np.object), include_z)\n",
      "C:\\conda\\envs\\ox\\lib\\site-packages\\pygeos\\coordinates.py:130: DeprecationWarning: `np.object` is a deprecated alias for the builtin `object`. To silence this warning, use `object` by itself. Doing this will not modify any behavior and is safe. \n",
      "Deprecated in NumPy 1.20; for more details and guidance: https://numpy.org/devdocs/release/1.20.0-notes.html#deprecations\n",
      "  geometry_arr = np.asarray(geometry, dtype=np.object)\n",
      "<ipython-input-1-2b7241b072db>:48: UserWarning: Column names longer than 10 characters will be truncated when saved to ESRI Shapefile.\n",
      "  footprints_save.drop(labels='nodes', axis=1).to_file('E:\\\\Barriers\\\\Buildings\\\\{0}'.format(file))\n"
     ]
    },
    {
     "name": "stdout",
     "output_type": "stream",
     "text": [
      "E:\\Barriers\\Polygons\\RI4.shp\n",
      "True\n"
     ]
    },
    {
     "name": "stderr",
     "output_type": "stream",
     "text": [
      "C:\\conda\\envs\\ox\\lib\\site-packages\\pygeos\\strtree.py:55: DeprecationWarning: `np.object` is a deprecated alias for the builtin `object`. To silence this warning, use `object` by itself. Doing this will not modify any behavior and is safe. \n",
      "Deprecated in NumPy 1.20; for more details and guidance: https://numpy.org/devdocs/release/1.20.0-notes.html#deprecations\n",
      "  self.geometries = np.asarray(geometries, dtype=np.object)\n",
      "C:\\conda\\envs\\ox\\lib\\site-packages\\pygeos\\coordinates.py:107: DeprecationWarning: `np.object` is a deprecated alias for the builtin `object`. To silence this warning, use `object` by itself. Doing this will not modify any behavior and is safe. \n",
      "Deprecated in NumPy 1.20; for more details and guidance: https://numpy.org/devdocs/release/1.20.0-notes.html#deprecations\n",
      "  return lib.get_coordinates(np.asarray(geometry, dtype=np.object), include_z)\n",
      "C:\\conda\\envs\\ox\\lib\\site-packages\\pygeos\\coordinates.py:130: DeprecationWarning: `np.object` is a deprecated alias for the builtin `object`. To silence this warning, use `object` by itself. Doing this will not modify any behavior and is safe. \n",
      "Deprecated in NumPy 1.20; for more details and guidance: https://numpy.org/devdocs/release/1.20.0-notes.html#deprecations\n",
      "  geometry_arr = np.asarray(geometry, dtype=np.object)\n",
      "<ipython-input-1-2b7241b072db>:48: UserWarning: Column names longer than 10 characters will be truncated when saved to ESRI Shapefile.\n",
      "  footprints_save.drop(labels='nodes', axis=1).to_file('E:\\\\Barriers\\\\Buildings\\\\{0}'.format(file))\n"
     ]
    },
    {
     "name": "stdout",
     "output_type": "stream",
     "text": [
      "E:\\Barriers\\Polygons\\RI5.shp\n",
      "True\n",
      "E:\\Barriers\\Polygons\\RI6.shp\n",
      "True\n",
      "E:\\Barriers\\Polygons\\SC1.shp\n",
      "True\n"
     ]
    },
    {
     "name": "stderr",
     "output_type": "stream",
     "text": [
      "C:\\conda\\envs\\ox\\lib\\site-packages\\pygeos\\strtree.py:55: DeprecationWarning: `np.object` is a deprecated alias for the builtin `object`. To silence this warning, use `object` by itself. Doing this will not modify any behavior and is safe. \n",
      "Deprecated in NumPy 1.20; for more details and guidance: https://numpy.org/devdocs/release/1.20.0-notes.html#deprecations\n",
      "  self.geometries = np.asarray(geometries, dtype=np.object)\n",
      "C:\\conda\\envs\\ox\\lib\\site-packages\\pygeos\\coordinates.py:107: DeprecationWarning: `np.object` is a deprecated alias for the builtin `object`. To silence this warning, use `object` by itself. Doing this will not modify any behavior and is safe. \n",
      "Deprecated in NumPy 1.20; for more details and guidance: https://numpy.org/devdocs/release/1.20.0-notes.html#deprecations\n",
      "  return lib.get_coordinates(np.asarray(geometry, dtype=np.object), include_z)\n",
      "C:\\conda\\envs\\ox\\lib\\site-packages\\pygeos\\coordinates.py:130: DeprecationWarning: `np.object` is a deprecated alias for the builtin `object`. To silence this warning, use `object` by itself. Doing this will not modify any behavior and is safe. \n",
      "Deprecated in NumPy 1.20; for more details and guidance: https://numpy.org/devdocs/release/1.20.0-notes.html#deprecations\n",
      "  geometry_arr = np.asarray(geometry, dtype=np.object)\n",
      "<ipython-input-1-2b7241b072db>:48: UserWarning: Column names longer than 10 characters will be truncated when saved to ESRI Shapefile.\n",
      "  footprints_save.drop(labels='nodes', axis=1).to_file('E:\\\\Barriers\\\\Buildings\\\\{0}'.format(file))\n"
     ]
    },
    {
     "name": "stdout",
     "output_type": "stream",
     "text": [
      "E:\\Barriers\\Polygons\\SC10.shp\n",
      "True\n"
     ]
    },
    {
     "name": "stderr",
     "output_type": "stream",
     "text": [
      "C:\\conda\\envs\\ox\\lib\\site-packages\\pygeos\\strtree.py:55: DeprecationWarning: `np.object` is a deprecated alias for the builtin `object`. To silence this warning, use `object` by itself. Doing this will not modify any behavior and is safe. \n",
      "Deprecated in NumPy 1.20; for more details and guidance: https://numpy.org/devdocs/release/1.20.0-notes.html#deprecations\n",
      "  self.geometries = np.asarray(geometries, dtype=np.object)\n",
      "C:\\conda\\envs\\ox\\lib\\site-packages\\pygeos\\coordinates.py:107: DeprecationWarning: `np.object` is a deprecated alias for the builtin `object`. To silence this warning, use `object` by itself. Doing this will not modify any behavior and is safe. \n",
      "Deprecated in NumPy 1.20; for more details and guidance: https://numpy.org/devdocs/release/1.20.0-notes.html#deprecations\n",
      "  return lib.get_coordinates(np.asarray(geometry, dtype=np.object), include_z)\n",
      "C:\\conda\\envs\\ox\\lib\\site-packages\\pygeos\\coordinates.py:130: DeprecationWarning: `np.object` is a deprecated alias for the builtin `object`. To silence this warning, use `object` by itself. Doing this will not modify any behavior and is safe. \n",
      "Deprecated in NumPy 1.20; for more details and guidance: https://numpy.org/devdocs/release/1.20.0-notes.html#deprecations\n",
      "  geometry_arr = np.asarray(geometry, dtype=np.object)\n"
     ]
    },
    {
     "name": "stdout",
     "output_type": "stream",
     "text": [
      "E:\\Barriers\\Polygons\\SC11.shp\n",
      "True\n",
      "E:\\Barriers\\Polygons\\SC12.shp\n",
      "True\n",
      "E:\\Barriers\\Polygons\\SC13.shp\n",
      "True\n"
     ]
    },
    {
     "name": "stderr",
     "output_type": "stream",
     "text": [
      "<ipython-input-1-2b7241b072db>:48: UserWarning: Column names longer than 10 characters will be truncated when saved to ESRI Shapefile.\n",
      "  footprints_save.drop(labels='nodes', axis=1).to_file('E:\\\\Barriers\\\\Buildings\\\\{0}'.format(file))\n",
      "C:\\conda\\envs\\ox\\lib\\site-packages\\pygeos\\strtree.py:55: DeprecationWarning: `np.object` is a deprecated alias for the builtin `object`. To silence this warning, use `object` by itself. Doing this will not modify any behavior and is safe. \n",
      "Deprecated in NumPy 1.20; for more details and guidance: https://numpy.org/devdocs/release/1.20.0-notes.html#deprecations\n",
      "  self.geometries = np.asarray(geometries, dtype=np.object)\n",
      "C:\\conda\\envs\\ox\\lib\\site-packages\\pygeos\\coordinates.py:107: DeprecationWarning: `np.object` is a deprecated alias for the builtin `object`. To silence this warning, use `object` by itself. Doing this will not modify any behavior and is safe. \n",
      "Deprecated in NumPy 1.20; for more details and guidance: https://numpy.org/devdocs/release/1.20.0-notes.html#deprecations\n",
      "  return lib.get_coordinates(np.asarray(geometry, dtype=np.object), include_z)\n",
      "C:\\conda\\envs\\ox\\lib\\site-packages\\pygeos\\coordinates.py:130: DeprecationWarning: `np.object` is a deprecated alias for the builtin `object`. To silence this warning, use `object` by itself. Doing this will not modify any behavior and is safe. \n",
      "Deprecated in NumPy 1.20; for more details and guidance: https://numpy.org/devdocs/release/1.20.0-notes.html#deprecations\n",
      "  geometry_arr = np.asarray(geometry, dtype=np.object)\n",
      "<ipython-input-1-2b7241b072db>:48: UserWarning: Column names longer than 10 characters will be truncated when saved to ESRI Shapefile.\n",
      "  footprints_save.drop(labels='nodes', axis=1).to_file('E:\\\\Barriers\\\\Buildings\\\\{0}'.format(file))\n"
     ]
    },
    {
     "name": "stdout",
     "output_type": "stream",
     "text": [
      "E:\\Barriers\\Polygons\\SC14.shp\n",
      "True\n"
     ]
    },
    {
     "name": "stderr",
     "output_type": "stream",
     "text": [
      "C:\\conda\\envs\\ox\\lib\\site-packages\\pygeos\\strtree.py:55: DeprecationWarning: `np.object` is a deprecated alias for the builtin `object`. To silence this warning, use `object` by itself. Doing this will not modify any behavior and is safe. \n",
      "Deprecated in NumPy 1.20; for more details and guidance: https://numpy.org/devdocs/release/1.20.0-notes.html#deprecations\n",
      "  self.geometries = np.asarray(geometries, dtype=np.object)\n",
      "C:\\conda\\envs\\ox\\lib\\site-packages\\pygeos\\coordinates.py:107: DeprecationWarning: `np.object` is a deprecated alias for the builtin `object`. To silence this warning, use `object` by itself. Doing this will not modify any behavior and is safe. \n",
      "Deprecated in NumPy 1.20; for more details and guidance: https://numpy.org/devdocs/release/1.20.0-notes.html#deprecations\n",
      "  return lib.get_coordinates(np.asarray(geometry, dtype=np.object), include_z)\n",
      "C:\\conda\\envs\\ox\\lib\\site-packages\\pygeos\\coordinates.py:130: DeprecationWarning: `np.object` is a deprecated alias for the builtin `object`. To silence this warning, use `object` by itself. Doing this will not modify any behavior and is safe. \n",
      "Deprecated in NumPy 1.20; for more details and guidance: https://numpy.org/devdocs/release/1.20.0-notes.html#deprecations\n",
      "  geometry_arr = np.asarray(geometry, dtype=np.object)\n",
      "<ipython-input-1-2b7241b072db>:48: UserWarning: Column names longer than 10 characters will be truncated when saved to ESRI Shapefile.\n",
      "  footprints_save.drop(labels='nodes', axis=1).to_file('E:\\\\Barriers\\\\Buildings\\\\{0}'.format(file))\n"
     ]
    },
    {
     "name": "stdout",
     "output_type": "stream",
     "text": [
      "E:\\Barriers\\Polygons\\SC15.shp\n",
      "True\n",
      "E:\\Barriers\\Polygons\\SC16.shp\n",
      "True\n",
      "E:\\Barriers\\Polygons\\SC17.shp\n",
      "True\n"
     ]
    },
    {
     "name": "stderr",
     "output_type": "stream",
     "text": [
      "C:\\conda\\envs\\ox\\lib\\site-packages\\pygeos\\strtree.py:55: DeprecationWarning: `np.object` is a deprecated alias for the builtin `object`. To silence this warning, use `object` by itself. Doing this will not modify any behavior and is safe. \n",
      "Deprecated in NumPy 1.20; for more details and guidance: https://numpy.org/devdocs/release/1.20.0-notes.html#deprecations\n",
      "  self.geometries = np.asarray(geometries, dtype=np.object)\n",
      "C:\\conda\\envs\\ox\\lib\\site-packages\\pygeos\\coordinates.py:107: DeprecationWarning: `np.object` is a deprecated alias for the builtin `object`. To silence this warning, use `object` by itself. Doing this will not modify any behavior and is safe. \n",
      "Deprecated in NumPy 1.20; for more details and guidance: https://numpy.org/devdocs/release/1.20.0-notes.html#deprecations\n",
      "  return lib.get_coordinates(np.asarray(geometry, dtype=np.object), include_z)\n",
      "C:\\conda\\envs\\ox\\lib\\site-packages\\pygeos\\coordinates.py:130: DeprecationWarning: `np.object` is a deprecated alias for the builtin `object`. To silence this warning, use `object` by itself. Doing this will not modify any behavior and is safe. \n",
      "Deprecated in NumPy 1.20; for more details and guidance: https://numpy.org/devdocs/release/1.20.0-notes.html#deprecations\n",
      "  geometry_arr = np.asarray(geometry, dtype=np.object)\n",
      "<ipython-input-1-2b7241b072db>:48: UserWarning: Column names longer than 10 characters will be truncated when saved to ESRI Shapefile.\n",
      "  footprints_save.drop(labels='nodes', axis=1).to_file('E:\\\\Barriers\\\\Buildings\\\\{0}'.format(file))\n"
     ]
    },
    {
     "name": "stdout",
     "output_type": "stream",
     "text": [
      "E:\\Barriers\\Polygons\\SC18.shp\n",
      "True\n",
      "E:\\Barriers\\Polygons\\SC19.shp\n",
      "True\n",
      "E:\\Barriers\\Polygons\\SC2.shp\n",
      "True\n",
      "E:\\Barriers\\Polygons\\SC20.shp\n",
      "True\n",
      "E:\\Barriers\\Polygons\\SC21.shp\n",
      "True\n",
      "E:\\Barriers\\Polygons\\SC22.shp\n",
      "True\n",
      "E:\\Barriers\\Polygons\\SC23.shp\n",
      "True\n",
      "E:\\Barriers\\Polygons\\SC24.shp\n",
      "True\n"
     ]
    },
    {
     "name": "stderr",
     "output_type": "stream",
     "text": [
      "C:\\conda\\envs\\ox\\lib\\site-packages\\pygeos\\strtree.py:55: DeprecationWarning: `np.object` is a deprecated alias for the builtin `object`. To silence this warning, use `object` by itself. Doing this will not modify any behavior and is safe. \n",
      "Deprecated in NumPy 1.20; for more details and guidance: https://numpy.org/devdocs/release/1.20.0-notes.html#deprecations\n",
      "  self.geometries = np.asarray(geometries, dtype=np.object)\n",
      "C:\\conda\\envs\\ox\\lib\\site-packages\\pygeos\\coordinates.py:107: DeprecationWarning: `np.object` is a deprecated alias for the builtin `object`. To silence this warning, use `object` by itself. Doing this will not modify any behavior and is safe. \n",
      "Deprecated in NumPy 1.20; for more details and guidance: https://numpy.org/devdocs/release/1.20.0-notes.html#deprecations\n",
      "  return lib.get_coordinates(np.asarray(geometry, dtype=np.object), include_z)\n",
      "C:\\conda\\envs\\ox\\lib\\site-packages\\pygeos\\coordinates.py:130: DeprecationWarning: `np.object` is a deprecated alias for the builtin `object`. To silence this warning, use `object` by itself. Doing this will not modify any behavior and is safe. \n",
      "Deprecated in NumPy 1.20; for more details and guidance: https://numpy.org/devdocs/release/1.20.0-notes.html#deprecations\n",
      "  geometry_arr = np.asarray(geometry, dtype=np.object)\n",
      "<ipython-input-1-2b7241b072db>:48: UserWarning: Column names longer than 10 characters will be truncated when saved to ESRI Shapefile.\n",
      "  footprints_save.drop(labels='nodes', axis=1).to_file('E:\\\\Barriers\\\\Buildings\\\\{0}'.format(file))\n"
     ]
    },
    {
     "name": "stdout",
     "output_type": "stream",
     "text": [
      "E:\\Barriers\\Polygons\\SC25.shp\n",
      "True\n",
      "E:\\Barriers\\Polygons\\SC26.shp\n",
      "True\n"
     ]
    },
    {
     "name": "stderr",
     "output_type": "stream",
     "text": [
      "C:\\conda\\envs\\ox\\lib\\site-packages\\pygeos\\strtree.py:55: DeprecationWarning: `np.object` is a deprecated alias for the builtin `object`. To silence this warning, use `object` by itself. Doing this will not modify any behavior and is safe. \n",
      "Deprecated in NumPy 1.20; for more details and guidance: https://numpy.org/devdocs/release/1.20.0-notes.html#deprecations\n",
      "  self.geometries = np.asarray(geometries, dtype=np.object)\n",
      "C:\\conda\\envs\\ox\\lib\\site-packages\\pygeos\\coordinates.py:107: DeprecationWarning: `np.object` is a deprecated alias for the builtin `object`. To silence this warning, use `object` by itself. Doing this will not modify any behavior and is safe. \n",
      "Deprecated in NumPy 1.20; for more details and guidance: https://numpy.org/devdocs/release/1.20.0-notes.html#deprecations\n",
      "  return lib.get_coordinates(np.asarray(geometry, dtype=np.object), include_z)\n",
      "C:\\conda\\envs\\ox\\lib\\site-packages\\pygeos\\coordinates.py:130: DeprecationWarning: `np.object` is a deprecated alias for the builtin `object`. To silence this warning, use `object` by itself. Doing this will not modify any behavior and is safe. \n",
      "Deprecated in NumPy 1.20; for more details and guidance: https://numpy.org/devdocs/release/1.20.0-notes.html#deprecations\n",
      "  geometry_arr = np.asarray(geometry, dtype=np.object)\n",
      "<ipython-input-1-2b7241b072db>:48: UserWarning: Column names longer than 10 characters will be truncated when saved to ESRI Shapefile.\n",
      "  footprints_save.drop(labels='nodes', axis=1).to_file('E:\\\\Barriers\\\\Buildings\\\\{0}'.format(file))\n"
     ]
    },
    {
     "name": "stdout",
     "output_type": "stream",
     "text": [
      "E:\\Barriers\\Polygons\\SC3.shp\n",
      "True\n",
      "E:\\Barriers\\Polygons\\SC4.shp\n",
      "True\n",
      "E:\\Barriers\\Polygons\\SC5.shp\n",
      "True\n",
      "E:\\Barriers\\Polygons\\SC6.shp\n",
      "True\n"
     ]
    },
    {
     "name": "stderr",
     "output_type": "stream",
     "text": [
      "C:\\conda\\envs\\ox\\lib\\site-packages\\pygeos\\strtree.py:55: DeprecationWarning: `np.object` is a deprecated alias for the builtin `object`. To silence this warning, use `object` by itself. Doing this will not modify any behavior and is safe. \n",
      "Deprecated in NumPy 1.20; for more details and guidance: https://numpy.org/devdocs/release/1.20.0-notes.html#deprecations\n",
      "  self.geometries = np.asarray(geometries, dtype=np.object)\n",
      "C:\\conda\\envs\\ox\\lib\\site-packages\\pygeos\\coordinates.py:107: DeprecationWarning: `np.object` is a deprecated alias for the builtin `object`. To silence this warning, use `object` by itself. Doing this will not modify any behavior and is safe. \n",
      "Deprecated in NumPy 1.20; for more details and guidance: https://numpy.org/devdocs/release/1.20.0-notes.html#deprecations\n",
      "  return lib.get_coordinates(np.asarray(geometry, dtype=np.object), include_z)\n",
      "C:\\conda\\envs\\ox\\lib\\site-packages\\pygeos\\coordinates.py:130: DeprecationWarning: `np.object` is a deprecated alias for the builtin `object`. To silence this warning, use `object` by itself. Doing this will not modify any behavior and is safe. \n",
      "Deprecated in NumPy 1.20; for more details and guidance: https://numpy.org/devdocs/release/1.20.0-notes.html#deprecations\n",
      "  geometry_arr = np.asarray(geometry, dtype=np.object)\n",
      "<ipython-input-1-2b7241b072db>:48: UserWarning: Column names longer than 10 characters will be truncated when saved to ESRI Shapefile.\n",
      "  footprints_save.drop(labels='nodes', axis=1).to_file('E:\\\\Barriers\\\\Buildings\\\\{0}'.format(file))\n"
     ]
    },
    {
     "name": "stdout",
     "output_type": "stream",
     "text": [
      "E:\\Barriers\\Polygons\\SC7.shp\n",
      "True\n"
     ]
    },
    {
     "name": "stderr",
     "output_type": "stream",
     "text": [
      "C:\\conda\\envs\\ox\\lib\\site-packages\\pygeos\\strtree.py:55: DeprecationWarning: `np.object` is a deprecated alias for the builtin `object`. To silence this warning, use `object` by itself. Doing this will not modify any behavior and is safe. \n",
      "Deprecated in NumPy 1.20; for more details and guidance: https://numpy.org/devdocs/release/1.20.0-notes.html#deprecations\n",
      "  self.geometries = np.asarray(geometries, dtype=np.object)\n",
      "C:\\conda\\envs\\ox\\lib\\site-packages\\pygeos\\coordinates.py:107: DeprecationWarning: `np.object` is a deprecated alias for the builtin `object`. To silence this warning, use `object` by itself. Doing this will not modify any behavior and is safe. \n",
      "Deprecated in NumPy 1.20; for more details and guidance: https://numpy.org/devdocs/release/1.20.0-notes.html#deprecations\n",
      "  return lib.get_coordinates(np.asarray(geometry, dtype=np.object), include_z)\n",
      "C:\\conda\\envs\\ox\\lib\\site-packages\\pygeos\\coordinates.py:130: DeprecationWarning: `np.object` is a deprecated alias for the builtin `object`. To silence this warning, use `object` by itself. Doing this will not modify any behavior and is safe. \n",
      "Deprecated in NumPy 1.20; for more details and guidance: https://numpy.org/devdocs/release/1.20.0-notes.html#deprecations\n",
      "  geometry_arr = np.asarray(geometry, dtype=np.object)\n",
      "<ipython-input-1-2b7241b072db>:48: UserWarning: Column names longer than 10 characters will be truncated when saved to ESRI Shapefile.\n",
      "  footprints_save.drop(labels='nodes', axis=1).to_file('E:\\\\Barriers\\\\Buildings\\\\{0}'.format(file))\n"
     ]
    },
    {
     "name": "stdout",
     "output_type": "stream",
     "text": [
      "E:\\Barriers\\Polygons\\SC8.shp\n",
      "True\n"
     ]
    },
    {
     "name": "stderr",
     "output_type": "stream",
     "text": [
      "C:\\conda\\envs\\ox\\lib\\site-packages\\pygeos\\strtree.py:55: DeprecationWarning: `np.object` is a deprecated alias for the builtin `object`. To silence this warning, use `object` by itself. Doing this will not modify any behavior and is safe. \n",
      "Deprecated in NumPy 1.20; for more details and guidance: https://numpy.org/devdocs/release/1.20.0-notes.html#deprecations\n",
      "  self.geometries = np.asarray(geometries, dtype=np.object)\n",
      "C:\\conda\\envs\\ox\\lib\\site-packages\\pygeos\\coordinates.py:107: DeprecationWarning: `np.object` is a deprecated alias for the builtin `object`. To silence this warning, use `object` by itself. Doing this will not modify any behavior and is safe. \n",
      "Deprecated in NumPy 1.20; for more details and guidance: https://numpy.org/devdocs/release/1.20.0-notes.html#deprecations\n",
      "  return lib.get_coordinates(np.asarray(geometry, dtype=np.object), include_z)\n",
      "C:\\conda\\envs\\ox\\lib\\site-packages\\pygeos\\coordinates.py:130: DeprecationWarning: `np.object` is a deprecated alias for the builtin `object`. To silence this warning, use `object` by itself. Doing this will not modify any behavior and is safe. \n",
      "Deprecated in NumPy 1.20; for more details and guidance: https://numpy.org/devdocs/release/1.20.0-notes.html#deprecations\n",
      "  geometry_arr = np.asarray(geometry, dtype=np.object)\n",
      "<ipython-input-1-2b7241b072db>:48: UserWarning: Column names longer than 10 characters will be truncated when saved to ESRI Shapefile.\n",
      "  footprints_save.drop(labels='nodes', axis=1).to_file('E:\\\\Barriers\\\\Buildings\\\\{0}'.format(file))\n"
     ]
    },
    {
     "name": "stdout",
     "output_type": "stream",
     "text": [
      "E:\\Barriers\\Polygons\\SC9.shp\n",
      "True\n"
     ]
    },
    {
     "name": "stderr",
     "output_type": "stream",
     "text": [
      "C:\\conda\\envs\\ox\\lib\\site-packages\\pygeos\\strtree.py:55: DeprecationWarning: `np.object` is a deprecated alias for the builtin `object`. To silence this warning, use `object` by itself. Doing this will not modify any behavior and is safe. \n",
      "Deprecated in NumPy 1.20; for more details and guidance: https://numpy.org/devdocs/release/1.20.0-notes.html#deprecations\n",
      "  self.geometries = np.asarray(geometries, dtype=np.object)\n",
      "C:\\conda\\envs\\ox\\lib\\site-packages\\pygeos\\coordinates.py:107: DeprecationWarning: `np.object` is a deprecated alias for the builtin `object`. To silence this warning, use `object` by itself. Doing this will not modify any behavior and is safe. \n",
      "Deprecated in NumPy 1.20; for more details and guidance: https://numpy.org/devdocs/release/1.20.0-notes.html#deprecations\n",
      "  return lib.get_coordinates(np.asarray(geometry, dtype=np.object), include_z)\n",
      "C:\\conda\\envs\\ox\\lib\\site-packages\\pygeos\\coordinates.py:130: DeprecationWarning: `np.object` is a deprecated alias for the builtin `object`. To silence this warning, use `object` by itself. Doing this will not modify any behavior and is safe. \n",
      "Deprecated in NumPy 1.20; for more details and guidance: https://numpy.org/devdocs/release/1.20.0-notes.html#deprecations\n",
      "  geometry_arr = np.asarray(geometry, dtype=np.object)\n",
      "<ipython-input-1-2b7241b072db>:48: UserWarning: Column names longer than 10 characters will be truncated when saved to ESRI Shapefile.\n",
      "  footprints_save.drop(labels='nodes', axis=1).to_file('E:\\\\Barriers\\\\Buildings\\\\{0}'.format(file))\n"
     ]
    },
    {
     "name": "stdout",
     "output_type": "stream",
     "text": [
      "E:\\Barriers\\Polygons\\TX1.shp\n",
      "True\n",
      "E:\\Barriers\\Polygons\\TX10.shp\n",
      "True\n"
     ]
    },
    {
     "name": "stderr",
     "output_type": "stream",
     "text": [
      "C:\\conda\\envs\\ox\\lib\\site-packages\\pygeos\\strtree.py:55: DeprecationWarning: `np.object` is a deprecated alias for the builtin `object`. To silence this warning, use `object` by itself. Doing this will not modify any behavior and is safe. \n",
      "Deprecated in NumPy 1.20; for more details and guidance: https://numpy.org/devdocs/release/1.20.0-notes.html#deprecations\n",
      "  self.geometries = np.asarray(geometries, dtype=np.object)\n",
      "C:\\conda\\envs\\ox\\lib\\site-packages\\pygeos\\coordinates.py:107: DeprecationWarning: `np.object` is a deprecated alias for the builtin `object`. To silence this warning, use `object` by itself. Doing this will not modify any behavior and is safe. \n",
      "Deprecated in NumPy 1.20; for more details and guidance: https://numpy.org/devdocs/release/1.20.0-notes.html#deprecations\n",
      "  return lib.get_coordinates(np.asarray(geometry, dtype=np.object), include_z)\n",
      "C:\\conda\\envs\\ox\\lib\\site-packages\\pygeos\\coordinates.py:130: DeprecationWarning: `np.object` is a deprecated alias for the builtin `object`. To silence this warning, use `object` by itself. Doing this will not modify any behavior and is safe. \n",
      "Deprecated in NumPy 1.20; for more details and guidance: https://numpy.org/devdocs/release/1.20.0-notes.html#deprecations\n",
      "  geometry_arr = np.asarray(geometry, dtype=np.object)\n",
      "<ipython-input-1-2b7241b072db>:48: UserWarning: Column names longer than 10 characters will be truncated when saved to ESRI Shapefile.\n",
      "  footprints_save.drop(labels='nodes', axis=1).to_file('E:\\\\Barriers\\\\Buildings\\\\{0}'.format(file))\n"
     ]
    },
    {
     "name": "stdout",
     "output_type": "stream",
     "text": [
      "E:\\Barriers\\Polygons\\TX11.shp\n",
      "True\n"
     ]
    },
    {
     "name": "stderr",
     "output_type": "stream",
     "text": [
      "C:\\conda\\envs\\ox\\lib\\site-packages\\pygeos\\strtree.py:55: DeprecationWarning: `np.object` is a deprecated alias for the builtin `object`. To silence this warning, use `object` by itself. Doing this will not modify any behavior and is safe. \n",
      "Deprecated in NumPy 1.20; for more details and guidance: https://numpy.org/devdocs/release/1.20.0-notes.html#deprecations\n",
      "  self.geometries = np.asarray(geometries, dtype=np.object)\n",
      "C:\\conda\\envs\\ox\\lib\\site-packages\\pygeos\\coordinates.py:107: DeprecationWarning: `np.object` is a deprecated alias for the builtin `object`. To silence this warning, use `object` by itself. Doing this will not modify any behavior and is safe. \n",
      "Deprecated in NumPy 1.20; for more details and guidance: https://numpy.org/devdocs/release/1.20.0-notes.html#deprecations\n",
      "  return lib.get_coordinates(np.asarray(geometry, dtype=np.object), include_z)\n",
      "C:\\conda\\envs\\ox\\lib\\site-packages\\pygeos\\coordinates.py:130: DeprecationWarning: `np.object` is a deprecated alias for the builtin `object`. To silence this warning, use `object` by itself. Doing this will not modify any behavior and is safe. \n",
      "Deprecated in NumPy 1.20; for more details and guidance: https://numpy.org/devdocs/release/1.20.0-notes.html#deprecations\n",
      "  geometry_arr = np.asarray(geometry, dtype=np.object)\n",
      "<ipython-input-1-2b7241b072db>:48: UserWarning: Column names longer than 10 characters will be truncated when saved to ESRI Shapefile.\n",
      "  footprints_save.drop(labels='nodes', axis=1).to_file('E:\\\\Barriers\\\\Buildings\\\\{0}'.format(file))\n"
     ]
    },
    {
     "name": "stdout",
     "output_type": "stream",
     "text": [
      "E:\\Barriers\\Polygons\\TX12.shp\n",
      "True\n"
     ]
    },
    {
     "name": "stderr",
     "output_type": "stream",
     "text": [
      "C:\\conda\\envs\\ox\\lib\\site-packages\\pygeos\\strtree.py:55: DeprecationWarning: `np.object` is a deprecated alias for the builtin `object`. To silence this warning, use `object` by itself. Doing this will not modify any behavior and is safe. \n",
      "Deprecated in NumPy 1.20; for more details and guidance: https://numpy.org/devdocs/release/1.20.0-notes.html#deprecations\n",
      "  self.geometries = np.asarray(geometries, dtype=np.object)\n",
      "C:\\conda\\envs\\ox\\lib\\site-packages\\pygeos\\coordinates.py:107: DeprecationWarning: `np.object` is a deprecated alias for the builtin `object`. To silence this warning, use `object` by itself. Doing this will not modify any behavior and is safe. \n",
      "Deprecated in NumPy 1.20; for more details and guidance: https://numpy.org/devdocs/release/1.20.0-notes.html#deprecations\n",
      "  return lib.get_coordinates(np.asarray(geometry, dtype=np.object), include_z)\n",
      "C:\\conda\\envs\\ox\\lib\\site-packages\\pygeos\\coordinates.py:130: DeprecationWarning: `np.object` is a deprecated alias for the builtin `object`. To silence this warning, use `object` by itself. Doing this will not modify any behavior and is safe. \n",
      "Deprecated in NumPy 1.20; for more details and guidance: https://numpy.org/devdocs/release/1.20.0-notes.html#deprecations\n",
      "  geometry_arr = np.asarray(geometry, dtype=np.object)\n",
      "<ipython-input-1-2b7241b072db>:48: UserWarning: Column names longer than 10 characters will be truncated when saved to ESRI Shapefile.\n",
      "  footprints_save.drop(labels='nodes', axis=1).to_file('E:\\\\Barriers\\\\Buildings\\\\{0}'.format(file))\n"
     ]
    },
    {
     "name": "stdout",
     "output_type": "stream",
     "text": [
      "E:\\Barriers\\Polygons\\TX2.shp\n",
      "True\n"
     ]
    },
    {
     "name": "stderr",
     "output_type": "stream",
     "text": [
      "C:\\conda\\envs\\ox\\lib\\site-packages\\pygeos\\strtree.py:55: DeprecationWarning: `np.object` is a deprecated alias for the builtin `object`. To silence this warning, use `object` by itself. Doing this will not modify any behavior and is safe. \n",
      "Deprecated in NumPy 1.20; for more details and guidance: https://numpy.org/devdocs/release/1.20.0-notes.html#deprecations\n",
      "  self.geometries = np.asarray(geometries, dtype=np.object)\n",
      "C:\\conda\\envs\\ox\\lib\\site-packages\\pygeos\\coordinates.py:107: DeprecationWarning: `np.object` is a deprecated alias for the builtin `object`. To silence this warning, use `object` by itself. Doing this will not modify any behavior and is safe. \n",
      "Deprecated in NumPy 1.20; for more details and guidance: https://numpy.org/devdocs/release/1.20.0-notes.html#deprecations\n",
      "  return lib.get_coordinates(np.asarray(geometry, dtype=np.object), include_z)\n",
      "C:\\conda\\envs\\ox\\lib\\site-packages\\pygeos\\coordinates.py:130: DeprecationWarning: `np.object` is a deprecated alias for the builtin `object`. To silence this warning, use `object` by itself. Doing this will not modify any behavior and is safe. \n",
      "Deprecated in NumPy 1.20; for more details and guidance: https://numpy.org/devdocs/release/1.20.0-notes.html#deprecations\n",
      "  geometry_arr = np.asarray(geometry, dtype=np.object)\n",
      "<ipython-input-1-2b7241b072db>:48: UserWarning: Column names longer than 10 characters will be truncated when saved to ESRI Shapefile.\n",
      "  footprints_save.drop(labels='nodes', axis=1).to_file('E:\\\\Barriers\\\\Buildings\\\\{0}'.format(file))\n"
     ]
    },
    {
     "name": "stdout",
     "output_type": "stream",
     "text": [
      "E:\\Barriers\\Polygons\\TX3.shp\n",
      "True\n"
     ]
    },
    {
     "name": "stderr",
     "output_type": "stream",
     "text": [
      "C:\\conda\\envs\\ox\\lib\\site-packages\\pygeos\\strtree.py:55: DeprecationWarning: `np.object` is a deprecated alias for the builtin `object`. To silence this warning, use `object` by itself. Doing this will not modify any behavior and is safe. \n",
      "Deprecated in NumPy 1.20; for more details and guidance: https://numpy.org/devdocs/release/1.20.0-notes.html#deprecations\n",
      "  self.geometries = np.asarray(geometries, dtype=np.object)\n",
      "C:\\conda\\envs\\ox\\lib\\site-packages\\pygeos\\coordinates.py:107: DeprecationWarning: `np.object` is a deprecated alias for the builtin `object`. To silence this warning, use `object` by itself. Doing this will not modify any behavior and is safe. \n",
      "Deprecated in NumPy 1.20; for more details and guidance: https://numpy.org/devdocs/release/1.20.0-notes.html#deprecations\n",
      "  return lib.get_coordinates(np.asarray(geometry, dtype=np.object), include_z)\n",
      "C:\\conda\\envs\\ox\\lib\\site-packages\\pygeos\\coordinates.py:130: DeprecationWarning: `np.object` is a deprecated alias for the builtin `object`. To silence this warning, use `object` by itself. Doing this will not modify any behavior and is safe. \n",
      "Deprecated in NumPy 1.20; for more details and guidance: https://numpy.org/devdocs/release/1.20.0-notes.html#deprecations\n",
      "  geometry_arr = np.asarray(geometry, dtype=np.object)\n",
      "<ipython-input-1-2b7241b072db>:48: UserWarning: Column names longer than 10 characters will be truncated when saved to ESRI Shapefile.\n",
      "  footprints_save.drop(labels='nodes', axis=1).to_file('E:\\\\Barriers\\\\Buildings\\\\{0}'.format(file))\n"
     ]
    },
    {
     "name": "stdout",
     "output_type": "stream",
     "text": [
      "E:\\Barriers\\Polygons\\TX4.shp\n",
      "True\n"
     ]
    },
    {
     "name": "stderr",
     "output_type": "stream",
     "text": [
      "C:\\conda\\envs\\ox\\lib\\site-packages\\pygeos\\strtree.py:55: DeprecationWarning: `np.object` is a deprecated alias for the builtin `object`. To silence this warning, use `object` by itself. Doing this will not modify any behavior and is safe. \n",
      "Deprecated in NumPy 1.20; for more details and guidance: https://numpy.org/devdocs/release/1.20.0-notes.html#deprecations\n",
      "  self.geometries = np.asarray(geometries, dtype=np.object)\n",
      "C:\\conda\\envs\\ox\\lib\\site-packages\\pygeos\\coordinates.py:107: DeprecationWarning: `np.object` is a deprecated alias for the builtin `object`. To silence this warning, use `object` by itself. Doing this will not modify any behavior and is safe. \n",
      "Deprecated in NumPy 1.20; for more details and guidance: https://numpy.org/devdocs/release/1.20.0-notes.html#deprecations\n",
      "  return lib.get_coordinates(np.asarray(geometry, dtype=np.object), include_z)\n",
      "C:\\conda\\envs\\ox\\lib\\site-packages\\pygeos\\coordinates.py:130: DeprecationWarning: `np.object` is a deprecated alias for the builtin `object`. To silence this warning, use `object` by itself. Doing this will not modify any behavior and is safe. \n",
      "Deprecated in NumPy 1.20; for more details and guidance: https://numpy.org/devdocs/release/1.20.0-notes.html#deprecations\n",
      "  geometry_arr = np.asarray(geometry, dtype=np.object)\n",
      "<ipython-input-1-2b7241b072db>:48: UserWarning: Column names longer than 10 characters will be truncated when saved to ESRI Shapefile.\n",
      "  footprints_save.drop(labels='nodes', axis=1).to_file('E:\\\\Barriers\\\\Buildings\\\\{0}'.format(file))\n"
     ]
    },
    {
     "name": "stdout",
     "output_type": "stream",
     "text": [
      "E:\\Barriers\\Polygons\\TX5.shp\n",
      "True\n"
     ]
    },
    {
     "name": "stderr",
     "output_type": "stream",
     "text": [
      "C:\\conda\\envs\\ox\\lib\\site-packages\\pygeos\\strtree.py:55: DeprecationWarning: `np.object` is a deprecated alias for the builtin `object`. To silence this warning, use `object` by itself. Doing this will not modify any behavior and is safe. \n",
      "Deprecated in NumPy 1.20; for more details and guidance: https://numpy.org/devdocs/release/1.20.0-notes.html#deprecations\n",
      "  self.geometries = np.asarray(geometries, dtype=np.object)\n",
      "C:\\conda\\envs\\ox\\lib\\site-packages\\pygeos\\coordinates.py:107: DeprecationWarning: `np.object` is a deprecated alias for the builtin `object`. To silence this warning, use `object` by itself. Doing this will not modify any behavior and is safe. \n",
      "Deprecated in NumPy 1.20; for more details and guidance: https://numpy.org/devdocs/release/1.20.0-notes.html#deprecations\n",
      "  return lib.get_coordinates(np.asarray(geometry, dtype=np.object), include_z)\n",
      "C:\\conda\\envs\\ox\\lib\\site-packages\\pygeos\\coordinates.py:130: DeprecationWarning: `np.object` is a deprecated alias for the builtin `object`. To silence this warning, use `object` by itself. Doing this will not modify any behavior and is safe. \n",
      "Deprecated in NumPy 1.20; for more details and guidance: https://numpy.org/devdocs/release/1.20.0-notes.html#deprecations\n",
      "  geometry_arr = np.asarray(geometry, dtype=np.object)\n",
      "<ipython-input-1-2b7241b072db>:48: UserWarning: Column names longer than 10 characters will be truncated when saved to ESRI Shapefile.\n",
      "  footprints_save.drop(labels='nodes', axis=1).to_file('E:\\\\Barriers\\\\Buildings\\\\{0}'.format(file))\n"
     ]
    },
    {
     "name": "stdout",
     "output_type": "stream",
     "text": [
      "E:\\Barriers\\Polygons\\TX6.shp\n",
      "True\n"
     ]
    },
    {
     "name": "stderr",
     "output_type": "stream",
     "text": [
      "C:\\conda\\envs\\ox\\lib\\site-packages\\pygeos\\strtree.py:55: DeprecationWarning: `np.object` is a deprecated alias for the builtin `object`. To silence this warning, use `object` by itself. Doing this will not modify any behavior and is safe. \n",
      "Deprecated in NumPy 1.20; for more details and guidance: https://numpy.org/devdocs/release/1.20.0-notes.html#deprecations\n",
      "  self.geometries = np.asarray(geometries, dtype=np.object)\n",
      "C:\\conda\\envs\\ox\\lib\\site-packages\\pygeos\\coordinates.py:107: DeprecationWarning: `np.object` is a deprecated alias for the builtin `object`. To silence this warning, use `object` by itself. Doing this will not modify any behavior and is safe. \n",
      "Deprecated in NumPy 1.20; for more details and guidance: https://numpy.org/devdocs/release/1.20.0-notes.html#deprecations\n",
      "  return lib.get_coordinates(np.asarray(geometry, dtype=np.object), include_z)\n",
      "C:\\conda\\envs\\ox\\lib\\site-packages\\pygeos\\coordinates.py:130: DeprecationWarning: `np.object` is a deprecated alias for the builtin `object`. To silence this warning, use `object` by itself. Doing this will not modify any behavior and is safe. \n",
      "Deprecated in NumPy 1.20; for more details and guidance: https://numpy.org/devdocs/release/1.20.0-notes.html#deprecations\n",
      "  geometry_arr = np.asarray(geometry, dtype=np.object)\n",
      "<ipython-input-1-2b7241b072db>:48: UserWarning: Column names longer than 10 characters will be truncated when saved to ESRI Shapefile.\n",
      "  footprints_save.drop(labels='nodes', axis=1).to_file('E:\\\\Barriers\\\\Buildings\\\\{0}'.format(file))\n"
     ]
    },
    {
     "name": "stdout",
     "output_type": "stream",
     "text": [
      "E:\\Barriers\\Polygons\\TX7.shp\n",
      "True\n"
     ]
    },
    {
     "name": "stderr",
     "output_type": "stream",
     "text": [
      "C:\\conda\\envs\\ox\\lib\\site-packages\\pygeos\\strtree.py:55: DeprecationWarning: `np.object` is a deprecated alias for the builtin `object`. To silence this warning, use `object` by itself. Doing this will not modify any behavior and is safe. \n",
      "Deprecated in NumPy 1.20; for more details and guidance: https://numpy.org/devdocs/release/1.20.0-notes.html#deprecations\n",
      "  self.geometries = np.asarray(geometries, dtype=np.object)\n",
      "C:\\conda\\envs\\ox\\lib\\site-packages\\pygeos\\coordinates.py:107: DeprecationWarning: `np.object` is a deprecated alias for the builtin `object`. To silence this warning, use `object` by itself. Doing this will not modify any behavior and is safe. \n",
      "Deprecated in NumPy 1.20; for more details and guidance: https://numpy.org/devdocs/release/1.20.0-notes.html#deprecations\n",
      "  return lib.get_coordinates(np.asarray(geometry, dtype=np.object), include_z)\n",
      "C:\\conda\\envs\\ox\\lib\\site-packages\\pygeos\\coordinates.py:130: DeprecationWarning: `np.object` is a deprecated alias for the builtin `object`. To silence this warning, use `object` by itself. Doing this will not modify any behavior and is safe. \n",
      "Deprecated in NumPy 1.20; for more details and guidance: https://numpy.org/devdocs/release/1.20.0-notes.html#deprecations\n",
      "  geometry_arr = np.asarray(geometry, dtype=np.object)\n",
      "<ipython-input-1-2b7241b072db>:48: UserWarning: Column names longer than 10 characters will be truncated when saved to ESRI Shapefile.\n",
      "  footprints_save.drop(labels='nodes', axis=1).to_file('E:\\\\Barriers\\\\Buildings\\\\{0}'.format(file))\n"
     ]
    },
    {
     "name": "stdout",
     "output_type": "stream",
     "text": [
      "E:\\Barriers\\Polygons\\TX8.shp\n",
      "True\n"
     ]
    },
    {
     "name": "stderr",
     "output_type": "stream",
     "text": [
      "C:\\conda\\envs\\ox\\lib\\site-packages\\pygeos\\strtree.py:55: DeprecationWarning: `np.object` is a deprecated alias for the builtin `object`. To silence this warning, use `object` by itself. Doing this will not modify any behavior and is safe. \n",
      "Deprecated in NumPy 1.20; for more details and guidance: https://numpy.org/devdocs/release/1.20.0-notes.html#deprecations\n",
      "  self.geometries = np.asarray(geometries, dtype=np.object)\n",
      "C:\\conda\\envs\\ox\\lib\\site-packages\\pygeos\\coordinates.py:107: DeprecationWarning: `np.object` is a deprecated alias for the builtin `object`. To silence this warning, use `object` by itself. Doing this will not modify any behavior and is safe. \n",
      "Deprecated in NumPy 1.20; for more details and guidance: https://numpy.org/devdocs/release/1.20.0-notes.html#deprecations\n",
      "  return lib.get_coordinates(np.asarray(geometry, dtype=np.object), include_z)\n",
      "C:\\conda\\envs\\ox\\lib\\site-packages\\pygeos\\coordinates.py:130: DeprecationWarning: `np.object` is a deprecated alias for the builtin `object`. To silence this warning, use `object` by itself. Doing this will not modify any behavior and is safe. \n",
      "Deprecated in NumPy 1.20; for more details and guidance: https://numpy.org/devdocs/release/1.20.0-notes.html#deprecations\n",
      "  geometry_arr = np.asarray(geometry, dtype=np.object)\n"
     ]
    },
    {
     "name": "stdout",
     "output_type": "stream",
     "text": [
      "E:\\Barriers\\Polygons\\TX9.shp\n",
      "True\n"
     ]
    },
    {
     "name": "stderr",
     "output_type": "stream",
     "text": [
      "<ipython-input-1-2b7241b072db>:48: UserWarning: Column names longer than 10 characters will be truncated when saved to ESRI Shapefile.\n",
      "  footprints_save.drop(labels='nodes', axis=1).to_file('E:\\\\Barriers\\\\Buildings\\\\{0}'.format(file))\n",
      "C:\\conda\\envs\\ox\\lib\\site-packages\\pygeos\\strtree.py:55: DeprecationWarning: `np.object` is a deprecated alias for the builtin `object`. To silence this warning, use `object` by itself. Doing this will not modify any behavior and is safe. \n",
      "Deprecated in NumPy 1.20; for more details and guidance: https://numpy.org/devdocs/release/1.20.0-notes.html#deprecations\n",
      "  self.geometries = np.asarray(geometries, dtype=np.object)\n",
      "C:\\conda\\envs\\ox\\lib\\site-packages\\pygeos\\coordinates.py:107: DeprecationWarning: `np.object` is a deprecated alias for the builtin `object`. To silence this warning, use `object` by itself. Doing this will not modify any behavior and is safe. \n",
      "Deprecated in NumPy 1.20; for more details and guidance: https://numpy.org/devdocs/release/1.20.0-notes.html#deprecations\n",
      "  return lib.get_coordinates(np.asarray(geometry, dtype=np.object), include_z)\n",
      "C:\\conda\\envs\\ox\\lib\\site-packages\\pygeos\\coordinates.py:130: DeprecationWarning: `np.object` is a deprecated alias for the builtin `object`. To silence this warning, use `object` by itself. Doing this will not modify any behavior and is safe. \n",
      "Deprecated in NumPy 1.20; for more details and guidance: https://numpy.org/devdocs/release/1.20.0-notes.html#deprecations\n",
      "  geometry_arr = np.asarray(geometry, dtype=np.object)\n",
      "<ipython-input-1-2b7241b072db>:48: UserWarning: Column names longer than 10 characters will be truncated when saved to ESRI Shapefile.\n",
      "  footprints_save.drop(labels='nodes', axis=1).to_file('E:\\\\Barriers\\\\Buildings\\\\{0}'.format(file))\n"
     ]
    },
    {
     "name": "stdout",
     "output_type": "stream",
     "text": [
      "E:\\Barriers\\Polygons\\VA1.shp\n",
      "True\n"
     ]
    },
    {
     "name": "stderr",
     "output_type": "stream",
     "text": [
      "C:\\conda\\envs\\ox\\lib\\site-packages\\pygeos\\strtree.py:55: DeprecationWarning: `np.object` is a deprecated alias for the builtin `object`. To silence this warning, use `object` by itself. Doing this will not modify any behavior and is safe. \n",
      "Deprecated in NumPy 1.20; for more details and guidance: https://numpy.org/devdocs/release/1.20.0-notes.html#deprecations\n",
      "  self.geometries = np.asarray(geometries, dtype=np.object)\n",
      "C:\\conda\\envs\\ox\\lib\\site-packages\\pygeos\\coordinates.py:107: DeprecationWarning: `np.object` is a deprecated alias for the builtin `object`. To silence this warning, use `object` by itself. Doing this will not modify any behavior and is safe. \n",
      "Deprecated in NumPy 1.20; for more details and guidance: https://numpy.org/devdocs/release/1.20.0-notes.html#deprecations\n",
      "  return lib.get_coordinates(np.asarray(geometry, dtype=np.object), include_z)\n",
      "C:\\conda\\envs\\ox\\lib\\site-packages\\pygeos\\coordinates.py:130: DeprecationWarning: `np.object` is a deprecated alias for the builtin `object`. To silence this warning, use `object` by itself. Doing this will not modify any behavior and is safe. \n",
      "Deprecated in NumPy 1.20; for more details and guidance: https://numpy.org/devdocs/release/1.20.0-notes.html#deprecations\n",
      "  geometry_arr = np.asarray(geometry, dtype=np.object)\n",
      "<ipython-input-1-2b7241b072db>:48: UserWarning: Column names longer than 10 characters will be truncated when saved to ESRI Shapefile.\n",
      "  footprints_save.drop(labels='nodes', axis=1).to_file('E:\\\\Barriers\\\\Buildings\\\\{0}'.format(file))\n"
     ]
    },
    {
     "name": "stdout",
     "output_type": "stream",
     "text": [
      "E:\\Barriers\\Polygons\\VA10.shp\n",
      "True\n"
     ]
    },
    {
     "name": "stderr",
     "output_type": "stream",
     "text": [
      "C:\\conda\\envs\\ox\\lib\\site-packages\\pygeos\\strtree.py:55: DeprecationWarning: `np.object` is a deprecated alias for the builtin `object`. To silence this warning, use `object` by itself. Doing this will not modify any behavior and is safe. \n",
      "Deprecated in NumPy 1.20; for more details and guidance: https://numpy.org/devdocs/release/1.20.0-notes.html#deprecations\n",
      "  self.geometries = np.asarray(geometries, dtype=np.object)\n",
      "C:\\conda\\envs\\ox\\lib\\site-packages\\pygeos\\coordinates.py:107: DeprecationWarning: `np.object` is a deprecated alias for the builtin `object`. To silence this warning, use `object` by itself. Doing this will not modify any behavior and is safe. \n",
      "Deprecated in NumPy 1.20; for more details and guidance: https://numpy.org/devdocs/release/1.20.0-notes.html#deprecations\n",
      "  return lib.get_coordinates(np.asarray(geometry, dtype=np.object), include_z)\n",
      "C:\\conda\\envs\\ox\\lib\\site-packages\\pygeos\\coordinates.py:130: DeprecationWarning: `np.object` is a deprecated alias for the builtin `object`. To silence this warning, use `object` by itself. Doing this will not modify any behavior and is safe. \n",
      "Deprecated in NumPy 1.20; for more details and guidance: https://numpy.org/devdocs/release/1.20.0-notes.html#deprecations\n",
      "  geometry_arr = np.asarray(geometry, dtype=np.object)\n",
      "<ipython-input-1-2b7241b072db>:48: UserWarning: Column names longer than 10 characters will be truncated when saved to ESRI Shapefile.\n",
      "  footprints_save.drop(labels='nodes', axis=1).to_file('E:\\\\Barriers\\\\Buildings\\\\{0}'.format(file))\n"
     ]
    },
    {
     "name": "stdout",
     "output_type": "stream",
     "text": [
      "E:\\Barriers\\Polygons\\VA11.shp\n",
      "True\n",
      "E:\\Barriers\\Polygons\\VA12.shp\n",
      "True\n",
      "E:\\Barriers\\Polygons\\VA13.shp\n",
      "True\n",
      "E:\\Barriers\\Polygons\\VA14.shp\n",
      "True\n"
     ]
    },
    {
     "name": "stderr",
     "output_type": "stream",
     "text": [
      "C:\\conda\\envs\\ox\\lib\\site-packages\\pygeos\\strtree.py:55: DeprecationWarning: `np.object` is a deprecated alias for the builtin `object`. To silence this warning, use `object` by itself. Doing this will not modify any behavior and is safe. \n",
      "Deprecated in NumPy 1.20; for more details and guidance: https://numpy.org/devdocs/release/1.20.0-notes.html#deprecations\n",
      "  self.geometries = np.asarray(geometries, dtype=np.object)\n",
      "C:\\conda\\envs\\ox\\lib\\site-packages\\pygeos\\coordinates.py:107: DeprecationWarning: `np.object` is a deprecated alias for the builtin `object`. To silence this warning, use `object` by itself. Doing this will not modify any behavior and is safe. \n",
      "Deprecated in NumPy 1.20; for more details and guidance: https://numpy.org/devdocs/release/1.20.0-notes.html#deprecations\n",
      "  return lib.get_coordinates(np.asarray(geometry, dtype=np.object), include_z)\n",
      "C:\\conda\\envs\\ox\\lib\\site-packages\\pygeos\\coordinates.py:130: DeprecationWarning: `np.object` is a deprecated alias for the builtin `object`. To silence this warning, use `object` by itself. Doing this will not modify any behavior and is safe. \n",
      "Deprecated in NumPy 1.20; for more details and guidance: https://numpy.org/devdocs/release/1.20.0-notes.html#deprecations\n",
      "  geometry_arr = np.asarray(geometry, dtype=np.object)\n",
      "<ipython-input-1-2b7241b072db>:48: UserWarning: Column names longer than 10 characters will be truncated when saved to ESRI Shapefile.\n",
      "  footprints_save.drop(labels='nodes', axis=1).to_file('E:\\\\Barriers\\\\Buildings\\\\{0}'.format(file))\n"
     ]
    },
    {
     "name": "stdout",
     "output_type": "stream",
     "text": [
      "E:\\Barriers\\Polygons\\VA15.shp\n",
      "True\n"
     ]
    },
    {
     "name": "stderr",
     "output_type": "stream",
     "text": [
      "C:\\conda\\envs\\ox\\lib\\site-packages\\pygeos\\constructive.py:165: DeprecationWarning: `np.bool` is a deprecated alias for the builtin `bool`. To silence this warning, use `bool` by itself. Doing this will not modify any behavior and is safe. If you specifically wanted the numpy scalar type, use `np.bool_` here.\n",
      "Deprecated in NumPy 1.20; for more details and guidance: https://numpy.org/devdocs/release/1.20.0-notes.html#deprecations\n",
      "  np.bool(single_sided),\n",
      "C:\\conda\\envs\\ox\\lib\\site-packages\\pygeos\\strtree.py:55: DeprecationWarning: `np.object` is a deprecated alias for the builtin `object`. To silence this warning, use `object` by itself. Doing this will not modify any behavior and is safe. \n",
      "Deprecated in NumPy 1.20; for more details and guidance: https://numpy.org/devdocs/release/1.20.0-notes.html#deprecations\n",
      "  self.geometries = np.asarray(geometries, dtype=np.object)\n",
      "C:\\conda\\envs\\ox\\lib\\site-packages\\pygeos\\coordinates.py:107: DeprecationWarning: `np.object` is a deprecated alias for the builtin `object`. To silence this warning, use `object` by itself. Doing this will not modify any behavior and is safe. \n",
      "Deprecated in NumPy 1.20; for more details and guidance: https://numpy.org/devdocs/release/1.20.0-notes.html#deprecations\n",
      "  return lib.get_coordinates(np.asarray(geometry, dtype=np.object), include_z)\n",
      "C:\\conda\\envs\\ox\\lib\\site-packages\\pygeos\\coordinates.py:130: DeprecationWarning: `np.object` is a deprecated alias for the builtin `object`. To silence this warning, use `object` by itself. Doing this will not modify any behavior and is safe. \n",
      "Deprecated in NumPy 1.20; for more details and guidance: https://numpy.org/devdocs/release/1.20.0-notes.html#deprecations\n",
      "  geometry_arr = np.asarray(geometry, dtype=np.object)\n",
      "<ipython-input-1-2b7241b072db>:48: UserWarning: Column names longer than 10 characters will be truncated when saved to ESRI Shapefile.\n",
      "  footprints_save.drop(labels='nodes', axis=1).to_file('E:\\\\Barriers\\\\Buildings\\\\{0}'.format(file))\n"
     ]
    },
    {
     "name": "stdout",
     "output_type": "stream",
     "text": [
      "E:\\Barriers\\Polygons\\VA2.shp\n",
      "True\n",
      "E:\\Barriers\\Polygons\\VA3.shp\n",
      "True\n"
     ]
    },
    {
     "name": "stderr",
     "output_type": "stream",
     "text": [
      "C:\\conda\\envs\\ox\\lib\\site-packages\\pygeos\\strtree.py:55: DeprecationWarning: `np.object` is a deprecated alias for the builtin `object`. To silence this warning, use `object` by itself. Doing this will not modify any behavior and is safe. \n",
      "Deprecated in NumPy 1.20; for more details and guidance: https://numpy.org/devdocs/release/1.20.0-notes.html#deprecations\n",
      "  self.geometries = np.asarray(geometries, dtype=np.object)\n",
      "C:\\conda\\envs\\ox\\lib\\site-packages\\pygeos\\coordinates.py:107: DeprecationWarning: `np.object` is a deprecated alias for the builtin `object`. To silence this warning, use `object` by itself. Doing this will not modify any behavior and is safe. \n",
      "Deprecated in NumPy 1.20; for more details and guidance: https://numpy.org/devdocs/release/1.20.0-notes.html#deprecations\n",
      "  return lib.get_coordinates(np.asarray(geometry, dtype=np.object), include_z)\n",
      "C:\\conda\\envs\\ox\\lib\\site-packages\\pygeos\\coordinates.py:130: DeprecationWarning: `np.object` is a deprecated alias for the builtin `object`. To silence this warning, use `object` by itself. Doing this will not modify any behavior and is safe. \n",
      "Deprecated in NumPy 1.20; for more details and guidance: https://numpy.org/devdocs/release/1.20.0-notes.html#deprecations\n",
      "  geometry_arr = np.asarray(geometry, dtype=np.object)\n",
      "<ipython-input-1-2b7241b072db>:48: UserWarning: Column names longer than 10 characters will be truncated when saved to ESRI Shapefile.\n",
      "  footprints_save.drop(labels='nodes', axis=1).to_file('E:\\\\Barriers\\\\Buildings\\\\{0}'.format(file))\n"
     ]
    },
    {
     "name": "stdout",
     "output_type": "stream",
     "text": [
      "E:\\Barriers\\Polygons\\VA4.shp\n",
      "True\n",
      "E:\\Barriers\\Polygons\\VA5.shp\n",
      "True\n",
      "E:\\Barriers\\Polygons\\VA6.shp\n",
      "True\n",
      "E:\\Barriers\\Polygons\\VA7.shp\n",
      "True\n",
      "E:\\Barriers\\Polygons\\VA8.shp\n",
      "True\n",
      "E:\\Barriers\\Polygons\\VA9.shp\n",
      "True\n"
     ]
    },
    {
     "name": "stderr",
     "output_type": "stream",
     "text": [
      "C:\\conda\\envs\\ox\\lib\\site-packages\\pygeos\\strtree.py:55: DeprecationWarning: `np.object` is a deprecated alias for the builtin `object`. To silence this warning, use `object` by itself. Doing this will not modify any behavior and is safe. \n",
      "Deprecated in NumPy 1.20; for more details and guidance: https://numpy.org/devdocs/release/1.20.0-notes.html#deprecations\n",
      "  self.geometries = np.asarray(geometries, dtype=np.object)\n",
      "C:\\conda\\envs\\ox\\lib\\site-packages\\pygeos\\coordinates.py:107: DeprecationWarning: `np.object` is a deprecated alias for the builtin `object`. To silence this warning, use `object` by itself. Doing this will not modify any behavior and is safe. \n",
      "Deprecated in NumPy 1.20; for more details and guidance: https://numpy.org/devdocs/release/1.20.0-notes.html#deprecations\n",
      "  return lib.get_coordinates(np.asarray(geometry, dtype=np.object), include_z)\n",
      "C:\\conda\\envs\\ox\\lib\\site-packages\\pygeos\\coordinates.py:130: DeprecationWarning: `np.object` is a deprecated alias for the builtin `object`. To silence this warning, use `object` by itself. Doing this will not modify any behavior and is safe. \n",
      "Deprecated in NumPy 1.20; for more details and guidance: https://numpy.org/devdocs/release/1.20.0-notes.html#deprecations\n",
      "  geometry_arr = np.asarray(geometry, dtype=np.object)\n",
      "<ipython-input-1-2b7241b072db>:48: UserWarning: Column names longer than 10 characters will be truncated when saved to ESRI Shapefile.\n",
      "  footprints_save.drop(labels='nodes', axis=1).to_file('E:\\\\Barriers\\\\Buildings\\\\{0}'.format(file))\n"
     ]
    }
   ],
   "source": [
    "# Import packages to extract buildings using a polygon\n",
    "import os\n",
    "import osmnx as ox\n",
    "import geopandas\n",
    "import matplotlib.pyplot as plt\n",
    "from IPython.display import Image\n",
    "%matplotlib inline\n",
    "ox.config(log_console=True, use_cache=True)\n",
    "\n",
    "\n",
    "# Extract building footprints and save them as shp\n",
    "\n",
    "rootdir = 'E:\\\\Barriers\\\\Polygons'\n",
    "extensions = ('.shp')\n",
    "\n",
    "for subdir, dirs, files in os.walk(rootdir):\n",
    "    for file in files:\n",
    "        try:\n",
    "            ext = os.path.splitext(file)[-1].lower()\n",
    "            if ext in extensions:\n",
    "                print (os.path.join(subdir, file))\n",
    "                file_path = os.path.join(subdir, file)\n",
    "            \n",
    "                # import polygon\n",
    "                polygon = geopandas.read_file(file_path)     \n",
    "            \n",
    "                # extract just the geometry (shapely object) part\n",
    "                geom = polygon['geometry'].iloc[0]\n",
    "            \n",
    "                # make geometry valid\n",
    "                geom = geom.buffer(0)\n",
    "                print(geom.is_valid)\n",
    "            \n",
    "                # extract buildings using polygon and save footprints as shp\n",
    "                footprints = ox.geometries_from_polygon(geom, tags={'building':True})\n",
    "                \n",
    "                # project footprints\n",
    "                footprints = ox.project_gdf(footprints)\n",
    "                \n",
    "                # get indexes where name column has value 'node'\n",
    "                points = footprints[footprints['element_type'] == 'node'].index\n",
    "                \n",
    "                # delete these row indexes from dataFrame\n",
    "                footprints.drop(points , inplace=True)\n",
    "               \n",
    "                # save footprints as shp\n",
    "                footprints_save = footprints.applymap(lambda x: str(x) if isinstance(x, list) else x)\n",
    "                footprints_save.drop(labels='nodes', axis=1).to_file('E:\\\\Barriers\\\\Buildings\\\\{0}'.format(file))\n",
    "            \n",
    "        except:\n",
    "            pass\n"
   ]
  }
 ],
 "metadata": {
  "kernelspec": {
   "display_name": "Python 3",
   "language": "python",
   "name": "python3"
  },
  "language_info": {
   "codemirror_mode": {
    "name": "ipython",
    "version": 3
   },
   "file_extension": ".py",
   "mimetype": "text/x-python",
   "name": "python",
   "nbconvert_exporter": "python",
   "pygments_lexer": "ipython3",
   "version": "3.9.2"
  }
 },
 "nbformat": 4,
 "nbformat_minor": 5
}
