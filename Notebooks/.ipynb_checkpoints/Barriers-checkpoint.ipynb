{
 "cells": [
  {
   "cell_type": "markdown",
   "id": "dce2147d",
   "metadata": {},
   "source": [
    " # <strong>Road networks and robustness to flooding on US Atlantic and Gulf barrier islands</strong>\n",
    " ## <strong>- Download barrier island outlines for the Atlantic and Gulf coasts of the US -</strong>\n",
    " ### The purpose of this notebook is to retrieve outlines for the barrier islands located along the Atlantic and Gulf coasts of the US using the <em> Mulhern, Julia S., Johnson, Cari A., and John M. Martin 2021 Dataset for: Is barrier island morphology a function of tidal and wave regime?  The Hive: University of Utah Research Data Repository</em> https://hive.utah.edu/concern/datasets/cf95jb516?locale=en."
   ]
  },
  {
   "cell_type": "code",
   "execution_count": 3,
   "id": "6b4bc062",
   "metadata": {},
   "outputs": [],
   "source": [
    "### Packages\n",
    "import os\n",
    "import urllib\n",
    "import requests\n",
    "import zipfile\n",
    "import geopandas as gpd\n",
    "import shutil\n"
   ]
  },
  {
   "cell_type": "code",
   "execution_count": 4,
   "id": "e2d08cd9",
   "metadata": {},
   "outputs": [],
   "source": [
    "### Set working directory\n",
    "path=''\n",
    "os.chdir(path)"
   ]
  },
  {
   "cell_type": "code",
   "execution_count": 18,
   "id": "c32c79da",
   "metadata": {},
   "outputs": [],
   "source": [
    "### Dowload barrier island outlines from Mulhern et al., 2021\n",
    "\n",
    "# Create folder if it does no exist\n",
    "outdir= '.\\\\Data\\\\Barriers'\n",
    "if not os.path.exists(outdir):\n",
    "    os.makedirs(outdir)\n",
    "\n",
    "# Retrive zip file from repository and save it\n",
    "url = 'https://hive.utah.edu/downloads/7d278t05z'\n",
    "r = requests.get(url, allow_redirects=True)\n",
    "open('.\\\\Data\\\\Barriers\\\\Barriers.zip', 'wb').write(r.content)\n",
    "\n",
    "# Extract files\n",
    "with zipfile.ZipFile('.\\\\Data\\\\Barriers\\\\Barriers.zip', 'r') as zip_ref:\n",
    "    zip_ref.extractall('.\\\\Data\\\\Barriers\\\\')\n",
    "\n",
    "# Barrier outlines are duplicated, remove duplicated files\n",
    "my_dir = '.\\\\Data\\\\Barriers\\\\Coastal_Morph_Shapefiles_Exported_2020_06_01' \n",
    "for fname in os.listdir(my_dir):\n",
    "    if fname.endswith(\"xy_.dbf\") | fname.endswith(\"xy_.shp\") | fname.endswith(\"xy_.shx\"):\n",
    "        os.remove(os.path.join(my_dir, fname))\n",
    "        "
   ]
  },
  {
   "cell_type": "markdown",
   "id": "d2e9d919",
   "metadata": {},
   "source": [
    "### The Atlantic and Gulf coasts of the US comprehend the following states: Texas (TX), Louisiana (LA), Mississippi (MS), Alabama (AL), Florida (FL), Georgia (GA), South Carolina (SC), North Carolina (NC), Virginia (VA), Maryland (MD), Delaware (DE), New Jersey (NJ), New York (NY), Connecticut (CT), Rhode Island (RI), Massachussets (MA), New Hampshire (NH), Maine (ME)"
   ]
  },
  {
   "cell_type": "code",
   "execution_count": null,
   "id": "484928fb",
   "metadata": {},
   "outputs": [],
   "source": [
    "### Identify which barrier islands from Mulhern et al. are located along the Atlantic and Gulf coasts of the USA and move them to new folder\n",
    "\n",
    "rootdir = '.\\\\Data\\\\Barriers\\\\Coastal_Morph_Shapefiles_Exported_2020_06_01'\n",
    "\n",
    "# Create folder if it does no exist\n",
    "outdir= '.\\\\Data\\\\Barriers\\\\Barriers_AtlGulf'\n",
    "if not os.path.exists(outdir):\n",
    "    os.makedirs(outdir)\n",
    "\n",
    "AG_states=['TX','LA','MS','AL','FL','GA','SC','NC','VA','MD','DE','NJ','NY','CT','RI','MA','NH','ME'] # codes for states along the Atlantic and Gulf coasts \n",
    "\n",
    "# Iterate through folder files and check if they start with the AG codes. If True, move file to a different folder\n",
    "for subdir, dirs, files in os.walk(rootdir):\n",
    "    for file in files:\n",
    "        file_path = os.path.join(subdir, file)\n",
    "        if file.startswith(tuple(AG_states)):  \n",
    "            shutil.move(file_path, os.path.join(outdir, os.path.basename(file_path))) "
   ]
  },
  {
   "cell_type": "code",
   "execution_count": null,
   "id": "3170031d",
   "metadata": {},
   "outputs": [],
   "source": [
    "### Downloaded polygons do not include a prj file, so crs (WGS84) needs to be defined\n",
    "\n",
    "rootdir = '.\\\\Data\\\\Barriers\\\\Barriers_AtlGulf'\n",
    "extensions = ('.shp')\n",
    "\n",
    "# Iterate through folder containing the shapefiles, set crs and save shp so they have a prj file. \n",
    "for subdir, dirs, files in os.walk(rootdir):\n",
    "    for file in files:\n",
    "        ext = os.path.splitext(file)[-1].lower()\n",
    "        if ext in extensions:\n",
    "            file_path = os.path.join(subdir, file)\n",
    "            name= file.replace('.shp','')\n",
    "            data= gpd.read_file(file_path)\n",
    "            data= data.set_crs(epsg=4326)\n",
    "            data.to_file(file_path)"
   ]
  },
  {
   "cell_type": "code",
   "execution_count": null,
   "id": "4cade736",
   "metadata": {},
   "outputs": [],
   "source": [
    "### Create 200 m buffer around barrier outlines to clip CUDEM tiles and make sure that all network nodes (when downloaded) have elevation data\n",
    "\n",
    "# Loop within polygons folder and create a 200m buffer to increase the size of each barrier.  \n",
    "rootdir = '.\\\\Data\\\\Barriers\\\\Barriers_AtlGulf'\n",
    "extensions = ('.shp')\n",
    "outdir = '.\\\\Data\\\\Barriers\\\\Buffers_200m'\n",
    "\n",
    "# Create folder if it does no exist\n",
    "if not os.path.exists(outdir):\n",
    "    os.makedirs(outdir)\n",
    "\n",
    "for subdir, dirs, files in os.walk(rootdir):\n",
    "    for file in files:\n",
    "        ext = os.path.splitext(file)[-1].lower()\n",
    "        if ext in extensions:\n",
    "            file_path = os.path.join(subdir, file)\n",
    "            name= file.replace('.shp','')\n",
    "            # Read polygons\n",
    "            barrier = gpd.read_file(file_path)\n",
    "            # Change crs to projected\n",
    "            barrier = barrier.to_crs('esri:102003')\n",
    "            # Buffer 100m\n",
    "            barrier2 = barrier['geometry'] = barrier.geometry.buffer(200)\n",
    "            # Reproject to original crs\n",
    "            barrier2= barrier2.to_crs(epsg=4326)\n",
    "            # Save file\n",
    "            barrier2.to_file('.\\\\Data\\\\Barriers\\\\Buffers_200m\\\\{0}.shp'.format(name))"
   ]
  }
 ],
 "metadata": {
  "kernelspec": {
   "display_name": "Python 3 (ipykernel)",
   "language": "python",
   "name": "python3"
  },
  "language_info": {
   "codemirror_mode": {
    "name": "ipython",
    "version": 3
   },
   "file_extension": ".py",
   "mimetype": "text/x-python",
   "name": "python",
   "nbconvert_exporter": "python",
   "pygments_lexer": "ipython3",
   "version": "3.9.5"
  }
 },
 "nbformat": 4,
 "nbformat_minor": 5
}
