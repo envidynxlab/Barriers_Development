{
 "cells": [
  {
   "cell_type": "markdown",
   "id": "ad845b7a",
   "metadata": {},
   "source": [
    " # <strong>Road networks and robustness to flooding on US Atlantic and Gulf barrier islands</strong>\n",
    " ## <strong>- Download drivable road networks for the Atlantic and Gulf barrier islands -</strong>\n",
    " ### The purpose of this notebook is to download drivable road networks from OSM and retrieve the elevation of each network node using CUDEM and the exceedance probability of extreme water events associated to each node elevation."
   ]
  },
  {
   "cell_type": "code",
   "execution_count": 2,
   "id": "6a94d0c6",
   "metadata": {},
   "outputs": [],
   "source": [
    "# Packages\n",
    "\n",
    "import os\n",
    "import osmnx as ox\n",
    "import pandas as pd\n",
    "import geopandas as gpd\n",
    "import networkx as nx\n",
    "%matplotlib inline\n",
    "import matplotlib.pyplot as plt\n",
    "import rasterio\n",
    "import numpy as np"
   ]
  },
  {
   "cell_type": "code",
   "execution_count": 3,
   "id": "3941de9d",
   "metadata": {},
   "outputs": [],
   "source": [
    "### Set working directory\n",
    "os.chdir('E:\\\\Networks')"
   ]
  },
  {
   "cell_type": "code",
   "execution_count": null,
   "id": "00261881",
   "metadata": {},
   "outputs": [],
   "source": [
    "### Extract road networks from OSM, retrieve node elevation using CUDEM and calculate exceedance probability for each node (in return periods)\n",
    "\n",
    "# Create folder if it doesn't exist\n",
    "outdir= '.\\\\Data\\\\Roads'\n",
    "if not os.path.exists(outdir):\n",
    "    os.makedirs(outdir)\n",
    "    \n",
    "    \n",
    "# Loop through folder containing barriers outlines (original polygons, not buffers) and use them as a mask to extract OSMnx drivable networks\n",
    "rootdir = '.\\\\Data\\\\Barriers\\\\Barriers_AtlGulf'\n",
    "extensions = ('.shp')\n",
    "\n",
    "for subdir, dirs, files in os.walk(rootdir):\n",
    "    for file in files:\n",
    "        ext = os.path.splitext(file)[-1].lower()\n",
    "        if ext in extensions:\n",
    "            file_path = os.path.join(subdir, file)\n",
    "            barrier_name= file.replace('.shp', '')\n",
    "            print(barrier_name)\n",
    "            \n",
    "            # try-statment handles exceptions that generate errors or make Python stop when networks cannot be pulled (because not all barrier islands have drivable roads)\n",
    "            try: \n",
    "                # pull drivable networks using cleaned barrier polygons\n",
    "                poly = gpd.read_file(file_path)\n",
    "                poly_geo = poly['geometry'].iloc[0]\n",
    "                poly_geo = poly_geo.buffer(0)\n",
    "                G = ox.graph_from_polygon(poly_geo, network_type='drive', simplify=True, clean_periphery=True)\n",
    "                \n",
    "                # only for networks that have more than 100 nodes\n",
    "                if len(G.nodes(data=True))>100: \n",
    "                    \n",
    "                    # give to each node a new index based on integers from 0 and then add the osmid as an attribute\n",
    "                    osmids = list(G.nodes)\n",
    "                    G = nx.relabel.convert_node_labels_to_integers(G)\n",
    "                    osmid_values = {k:v for k, v in zip(G.nodes, osmids)}\n",
    "                    nx.set_node_attributes(G, osmid_values, 'initial_osmid')\n",
    "                    # retrieve nodes and edges in geodataframes\n",
    "                    nodes, edges = ox.graph_to_gdfs(G)\n",
    "                    # create an index for nodes in the geodataframe\n",
    "                    nodes['index'] = range(0, len(nodes))\n",
    "                    # convert nodes gdf to cudem's crs \n",
    "                    nodes = nodes.to_crs(\"epsg:4269\")\n",
    "                    # get coordinates of nodes\n",
    "                    coords = [(x,y) for x, y in zip(nodes.x, nodes.y)]\n",
    "                    # open corresponding CUDEM mosaic\n",
    "                    cudem= rasterio.open('.\\\\Data\\\\CUDEM\\\\CUDEM_Mosaic\\\\{0}.tif'.format(barrier_name))\n",
    "                    \n",
    "                    # sample the raster at every point location and store values in geodataframe\n",
    "                    nodes['elevation'] = [x for x in cudem.sample(coords)]\n",
    "                    nodes['elevation'] = nodes['elevation'].astype(float)\n",
    "                \n",
    "                    # calculate exceedance probability for each network node according to their elevation \n",
    "                    barrier_name= file.replace('_geo.shp', '')\n",
    "                    exceed = pd.read_csv(\".\\\\Data\\\\Exceedance\\\\Probability\\\\{0}_Exceedance.csv\".format(barrier_name), sep=\",\", header=0)\n",
    "                    for i in range(0,len(nodes)):\n",
    "                        node_elev= float(nodes.elevation[i])\n",
    "                        exceed_x= exceed.MaxWL\n",
    "                        exceed_y= exceed.Return_Pd\n",
    "                        exceedance= np.interp(node_elev, exceed_x, exceed_y)\n",
    "                        nodes.at[i,'exceedance']=exceedance\n",
    "\n",
    "                    # set elevation and exceedance as attributes in the graph and save graph \n",
    "                    nx.set_node_attributes(G, nodes.elevation, 'Elevations')\n",
    "                    nx.set_node_attributes(G, nodes.exceedance, 'Exceedance')\n",
    "                    ox.save_graphml(G, filepath='.\\\\Data\\\\Roads\\\\{0}.graphml'.format(barrier_name))\n",
    "                \n",
    "            except:\n",
    "                continue\n",
    "            "
   ]
  }
 ],
 "metadata": {
  "kernelspec": {
   "display_name": "Python 3 (ipykernel)",
   "language": "python",
   "name": "python3"
  },
  "language_info": {
   "codemirror_mode": {
    "name": "ipython",
    "version": 3
   },
   "file_extension": ".py",
   "mimetype": "text/x-python",
   "name": "python",
   "nbconvert_exporter": "python",
   "pygments_lexer": "ipython3",
   "version": "3.9.5"
  }
 },
 "nbformat": 4,
 "nbformat_minor": 5
}
