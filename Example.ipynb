{
 "cells": [
  {
   "cell_type": "code",
   "execution_count": null,
   "metadata": {},
   "outputs": [],
   "source": [
    "import os\n",
    "\n",
    "# Import packages needed to extract road network using a polygon\n",
    "import osmnx as ox\n",
    "import geopandas\n",
    "\n",
    "\n",
    "# Import packages to extract buildings\n",
    "import matplotlib.pyplot as plt\n",
    "import osmnx as ox\n",
    "from IPython.display import Image\n",
    "\n",
    "# Other packages\n",
    "import networkx as nx # to work with graphs\n",
    "import pandas as pd\n",
    "import numpy as np\n",
    "import scipy as sp # for the adjacency matrix\n",
    "\n",
    "%matplotlib inline\n",
    "ox.config(log_console=True, use_cache=True)\n",
    "ox.__version__"
   ]
  },
  {
   "cell_type": "code",
   "execution_count": null,
   "metadata": {},
   "outputs": [],
   "source": [
    "# Read polygons\n",
    "FL11 = geopandas.read_file(\"C:\\\\Users\\\\Sofia\\\\Dropbox\\\\Barriers_US\\\\Polygons\\\\FL11_geo.shp\")\n",
    "# Extract just the geometry (shapely object) part\n",
    "FL11_geo = FL11['geometry'].iloc[0]\n",
    "# Clean it with a buffer\n",
    "FL11_geo = FL11_geo.buffer(0)\n",
    "FL11_geo.is_valid"
   ]
  },
  {
   "cell_type": "code",
   "execution_count": null,
   "metadata": {},
   "outputs": [],
   "source": [
    "# Pull the roads with OSMnx\n",
    "G = ox.graph_from_polygon(FL11_geo)\n",
    "\n",
    "# Plot the network and print basic statistics\n",
    "ox.plot_graph(G)\n",
    "ox.stats.basic_stats(G, area=None, clean_intersects=False, tolerance=15, circuity_dist='gc')\n"
   ]
  },
  {
   "cell_type": "code",
   "execution_count": null,
   "metadata": {},
   "outputs": [],
   "source": [
    "osmids = list(G.nodes)\n",
    "G = nx.relabel.convert_node_labels_to_integers(G)\n",
    "osmid_values = {k:v for k, v in zip(G.nodes, osmids)}\n",
    "nx.set_node_attributes(G, osmid_values, 'osmid')"
   ]
  },
  {
   "cell_type": "code",
   "execution_count": null,
   "metadata": {},
   "outputs": [],
   "source": [
    "# See info in nodes\n",
    "G.nodes(data=True)"
   ]
  },
  {
   "cell_type": "code",
   "execution_count": null,
   "metadata": {},
   "outputs": [],
   "source": [
    "# Read shp\n",
    "Elevation = geopandas.read_file(\"C:\\\\Users\\\\Sofia\\\\Dropbox\\\\Barriers_US\\\\Elevation\\\\FL11_nodes.shp\")\n",
    "type(Elevation)"
   ]
  },
  {
   "cell_type": "code",
   "execution_count": null,
   "metadata": {},
   "outputs": [],
   "source": [
    "Elevation =  pd.DataFrame(Elevation)\n",
    "type(Elevation)"
   ]
  },
  {
   "cell_type": "code",
   "execution_count": null,
   "metadata": {},
   "outputs": [],
   "source": [
    "E = Elevation.elevations\n",
    "len(E)"
   ]
  },
  {
   "cell_type": "code",
   "execution_count": null,
   "metadata": {},
   "outputs": [],
   "source": [
    "# Add to each node its respective elevation\n",
    "for node in G.nodes():\n",
    "    G.add_node(node,elevation=E[node])\n",
    "    "
   ]
  },
  {
   "cell_type": "code",
   "execution_count": null,
   "metadata": {},
   "outputs": [],
   "source": [
    "G.nodes(data=True)"
   ]
  },
  {
   "cell_type": "code",
   "execution_count": null,
   "metadata": {},
   "outputs": [],
   "source": [
    "# Save street network as graph\n",
    "ox.save_graphml(G, filepath='C:\\\\Users\\\\Sofia\\\\Dropbox\\\\Barriers_US\\\\Example\\\\FL11_network.graphml')\n"
   ]
  },
  {
   "cell_type": "code",
   "execution_count": null,
   "metadata": {},
   "outputs": [],
   "source": [
    "G2 = pd.DataFrame.from_dict(dict(G.nodes(data=True)), orient='index')\n",
    "type(G2)"
   ]
  },
  {
   "cell_type": "code",
   "execution_count": null,
   "metadata": {},
   "outputs": [],
   "source": [
    "# Stair histogram for elevations\n",
    "fig = plt.hist(G2.elevation, bins = 20, histtype='step')\n",
    "plt.title('FL11')\n",
    "plt.xlabel(\"Elevation\")\n",
    "plt.ylabel(\"Frequency\")\n",
    "plt.savefig(\"C:\\\\Users\\\\Sofia\\\\Dropbox\\\\Barriers_US\\\\Example\\\\FL11.png\",facecolor='w')"
   ]
  },
  {
   "cell_type": "code",
   "execution_count": null,
   "metadata": {},
   "outputs": [],
   "source": [
    "# Create adjacency matrix \n",
    "\n",
    "A = nx.adjacency_matrix(G)\n",
    "\n",
    "print(A.todense())"
   ]
  },
  {
   "cell_type": "code",
   "execution_count": null,
   "metadata": {},
   "outputs": [],
   "source": []
  }
 ],
 "metadata": {
  "kernelspec": {
   "display_name": "Python 3",
   "language": "python",
   "name": "python3"
  },
  "language_info": {
   "codemirror_mode": {
    "name": "ipython",
    "version": 3
   },
   "file_extension": ".py",
   "mimetype": "text/x-python",
   "name": "python",
   "nbconvert_exporter": "python",
   "pygments_lexer": "ipython3",
   "version": "3.9.1"
  }
 },
 "nbformat": 4,
 "nbformat_minor": 4
}
